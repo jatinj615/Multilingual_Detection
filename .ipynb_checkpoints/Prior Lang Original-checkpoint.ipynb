{
 "cells": [
  {
   "cell_type": "code",
   "execution_count": 1,
   "metadata": {},
   "outputs": [],
   "source": [
    "import numpy as np\n",
    "import pandas as pd\n",
    "import pickle"
   ]
  },
  {
   "cell_type": "code",
   "execution_count": 2,
   "metadata": {},
   "outputs": [],
   "source": [
    "df = pd.read_fwf('./wili dataset/x_train.txt', header=None, encoding=\"utf_8\", delimeter = '\\n')\n",
    "X_train = df[[0]]\n",
    "df = pd.read_fwf('./wili dataset/x_test.txt', header=None, encoding=\"utf_8\", delimeter = '\\n')\n",
    "X_test = df[[0]]"
   ]
  },
  {
   "cell_type": "code",
   "execution_count": 3,
   "metadata": {},
   "outputs": [],
   "source": [
    "target = pd.read_fwf('./wili dataset/y_train.txt',header = None, encoding=\"utf_8\", delimeter = '\\n')\n",
    "y_train = target[[0]]\n",
    "target = pd.read_fwf('./wili dataset/y_test.txt',header = None, encoding=\"utf_8\", delimeter = '\\n')\n",
    "y_test = target[[0]]"
   ]
  },
  {
   "cell_type": "code",
   "execution_count": 4,
   "metadata": {},
   "outputs": [],
   "source": [
    "y_train[y_train == 'be-tara'] = 'be-tarask'\n",
    "y_train[y_train == 'roa-tar'] = 'roa-tara'"
   ]
  },
  {
   "cell_type": "code",
   "execution_count": 5,
   "metadata": {},
   "outputs": [],
   "source": [
    "languages = ['eng', 'hin', 'mar', 'guj', 'tam', 'tcy', 'tel', 'pan', 'ben', 'mai']"
   ]
  },
  {
   "cell_type": "code",
   "execution_count": 6,
   "metadata": {},
   "outputs": [],
   "source": [
    "train_index = y_train.index[y_train[0].isin(languages)].tolist()"
   ]
  },
  {
   "cell_type": "code",
   "execution_count": 7,
   "metadata": {},
   "outputs": [],
   "source": [
    "test_index = y_test.index[y_test[0].isin(languages)].tolist()"
   ]
  },
  {
   "cell_type": "code",
   "execution_count": 8,
   "metadata": {},
   "outputs": [],
   "source": [
    "X_train_p = X_train.iloc[train_index,:]\n",
    "X_test_p = X_test.iloc[test_index,:]"
   ]
  },
  {
   "cell_type": "code",
   "execution_count": 9,
   "metadata": {},
   "outputs": [],
   "source": [
    "y_train_p = y_train.iloc[train_index, :]\n",
    "y_test_p = y_test.iloc[test_index, :]"
   ]
  },
  {
   "cell_type": "markdown",
   "metadata": {},
   "source": [
    "### Tokenize Labels"
   ]
  },
  {
   "cell_type": "code",
   "execution_count": 10,
   "metadata": {},
   "outputs": [],
   "source": [
    "label2int = {}\n",
    "int2label = {}\n",
    "counter = 0\n",
    "for label in languages:\n",
    "    if label not in label2int:\n",
    "        label2int[label] = counter\n",
    "        int2label[counter] = label\n",
    "    counter += 1"
   ]
  },
  {
   "cell_type": "code",
   "execution_count": 11,
   "metadata": {},
   "outputs": [],
   "source": [
    "pickle.dump(label2int, open('label2int_org.pkl', 'wb'))\n",
    "pickle.dump(int2label, open('int2label_org.pkl', 'wb'))"
   ]
  },
  {
   "cell_type": "markdown",
   "metadata": {},
   "source": [
    "### Tokenize target Variables"
   ]
  },
  {
   "cell_type": "code",
   "execution_count": 12,
   "metadata": {},
   "outputs": [],
   "source": [
    "y_train_int = []\n",
    "for label in y_train_p[0]:\n",
    "    y_train_int.append(label2int[label])"
   ]
  },
  {
   "cell_type": "code",
   "execution_count": 13,
   "metadata": {},
   "outputs": [],
   "source": [
    "y_test_int = []\n",
    "for label in y_test_p[0]:\n",
    "    y_test_int.append(label2int[label])"
   ]
  },
  {
   "cell_type": "markdown",
   "metadata": {},
   "source": [
    "### Data Preprocessing"
   ]
  },
  {
   "cell_type": "code",
   "execution_count": 14,
   "metadata": {},
   "outputs": [],
   "source": [
    "from sklearn.feature_extraction.text import TfidfVectorizer"
   ]
  },
  {
   "cell_type": "code",
   "execution_count": 15,
   "metadata": {},
   "outputs": [],
   "source": [
    "vectorizer = TfidfVectorizer(analyzer='char',min_df=25,lowercase=True, norm='l2')"
   ]
  },
  {
   "cell_type": "code",
   "execution_count": 16,
   "metadata": {},
   "outputs": [
    {
     "data": {
      "text/plain": [
       "TfidfVectorizer(analyzer='char', binary=False, decode_error='strict',\n",
       "        dtype=<class 'numpy.int64'>, encoding='utf-8', input='content',\n",
       "        lowercase=True, max_df=1.0, max_features=None, min_df=25,\n",
       "        ngram_range=(1, 1), norm='l2', preprocessor=None, smooth_idf=True,\n",
       "        stop_words=None, strip_accents=None, sublinear_tf=False,\n",
       "        token_pattern='(?u)\\\\b\\\\w\\\\w+\\\\b', tokenizer=None, use_idf=True,\n",
       "        vocabulary=None)"
      ]
     },
     "execution_count": 16,
     "metadata": {},
     "output_type": "execute_result"
    }
   ],
   "source": [
    "vectorizer.fit(X_train_p[0])"
   ]
  },
  {
   "cell_type": "code",
   "execution_count": 17,
   "metadata": {},
   "outputs": [],
   "source": [
    "X_train2int = vectorizer.transform(X_train_p[0]).toarray()"
   ]
  },
  {
   "cell_type": "code",
   "execution_count": 18,
   "metadata": {},
   "outputs": [],
   "source": [
    "X_test2int = vectorizer.transform(X_test_p[0]).toarray()"
   ]
  },
  {
   "cell_type": "code",
   "execution_count": 19,
   "metadata": {},
   "outputs": [],
   "source": [
    "pickle.dump(vectorizer, open('vectorizer_original.pkl', 'wb'))"
   ]
  },
  {
   "cell_type": "markdown",
   "metadata": {},
   "source": [
    "### Scaler"
   ]
  },
  {
   "cell_type": "code",
   "execution_count": 20,
   "metadata": {},
   "outputs": [],
   "source": [
    "from sklearn.preprocessing import StandardScaler"
   ]
  },
  {
   "cell_type": "code",
   "execution_count": 21,
   "metadata": {},
   "outputs": [],
   "source": [
    "sc = StandardScaler()"
   ]
  },
  {
   "cell_type": "code",
   "execution_count": 22,
   "metadata": {},
   "outputs": [
    {
     "data": {
      "text/plain": [
       "StandardScaler(copy=True, with_mean=True, with_std=True)"
      ]
     },
     "execution_count": 22,
     "metadata": {},
     "output_type": "execute_result"
    }
   ],
   "source": [
    "sc.fit(X_train2int)"
   ]
  },
  {
   "cell_type": "code",
   "execution_count": 23,
   "metadata": {},
   "outputs": [],
   "source": [
    "X_train2int_sc = sc.transform(X_train2int)\n",
    "X_test2int_sc = sc.transform(X_test2int)"
   ]
  },
  {
   "cell_type": "code",
   "execution_count": 24,
   "metadata": {},
   "outputs": [],
   "source": [
    "pickle.dump(sc, open('scaler_original.pkl', 'wb'))"
   ]
  },
  {
   "cell_type": "markdown",
   "metadata": {},
   "source": [
    "### PCA"
   ]
  },
  {
   "cell_type": "code",
   "execution_count": 25,
   "metadata": {},
   "outputs": [],
   "source": [
    "from sklearn.decomposition import PCA"
   ]
  },
  {
   "cell_type": "code",
   "execution_count": 26,
   "metadata": {},
   "outputs": [],
   "source": [
    "pca = PCA(n_components=200)"
   ]
  },
  {
   "cell_type": "code",
   "execution_count": 27,
   "metadata": {},
   "outputs": [
    {
     "data": {
      "text/plain": [
       "PCA(copy=True, iterated_power='auto', n_components=200, random_state=None,\n",
       "  svd_solver='auto', tol=0.0, whiten=False)"
      ]
     },
     "execution_count": 27,
     "metadata": {},
     "output_type": "execute_result"
    }
   ],
   "source": [
    "pca.fit(X_train2int_sc)"
   ]
  },
  {
   "cell_type": "code",
   "execution_count": 28,
   "metadata": {},
   "outputs": [],
   "source": [
    "X_train_pca = pca.transform(X_train2int_sc)"
   ]
  },
  {
   "cell_type": "code",
   "execution_count": 29,
   "metadata": {},
   "outputs": [],
   "source": [
    "X_test_pca = pca.transform(X_test2int_sc)"
   ]
  },
  {
   "cell_type": "code",
   "execution_count": 30,
   "metadata": {},
   "outputs": [],
   "source": [
    "import matplotlib.pyplot as plt"
   ]
  },
  {
   "cell_type": "code",
   "execution_count": 31,
   "metadata": {},
   "outputs": [
    {
     "data": {
      "image/png": "[encoded data removed]",
      "text/plain": [
       "<Figure size 432x288 with 1 Axes>"
      ]
     },
     "metadata": {},
     "output_type": "display_data"
    }
   ],
   "source": [
    "plt.plot(np.cumsum(pca.explained_variance_ratio_)*100)\n",
    "plt.xlabel(\"No. of components\")\n",
    "plt.ylabel(\"cummulative explained Variance\");"
   ]
  },
  {
   "cell_type": "code",
   "execution_count": 32,
   "metadata": {},
   "outputs": [],
   "source": [
    "pickle.dump(pca, open('pca_original.pkl', 'wb'))"
   ]
  },
  {
   "cell_type": "markdown",
   "metadata": {},
   "source": [
    "### One Hot Encoding"
   ]
  },
  {
   "cell_type": "code",
   "execution_count": 33,
   "metadata": {},
   "outputs": [],
   "source": [
    "from sklearn.preprocessing import OneHotEncoder"
   ]
  },
  {
   "cell_type": "code",
   "execution_count": 34,
   "metadata": {},
   "outputs": [],
   "source": [
    "y_train_int = np.array(y_train_int).reshape(-1, 1)\n",
    "y_test_int = np.array(y_test_int).reshape(-1, 1)"
   ]
  },
  {
   "cell_type": "code",
   "execution_count": 35,
   "metadata": {},
   "outputs": [],
   "source": [
    "enc = OneHotEncoder()"
   ]
  },
  {
   "cell_type": "code",
   "execution_count": 36,
   "metadata": {},
   "outputs": [
    {
     "data": {
      "text/plain": [
       "OneHotEncoder(categorical_features='all', dtype=<class 'numpy.float64'>,\n",
       "       handle_unknown='error', n_values='auto', sparse=True)"
      ]
     },
     "execution_count": 36,
     "metadata": {},
     "output_type": "execute_result"
    }
   ],
   "source": [
    "enc.fit(y_train_int)"
   ]
  },
  {
   "cell_type": "code",
   "execution_count": 37,
   "metadata": {},
   "outputs": [],
   "source": [
    "y_train_enc = enc.transform(y_train_int)\n",
    "y_test_enc = enc.transform(y_test_int)"
   ]
  },
  {
   "cell_type": "markdown",
   "metadata": {},
   "source": [
    "## Design ANN"
   ]
  },
  {
   "cell_type": "code",
   "execution_count": 38,
   "metadata": {},
   "outputs": [
    {
     "name": "stderr",
     "output_type": "stream",
     "text": [
      "/home/jatin/anaconda3/lib/python3.6/site-packages/h5py/__init__.py:36: FutureWarning: Conversion of the second argument of issubdtype from `float` to `np.floating` is deprecated. In future, it will be treated as `np.float64 == np.dtype(float).type`.\n",
      "  from ._conv import register_converters as _register_converters\n",
      "Using TensorFlow backend.\n"
     ]
    }
   ],
   "source": [
    "import tensorflow as tf\n",
    "from keras.models import Sequential\n",
    "from keras.layers import Dense\n",
    "from keras.layers import Dropout\n",
    "from keras.models import model_from_json"
   ]
  },
  {
   "cell_type": "code",
   "execution_count": 39,
   "metadata": {},
   "outputs": [
    {
     "name": "stderr",
     "output_type": "stream",
     "text": [
      "/home/jatin/anaconda3/lib/python3.6/site-packages/ipykernel_launcher.py:2: UserWarning: Update your `Dense` call to the Keras 2 API: `Dense(kernel_initializer=\"uniform\", activation=\"relu\", input_dim=200, units=160)`\n",
      "  \n",
      "/home/jatin/anaconda3/lib/python3.6/site-packages/ipykernel_launcher.py:4: UserWarning: Update your `Dense` call to the Keras 2 API: `Dense(kernel_initializer=\"uniform\", activation=\"relu\", units=160)`\n",
      "  after removing the cwd from sys.path.\n",
      "/home/jatin/anaconda3/lib/python3.6/site-packages/ipykernel_launcher.py:6: UserWarning: Update your `Dense` call to the Keras 2 API: `Dense(kernel_initializer=\"uniform\", activation=\"relu\", units=160)`\n",
      "  \n",
      "/home/jatin/anaconda3/lib/python3.6/site-packages/ipykernel_launcher.py:8: UserWarning: Update your `Dense` call to the Keras 2 API: `Dense(kernel_initializer=\"uniform\", activation=\"softmax\", units=10)`\n",
      "  \n"
     ]
    }
   ],
   "source": [
    "clf = Sequential()\n",
    "clf.add(Dense(output_dim = 160, kernel_initializer = 'uniform', activation='relu', input_dim = 200))\n",
    "clf.add(Dropout(rate=0.2))\n",
    "clf.add(Dense(output_dim = 160, kernel_initializer = 'uniform', activation='relu'))\n",
    "clf.add(Dropout(rate=0.2))\n",
    "clf.add(Dense(output_dim = 160, kernel_initializer = 'uniform', activation='relu'))\n",
    "clf.add(Dropout(rate=0.2))\n",
    "clf.add(Dense(output_dim =10  , kernel_initializer = 'uniform', activation='softmax'))"
   ]
  },
  {
   "cell_type": "code",
   "execution_count": 40,
   "metadata": {},
   "outputs": [],
   "source": [
    "clf.compile(optimizer= 'adam', loss='categorical_crossentropy', metrics = ['accuracy'])"
   ]
  },
  {
   "cell_type": "code",
   "execution_count": 41,
   "metadata": {},
   "outputs": [
    {
     "name": "stdout",
     "output_type": "stream",
     "text": [
      "Train on 5000 samples, validate on 5000 samples\n",
      "Epoch 1/50\n",
      "5000/5000 [==============================] - 2s 374us/step - loss: 0.5806 - acc: 0.8502 - val_loss: 0.1438 - val_acc: 0.9640\n",
      "Epoch 2/50\n",
      "5000/5000 [==============================] - 1s 266us/step - loss: 0.1309 - acc: 0.9682 - val_loss: 0.1349 - val_acc: 0.9652\n",
      "Epoch 3/50\n",
      "5000/5000 [==============================] - 2s 374us/step - loss: 0.1148 - acc: 0.9728 - val_loss: 0.1321 - val_acc: 0.9676\n",
      "Epoch 4/50\n",
      "5000/5000 [==============================] - 1s 276us/step - loss: 0.1045 - acc: 0.9736 - val_loss: 0.1488 - val_acc: 0.9630\n",
      "Epoch 5/50\n",
      "5000/5000 [==============================] - 1s 257us/step - loss: 0.0985 - acc: 0.9756 - val_loss: 0.1520 - val_acc: 0.9632\n",
      "Epoch 6/50\n",
      "5000/5000 [==============================] - 1s 257us/step - loss: 0.0921 - acc: 0.9782 - val_loss: 0.1521 - val_acc: 0.9646\n",
      "Epoch 7/50\n",
      "5000/5000 [==============================] - 1s 294us/step - loss: 0.0893 - acc: 0.9754 - val_loss: 0.1598 - val_acc: 0.9640\n",
      "Epoch 8/50\n",
      "5000/5000 [==============================] - 1s 264us/step - loss: 0.0851 - acc: 0.9770 - val_loss: 0.1520 - val_acc: 0.9654\n",
      "Epoch 9/50\n",
      "5000/5000 [==============================] - 2s 303us/step - loss: 0.0753 - acc: 0.9802 - val_loss: 0.1631 - val_acc: 0.9630\n",
      "Epoch 10/50\n",
      "5000/5000 [==============================] - 1s 254us/step - loss: 0.0718 - acc: 0.9798 - val_loss: 0.1645 - val_acc: 0.9654\n",
      "Epoch 11/50\n",
      "5000/5000 [==============================] - 1s 243us/step - loss: 0.0803 - acc: 0.9782 - val_loss: 0.2084 - val_acc: 0.9578\n",
      "Epoch 12/50\n",
      "5000/5000 [==============================] - 1s 255us/step - loss: 0.0806 - acc: 0.9784 - val_loss: 0.1589 - val_acc: 0.9638\n",
      "Epoch 13/50\n",
      "5000/5000 [==============================] - 1s 282us/step - loss: 0.0805 - acc: 0.9788 - val_loss: 0.1715 - val_acc: 0.9644\n",
      "Epoch 14/50\n",
      "5000/5000 [==============================] - 2s 303us/step - loss: 0.0784 - acc: 0.9808 - val_loss: 0.1607 - val_acc: 0.9634\n",
      "Epoch 15/50\n",
      "5000/5000 [==============================] - 2s 330us/step - loss: 0.0701 - acc: 0.9818 - val_loss: 0.1599 - val_acc: 0.9644\n",
      "Epoch 16/50\n",
      "5000/5000 [==============================] - 1s 263us/step - loss: 0.0586 - acc: 0.9832 - val_loss: 0.1708 - val_acc: 0.9674\n",
      "Epoch 17/50\n",
      "5000/5000 [==============================] - 1s 270us/step - loss: 0.0570 - acc: 0.9838 - val_loss: 0.1606 - val_acc: 0.9664\n",
      "Epoch 18/50\n",
      "5000/5000 [==============================] - 2s 303us/step - loss: 0.0473 - acc: 0.9836 - val_loss: 0.1750 - val_acc: 0.9672\n",
      "Epoch 19/50\n",
      "5000/5000 [==============================] - 1s 294us/step - loss: 0.0628 - acc: 0.9826 - val_loss: 0.1808 - val_acc: 0.9632\n",
      "Epoch 20/50\n",
      "5000/5000 [==============================] - 1s 281us/step - loss: 0.0490 - acc: 0.9868 - val_loss: 0.1867 - val_acc: 0.9670\n",
      "Epoch 21/50\n",
      "5000/5000 [==============================] - 2s 358us/step - loss: 0.0545 - acc: 0.9842 - val_loss: 0.1861 - val_acc: 0.9658\n",
      "Epoch 22/50\n",
      "5000/5000 [==============================] - 2s 312us/step - loss: 0.0480 - acc: 0.9856 - val_loss: 0.1937 - val_acc: 0.9674\n",
      "Epoch 23/50\n",
      "5000/5000 [==============================] - 1s 255us/step - loss: 0.0443 - acc: 0.9882 - val_loss: 0.1914 - val_acc: 0.9638\n",
      "Epoch 24/50\n",
      "5000/5000 [==============================] - 1s 257us/step - loss: 0.0437 - acc: 0.9882 - val_loss: 0.1957 - val_acc: 0.9672\n",
      "Epoch 25/50\n",
      "5000/5000 [==============================] - 1s 258us/step - loss: 0.0457 - acc: 0.9850 - val_loss: 0.2107 - val_acc: 0.9672\n",
      "Epoch 26/50\n",
      "5000/5000 [==============================] - 1s 252us/step - loss: 0.0360 - acc: 0.9888 - val_loss: 0.2217 - val_acc: 0.9634\n",
      "Epoch 27/50\n",
      "5000/5000 [==============================] - 1s 251us/step - loss: 0.0415 - acc: 0.9878 - val_loss: 0.2303 - val_acc: 0.9658\n",
      "Epoch 28/50\n",
      "5000/5000 [==============================] - 1s 244us/step - loss: 0.0434 - acc: 0.9882 - val_loss: 0.2131 - val_acc: 0.9646\n",
      "Epoch 29/50\n",
      "5000/5000 [==============================] - 1s 265us/step - loss: 0.0449 - acc: 0.9876 - val_loss: 0.1954 - val_acc: 0.9674\n",
      "Epoch 30/50\n",
      "5000/5000 [==============================] - 1s 268us/step - loss: 0.0484 - acc: 0.9872 - val_loss: 0.1930 - val_acc: 0.9672\n",
      "Epoch 31/50\n",
      "5000/5000 [==============================] - 1s 251us/step - loss: 0.0423 - acc: 0.9872 - val_loss: 0.1903 - val_acc: 0.9650\n",
      "Epoch 32/50\n",
      "5000/5000 [==============================] - 1s 249us/step - loss: 0.0330 - acc: 0.9904 - val_loss: 0.1990 - val_acc: 0.9684\n",
      "Epoch 33/50\n",
      "5000/5000 [==============================] - 1s 251us/step - loss: 0.0294 - acc: 0.9900 - val_loss: 0.2028 - val_acc: 0.9680\n",
      "Epoch 34/50\n",
      "5000/5000 [==============================] - 1s 252us/step - loss: 0.0386 - acc: 0.9890 - val_loss: 0.2304 - val_acc: 0.9650\n",
      "Epoch 35/50\n",
      "5000/5000 [==============================] - 1s 252us/step - loss: 0.0555 - acc: 0.9880 - val_loss: 0.2061 - val_acc: 0.9682\n",
      "Epoch 36/50\n",
      "5000/5000 [==============================] - 1s 247us/step - loss: 0.0400 - acc: 0.9894 - val_loss: 0.2049 - val_acc: 0.9690\n",
      "Epoch 37/50\n",
      "5000/5000 [==============================] - 1s 252us/step - loss: 0.0348 - acc: 0.9898 - val_loss: 0.2203 - val_acc: 0.9662\n",
      "Epoch 38/50\n",
      "5000/5000 [==============================] - 1s 246us/step - loss: 0.0331 - acc: 0.9906 - val_loss: 0.2240 - val_acc: 0.9662\n",
      "Epoch 39/50\n",
      "5000/5000 [==============================] - 1s 260us/step - loss: 0.0298 - acc: 0.9926 - val_loss: 0.2436 - val_acc: 0.9640\n",
      "Epoch 40/50\n",
      "5000/5000 [==============================] - 1s 283us/step - loss: 0.0330 - acc: 0.9920 - val_loss: 0.2412 - val_acc: 0.9656\n",
      "Epoch 41/50\n",
      "5000/5000 [==============================] - 2s 308us/step - loss: 0.0420 - acc: 0.9900 - val_loss: 0.2309 - val_acc: 0.9614\n",
      "Epoch 42/50\n",
      "5000/5000 [==============================] - 1s 250us/step - loss: 0.0382 - acc: 0.9912 - val_loss: 0.2418 - val_acc: 0.9640\n",
      "Epoch 43/50\n",
      "5000/5000 [==============================] - 1s 256us/step - loss: 0.0338 - acc: 0.9912 - val_loss: 0.2381 - val_acc: 0.9636\n",
      "Epoch 44/50\n",
      "5000/5000 [==============================] - 1s 261us/step - loss: 0.0338 - acc: 0.9912 - val_loss: 0.2406 - val_acc: 0.9646\n",
      "Epoch 45/50\n",
      "5000/5000 [==============================] - 1s 260us/step - loss: 0.0286 - acc: 0.9922 - val_loss: 0.2456 - val_acc: 0.9664\n",
      "Epoch 46/50\n",
      "5000/5000 [==============================] - 1s 250us/step - loss: 0.0353 - acc: 0.9906 - val_loss: 0.2405 - val_acc: 0.9658\n",
      "Epoch 47/50\n",
      "5000/5000 [==============================] - 1s 257us/step - loss: 0.0286 - acc: 0.9912 - val_loss: 0.2564 - val_acc: 0.9648\n",
      "Epoch 48/50\n",
      "5000/5000 [==============================] - 1s 279us/step - loss: 0.0309 - acc: 0.9914 - val_loss: 0.2629 - val_acc: 0.9646\n",
      "Epoch 49/50\n",
      "5000/5000 [==============================] - 1s 253us/step - loss: 0.0340 - acc: 0.9914 - val_loss: 0.2447 - val_acc: 0.9654\n",
      "Epoch 50/50\n",
      "5000/5000 [==============================] - 1s 263us/step - loss: 0.0172 - acc: 0.9944 - val_loss: 0.2436 - val_acc: 0.9656\n"
     ]
    }
   ],
   "source": [
    "history = clf.fit(X_train_pca, y_train_enc, batch_size=32, epochs=50, validation_data=(X_test_pca,y_test_enc))"
   ]
  },
  {
   "cell_type": "code",
   "execution_count": 42,
   "metadata": {},
   "outputs": [],
   "source": [
    "model_json = clf.to_json()\n",
    "with open(\"model_org.json\", \"w\") as json_file:\n",
    "    json_file.write(model_json)\n",
    "# serialize weights to HDF5\n",
    "clf.save_weights(\"model_org.h5\")"
   ]
  },
  {
   "cell_type": "markdown",
   "metadata": {},
   "source": [
    "## Evaluation"
   ]
  },
  {
   "cell_type": "code",
   "execution_count": 43,
   "metadata": {},
   "outputs": [],
   "source": [
    "y_pred_test_label = clf.predict(X_test_pca)\n",
    "y_pred_train_label = clf.predict(X_train_pca)"
   ]
  },
  {
   "cell_type": "code",
   "execution_count": 44,
   "metadata": {},
   "outputs": [],
   "source": [
    "y_pred_test = np.argmax(y_pred_test_label, axis=1)\n",
    "y_pred_train = np.argmax(y_pred_train_label, axis=1)"
   ]
  },
  {
   "cell_type": "code",
   "execution_count": 45,
   "metadata": {},
   "outputs": [],
   "source": [
    "y_train_true = y_train_int.astype(np.int)\n",
    "y_test_true = y_test_int.astype(np.int)"
   ]
  },
  {
   "cell_type": "markdown",
   "metadata": {},
   "source": [
    "## Graph Plot"
   ]
  },
  {
   "cell_type": "markdown",
   "metadata": {},
   "source": [
    "### Model Accuracy Graph"
   ]
  },
  {
   "cell_type": "code",
   "execution_count": 46,
   "metadata": {},
   "outputs": [
    {
     "data": {
      "image/png": "[encoded data removed]",
      "text/plain": [
       "<Figure size 432x288 with 1 Axes>"
      ]
     },
     "metadata": {},
     "output_type": "display_data"
    }
   ],
   "source": [
    "plt.plot(history.history['acc'])\n",
    "plt.plot(history.history['val_acc'])\n",
    "plt.title('model accuracy')\n",
    "plt.ylabel('accuracy')\n",
    "plt.xlabel('epoch')\n",
    "plt.legend(['train', 'test'], loc='upper left')\n",
    "plt.show()"
   ]
  },
  {
   "cell_type": "markdown",
   "metadata": {},
   "source": [
    "### Model Loss Graph"
   ]
  },
  {
   "cell_type": "code",
   "execution_count": 47,
   "metadata": {},
   "outputs": [
    {
     "data": {
      "image/png": "[encoded data removed]",
      "text/plain": [
       "<Figure size 432x288 with 1 Axes>"
      ]
     },
     "metadata": {},
     "output_type": "display_data"
    }
   ],
   "source": [
    "# summarize history for loss\n",
    "plt.plot(history.history['loss'])\n",
    "plt.plot(history.history['val_loss'])\n",
    "plt.title('model loss')\n",
    "plt.ylabel('loss')\n",
    "plt.xlabel('epoch')\n",
    "plt.legend(['train', 'test'], loc='upper left')\n",
    "plt.show()"
   ]
  },
  {
   "cell_type": "markdown",
   "metadata": {},
   "source": [
    "## Classification Report"
   ]
  },
  {
   "cell_type": "code",
   "execution_count": 48,
   "metadata": {},
   "outputs": [],
   "source": [
    "from sklearn.metrics import classification_report"
   ]
  },
  {
   "cell_type": "markdown",
   "metadata": {},
   "source": [
    "#### Train Data report"
   ]
  },
  {
   "cell_type": "code",
   "execution_count": 49,
   "metadata": {},
   "outputs": [
    {
     "name": "stdout",
     "output_type": "stream",
     "text": [
      "             precision    recall  f1-score   support\n",
      "\n",
      "          0       0.98      1.00      0.99       500\n",
      "          1       1.00      1.00      1.00       500\n",
      "          2       1.00      0.99      0.99       500\n",
      "          3       1.00      1.00      1.00       500\n",
      "          4       1.00      1.00      1.00       500\n",
      "          5       1.00      1.00      1.00       500\n",
      "          6       1.00      0.99      0.99       500\n",
      "          7       1.00      1.00      1.00       500\n",
      "          8       1.00      1.00      1.00       500\n",
      "          9       1.00      1.00      1.00       500\n",
      "\n",
      "avg / total       1.00      1.00      1.00      5000\n",
      "\n"
     ]
    }
   ],
   "source": [
    "print(classification_report(y_train_true, y_pred_train))"
   ]
  },
  {
   "cell_type": "markdown",
   "metadata": {},
   "source": [
    "#### Test Data Report"
   ]
  },
  {
   "cell_type": "code",
   "execution_count": 50,
   "metadata": {},
   "outputs": [
    {
     "name": "stdout",
     "output_type": "stream",
     "text": [
      "             precision    recall  f1-score   support\n",
      "\n",
      "          0       0.84      0.96      0.90       500\n",
      "          1       0.95      0.95      0.95       500\n",
      "          2       0.98      0.96      0.97       500\n",
      "          3       0.99      0.97      0.98       500\n",
      "          4       1.00      0.99      0.99       500\n",
      "          5       1.00      1.00      1.00       500\n",
      "          6       0.99      0.94      0.97       500\n",
      "          7       1.00      0.98      0.99       500\n",
      "          8       0.96      0.97      0.96       500\n",
      "          9       0.97      0.93      0.95       500\n",
      "\n",
      "avg / total       0.97      0.97      0.97      5000\n",
      "\n"
     ]
    }
   ],
   "source": [
    "print(classification_report(y_test_true, y_pred_test))"
   ]
  },
  {
   "cell_type": "markdown",
   "metadata": {},
   "source": [
    "## Confusion Matrix"
   ]
  },
  {
   "cell_type": "code",
   "execution_count": 51,
   "metadata": {},
   "outputs": [],
   "source": [
    "from sklearn.metrics import confusion_matrix"
   ]
  },
  {
   "cell_type": "markdown",
   "metadata": {},
   "source": [
    "### Train data"
   ]
  },
  {
   "cell_type": "code",
   "execution_count": 52,
   "metadata": {},
   "outputs": [
    {
     "name": "stdout",
     "output_type": "stream",
     "text": [
      "[[498   0   4   0   1   0   5   0   0   1]\n",
      " [  0 500   0   0   0   0   0   0   0   0]\n",
      " [  0   0 496   0   0   0   0   0   0   1]\n",
      " [  0   0   0 500   0   0   0   0   0   0]\n",
      " [  0   0   0   0 499   0   0   0   0   0]\n",
      " [  0   0   0   0   0 500   0   0   0   0]\n",
      " [  0   0   0   0   0   0 495   0   0   0]\n",
      " [  0   0   0   0   0   0   0 500   0   0]\n",
      " [  1   0   0   0   0   0   0   0 500   0]\n",
      " [  1   0   0   0   0   0   0   0   0 498]]\n"
     ]
    }
   ],
   "source": [
    "print(confusion_matrix(y_pred_train, y_train_true))"
   ]
  },
  {
   "cell_type": "markdown",
   "metadata": {},
   "source": [
    "### Test data"
   ]
  },
  {
   "cell_type": "code",
   "execution_count": 53,
   "metadata": {},
   "outputs": [
    {
     "name": "stdout",
     "output_type": "stream",
     "text": [
      "[[479   8  14  12   2   0  22   6  14  10]\n",
      " [  4 477   1   2   0   0   0   0   1  18]\n",
      " [  1   3 482   0   1   0   0   0   1   6]\n",
      " [  3   0   0 486   0   0   0   0   0   0]\n",
      " [  0   0   0   0 493   0   0   0   0   1]\n",
      " [  0   0   0   0   0 500   0   0   0   0]\n",
      " [  4   1   0   0   1   0 472   0   0   0]\n",
      " [  0   0   0   0   0   0   0 492   0   0]\n",
      " [  7   2   1   0   3   0   6   0 483   1]\n",
      " [  2   9   2   0   0   0   0   2   1 464]]\n"
     ]
    }
   ],
   "source": [
    "print(confusion_matrix(y_pred_test, y_test_true))"
   ]
  },
  {
   "cell_type": "markdown",
   "metadata": {},
   "source": [
    "### Making Single Prediction"
   ]
  },
  {
   "cell_type": "code",
   "execution_count": 54,
   "metadata": {},
   "outputs": [],
   "source": [
    "json_file = open('model_org.json', 'r')\n",
    "loaded_model_json = json_file.read()\n",
    "json_file.close()\n",
    "model = model_from_json(loaded_model_json)\n",
    "# load weights into new model\n",
    "model.load_weights(\"model_org.h5\")\n",
    "model.compile(optimizer= 'adam', loss='categorical_crossentropy', metrics = ['accuracy'])"
   ]
  },
  {
   "cell_type": "code",
   "execution_count": 55,
   "metadata": {},
   "outputs": [],
   "source": [
    "vectorizer = pickle.load(open('vectorizer_original.pkl', 'rb'))\n",
    "scaler = pickle.load(open('scaler_original.pkl', 'rb'))\n",
    "pca = pickle.load(open('pca_original.pkl', 'rb'))\n",
    "label2int = pickle.load(open('label2int_org.pkl', 'rb'))\n",
    "int2label = pickle.load(open('int2label_org.pkl', 'rb'))"
   ]
  },
  {
   "cell_type": "code",
   "execution_count": 56,
   "metadata": {},
   "outputs": [],
   "source": [
    "input_single = \"मेरा नाम जतिन है\"\n",
    "input_single = np.array([input_single])"
   ]
  },
  {
   "cell_type": "code",
   "execution_count": 57,
   "metadata": {},
   "outputs": [],
   "source": [
    "y_pred_single = model.predict(pca.transform(sc.transform(vectorizer.transform(input_single).toarray())))"
   ]
  },
  {
   "cell_type": "code",
   "execution_count": 58,
   "metadata": {},
   "outputs": [],
   "source": [
    "y_pred_single_val = np.argmax(y_pred_single, axis=1)"
   ]
  },
  {
   "cell_type": "code",
   "execution_count": 59,
   "metadata": {},
   "outputs": [
    {
     "data": {
      "text/plain": [
       "'hin'"
      ]
     },
     "execution_count": 59,
     "metadata": {},
     "output_type": "execute_result"
    }
   ],
   "source": [
    "int2label[y_pred_single_val[0]]"
   ]
  }
 ],
 "metadata": {
  "kernelspec": {
   "display_name": "Python 3",
   "language": "python",
   "name": "python3"
  },
  "language_info": {
   "codemirror_mode": {
    "name": "ipython",
    "version": 3
   },
   "file_extension": ".py",
   "mimetype": "text/x-python",
   "name": "python",
   "nbconvert_exporter": "python",
   "pygments_lexer": "ipython3",
   "version": "3.6.4"
  }
 },
 "nbformat": 4,
 "nbformat_minor": 2
}
