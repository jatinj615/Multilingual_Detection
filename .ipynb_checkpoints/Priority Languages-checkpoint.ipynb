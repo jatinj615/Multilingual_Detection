{
 "cells": [
  {
   "cell_type": "code",
   "execution_count": 1,
   "metadata": {},
   "outputs": [],
   "source": [
    "import numpy as np\n",
    "import pandas as pd\n",
    "import pickle"
   ]
  },
  {
   "cell_type": "code",
   "execution_count": 2,
   "metadata": {},
   "outputs": [],
   "source": [
    "df = pd.read_fwf('./wili dataset/x_train.txt', header=None)\n",
    "X_train = df[[0]]\n",
    "df = pd.read_fwf('./wili dataset/x_test.txt', header=None)\n",
    "X_test = df[[0]]"
   ]
  },
  {
   "cell_type": "code",
   "execution_count": 3,
   "metadata": {},
   "outputs": [],
   "source": [
    "target = pd.read_fwf('./wili dataset/y_train.txt',header = None)\n",
    "y_train = target[[0]]\n",
    "target = pd.read_fwf('./wili dataset/y_test.txt',header = None)\n",
    "y_test = target[[0]]"
   ]
  },
  {
   "cell_type": "code",
   "execution_count": 4,
   "metadata": {},
   "outputs": [],
   "source": [
    "y_train[y_train == 'be-tara'] = 'be-tarask'\n",
    "y_train[y_train == 'roa-tar'] = 'roa-tara'"
   ]
  },
  {
   "cell_type": "code",
   "execution_count": 5,
   "metadata": {},
   "outputs": [],
   "source": [
    "languages = ['eng', 'hin', 'mar', 'guj', 'tam', 'tcy', 'tel', 'pan', 'ben', 'mai']"
   ]
  },
  {
   "cell_type": "code",
   "execution_count": 6,
   "metadata": {},
   "outputs": [],
   "source": [
    "train_index = y_train.index[y_train[0].isin(languages)].tolist()"
   ]
  },
  {
   "cell_type": "code",
   "execution_count": 7,
   "metadata": {},
   "outputs": [],
   "source": [
    "test_index = y_test.index[y_test[0].isin(languages)].tolist()"
   ]
  },
  {
   "cell_type": "code",
   "execution_count": 8,
   "metadata": {},
   "outputs": [],
   "source": [
    "X_train_p = X_train.iloc[train_index,:]\n",
    "X_test_p = X_test.iloc[test_index,:]"
   ]
  },
  {
   "cell_type": "code",
   "execution_count": 9,
   "metadata": {},
   "outputs": [],
   "source": [
    "y_train_p = y_train.iloc[train_index, :]\n",
    "y_test_p = y_test.iloc[test_index, :]"
   ]
  },
  {
   "cell_type": "markdown",
   "metadata": {},
   "source": [
    "### Tokenize Labels"
   ]
  },
  {
   "cell_type": "code",
   "execution_count": 10,
   "metadata": {},
   "outputs": [],
   "source": [
    "label2int = {}\n",
    "int2label = {}\n",
    "counter = 0\n",
    "for label in languages:\n",
    "    if label not in label2int:\n",
    "        label2int[label] = counter\n",
    "        int2label[counter] = label\n",
    "    counter += 1"
   ]
  },
  {
   "cell_type": "code",
   "execution_count": 11,
   "metadata": {},
   "outputs": [],
   "source": [
    "pickle.dump(label2int, open('label2int.pkl', 'wb'))\n",
    "pickle.dump(int2label, open('int2label.pkl', 'wb'))"
   ]
  },
  {
   "cell_type": "markdown",
   "metadata": {},
   "source": [
    "### Tokenize target Variables"
   ]
  },
  {
   "cell_type": "code",
   "execution_count": 12,
   "metadata": {},
   "outputs": [],
   "source": [
    "y_train_int = []\n",
    "for label in y_train_p[0]:\n",
    "    y_train_int.append(label2int[label])"
   ]
  },
  {
   "cell_type": "code",
   "execution_count": 13,
   "metadata": {},
   "outputs": [],
   "source": [
    "y_test_int = []\n",
    "for label in y_test_p[0]:\n",
    "    y_test_int.append(label2int[label])"
   ]
  },
  {
   "cell_type": "markdown",
   "metadata": {},
   "source": [
    "### Data Preprocessing"
   ]
  },
  {
   "cell_type": "code",
   "execution_count": 14,
   "metadata": {},
   "outputs": [],
   "source": [
    "from sklearn.feature_extraction.text import TfidfVectorizer"
   ]
  },
  {
   "cell_type": "code",
   "execution_count": 15,
   "metadata": {},
   "outputs": [],
   "source": [
    "vectorizer = TfidfVectorizer(analyzer='char',min_df=25,lowercase=True, norm='l2')"
   ]
  },
  {
   "cell_type": "code",
   "execution_count": 16,
   "metadata": {},
   "outputs": [
    {
     "data": {
      "text/plain": [
       "TfidfVectorizer(analyzer='char', binary=False, decode_error='strict',\n",
       "        dtype=<class 'numpy.int64'>, encoding='utf-8', input='content',\n",
       "        lowercase=True, max_df=1.0, max_features=None, min_df=25,\n",
       "        ngram_range=(1, 1), norm='l2', preprocessor=None, smooth_idf=True,\n",
       "        stop_words=None, strip_accents=None, sublinear_tf=False,\n",
       "        token_pattern='(?u)\\\\b\\\\w\\\\w+\\\\b', tokenizer=None, use_idf=True,\n",
       "        vocabulary=None)"
      ]
     },
     "execution_count": 16,
     "metadata": {},
     "output_type": "execute_result"
    }
   ],
   "source": [
    "vectorizer.fit(X_train_p[0])"
   ]
  },
  {
   "cell_type": "code",
   "execution_count": 17,
   "metadata": {},
   "outputs": [],
   "source": [
    "X_train2int = vectorizer.transform(X_train_p[0]).toarray()"
   ]
  },
  {
   "cell_type": "code",
   "execution_count": 18,
   "metadata": {},
   "outputs": [],
   "source": [
    "X_test2int = vectorizer.transform(X_test_p[0]).toarray()"
   ]
  },
  {
   "cell_type": "code",
   "execution_count": 19,
   "metadata": {},
   "outputs": [],
   "source": [
    "pickle.dump(vectorizer, open('vectorizer.pkl', 'wb'))"
   ]
  },
  {
   "cell_type": "markdown",
   "metadata": {},
   "source": [
    "### Scaler"
   ]
  },
  {
   "cell_type": "code",
   "execution_count": 20,
   "metadata": {},
   "outputs": [],
   "source": [
    "from sklearn.preprocessing import StandardScaler"
   ]
  },
  {
   "cell_type": "code",
   "execution_count": 21,
   "metadata": {},
   "outputs": [],
   "source": [
    "sc = StandardScaler()"
   ]
  },
  {
   "cell_type": "code",
   "execution_count": 22,
   "metadata": {},
   "outputs": [
    {
     "data": {
      "text/plain": [
       "StandardScaler(copy=True, with_mean=True, with_std=True)"
      ]
     },
     "execution_count": 22,
     "metadata": {},
     "output_type": "execute_result"
    }
   ],
   "source": [
    "sc.fit(X_train2int)"
   ]
  },
  {
   "cell_type": "code",
   "execution_count": 23,
   "metadata": {},
   "outputs": [],
   "source": [
    "X_train2int_sc = sc.transform(X_train2int)\n",
    "X_test2int_sc = sc.transform(X_test2int)"
   ]
  },
  {
   "cell_type": "code",
   "execution_count": 24,
   "metadata": {},
   "outputs": [],
   "source": [
    "pickle.dump(sc, open('scaler.pkl', 'wb'))"
   ]
  },
  {
   "cell_type": "markdown",
   "metadata": {},
   "source": [
    "### PCA"
   ]
  },
  {
   "cell_type": "code",
   "execution_count": 25,
   "metadata": {},
   "outputs": [],
   "source": [
    "from sklearn.decomposition import PCA"
   ]
  },
  {
   "cell_type": "code",
   "execution_count": 26,
   "metadata": {},
   "outputs": [],
   "source": [
    "pca = PCA(n_components=80)"
   ]
  },
  {
   "cell_type": "code",
   "execution_count": 27,
   "metadata": {},
   "outputs": [
    {
     "data": {
      "text/plain": [
       "PCA(copy=True, iterated_power='auto', n_components=80, random_state=None,\n",
       "  svd_solver='auto', tol=0.0, whiten=False)"
      ]
     },
     "execution_count": 27,
     "metadata": {},
     "output_type": "execute_result"
    }
   ],
   "source": [
    "pca.fit(X_train2int_sc)"
   ]
  },
  {
   "cell_type": "code",
   "execution_count": 28,
   "metadata": {},
   "outputs": [],
   "source": [
    "X_train_pca = pca.transform(X_train2int_sc)"
   ]
  },
  {
   "cell_type": "code",
   "execution_count": 29,
   "metadata": {},
   "outputs": [],
   "source": [
    "X_test_pca = pca.transform(X_test2int_sc)"
   ]
  },
  {
   "cell_type": "code",
   "execution_count": 30,
   "metadata": {},
   "outputs": [],
   "source": [
    "import matplotlib.pyplot as plt"
   ]
  },
  {
   "cell_type": "code",
   "execution_count": 31,
   "metadata": {},
   "outputs": [
    {
     "data": {
      "image/png": "[encoded data removed]",
      "text/plain": [
       "<Figure size 432x288 with 1 Axes>"
      ]
     },
     "metadata": {},
     "output_type": "display_data"
    }
   ],
   "source": [
    "plt.plot(np.cumsum(pca.explained_variance_ratio_)*100)\n",
    "plt.xlabel(\"No. of components\")\n",
    "plt.ylabel(\"cummulative explained Variance\");"
   ]
  },
  {
   "cell_type": "code",
   "execution_count": 32,
   "metadata": {},
   "outputs": [],
   "source": [
    "pickle.dump(pca, open('pca.pkl', 'wb'))"
   ]
  },
  {
   "cell_type": "markdown",
   "metadata": {},
   "source": [
    "### One Hot Encoding"
   ]
  },
  {
   "cell_type": "code",
   "execution_count": 33,
   "metadata": {},
   "outputs": [],
   "source": [
    "from sklearn.preprocessing import OneHotEncoder"
   ]
  },
  {
   "cell_type": "code",
   "execution_count": 34,
   "metadata": {},
   "outputs": [],
   "source": [
    "y_train_int = np.array(y_train_int).reshape(-1, 1)\n",
    "y_test_int = np.array(y_test_int).reshape(-1, 1)"
   ]
  },
  {
   "cell_type": "code",
   "execution_count": 35,
   "metadata": {},
   "outputs": [],
   "source": [
    "enc = OneHotEncoder()"
   ]
  },
  {
   "cell_type": "code",
   "execution_count": 36,
   "metadata": {},
   "outputs": [
    {
     "data": {
      "text/plain": [
       "OneHotEncoder(categorical_features='all', dtype=<class 'numpy.float64'>,\n",
       "       handle_unknown='error', n_values='auto', sparse=True)"
      ]
     },
     "execution_count": 36,
     "metadata": {},
     "output_type": "execute_result"
    }
   ],
   "source": [
    "enc.fit(y_train_int)"
   ]
  },
  {
   "cell_type": "code",
   "execution_count": 37,
   "metadata": {},
   "outputs": [],
   "source": [
    "y_train_enc = enc.transform(y_train_int)\n",
    "y_test_enc = enc.transform(y_test_int)"
   ]
  },
  {
   "cell_type": "markdown",
   "metadata": {},
   "source": [
    "## Design ANN"
   ]
  },
  {
   "cell_type": "code",
   "execution_count": 38,
   "metadata": {},
   "outputs": [
    {
     "name": "stderr",
     "output_type": "stream",
     "text": [
      "/home/jatin/anaconda3/lib/python3.6/site-packages/h5py/__init__.py:36: FutureWarning: Conversion of the second argument of issubdtype from `float` to `np.floating` is deprecated. In future, it will be treated as `np.float64 == np.dtype(float).type`.\n",
      "  from ._conv import register_converters as _register_converters\n",
      "Using TensorFlow backend.\n"
     ]
    }
   ],
   "source": [
    "import tensorflow as tf\n",
    "from keras.models import Sequential\n",
    "from keras.layers import Dense\n",
    "from keras.layers import Dropout\n",
    "from keras.models import model_from_json"
   ]
  },
  {
   "cell_type": "code",
   "execution_count": 39,
   "metadata": {},
   "outputs": [
    {
     "name": "stderr",
     "output_type": "stream",
     "text": [
      "/home/jatin/anaconda3/lib/python3.6/site-packages/ipykernel_launcher.py:2: UserWarning: Update your `Dense` call to the Keras 2 API: `Dense(kernel_initializer=\"uniform\", activation=\"relu\", input_dim=80, units=60)`\n",
      "  \n",
      "/home/jatin/anaconda3/lib/python3.6/site-packages/ipykernel_launcher.py:4: UserWarning: Update your `Dense` call to the Keras 2 API: `Dense(kernel_initializer=\"uniform\", activation=\"relu\", units=60)`\n",
      "  after removing the cwd from sys.path.\n",
      "/home/jatin/anaconda3/lib/python3.6/site-packages/ipykernel_launcher.py:6: UserWarning: Update your `Dense` call to the Keras 2 API: `Dense(kernel_initializer=\"uniform\", activation=\"relu\", units=60)`\n",
      "  \n",
      "/home/jatin/anaconda3/lib/python3.6/site-packages/ipykernel_launcher.py:8: UserWarning: Update your `Dense` call to the Keras 2 API: `Dense(kernel_initializer=\"uniform\", activation=\"softmax\", units=10)`\n",
      "  \n"
     ]
    }
   ],
   "source": [
    "clf = Sequential()\n",
    "clf.add(Dense(output_dim = 60, kernel_initializer = 'uniform', activation='relu', input_dim = 80))\n",
    "clf.add(Dropout(rate=0.2))\n",
    "clf.add(Dense(output_dim = 60, kernel_initializer = 'uniform', activation='relu'))\n",
    "clf.add(Dropout(rate=0.2))\n",
    "clf.add(Dense(output_dim = 60, kernel_initializer = 'uniform', activation='relu'))\n",
    "clf.add(Dropout(rate=0.2))\n",
    "clf.add(Dense(output_dim =10  , kernel_initializer = 'uniform', activation='softmax'))"
   ]
  },
  {
   "cell_type": "code",
   "execution_count": 40,
   "metadata": {},
   "outputs": [],
   "source": [
    "clf.compile(optimizer= 'adam', loss='categorical_crossentropy', metrics = ['accuracy'])"
   ]
  },
  {
   "cell_type": "code",
   "execution_count": 41,
   "metadata": {},
   "outputs": [
    {
     "name": "stdout",
     "output_type": "stream",
     "text": [
      "Train on 5000 samples, validate on 5000 samples\n",
      "Epoch 1/50\n",
      "5000/5000 [==============================] - 1s 287us/step - loss: 1.0780 - acc: 0.6808 - val_loss: 0.2083 - val_acc: 0.9642\n",
      "Epoch 2/50\n",
      "5000/5000 [==============================] - 1s 148us/step - loss: 0.1809 - acc: 0.9586 - val_loss: 0.1439 - val_acc: 0.9652\n",
      "Epoch 3/50\n",
      "5000/5000 [==============================] - 1s 152us/step - loss: 0.1555 - acc: 0.9636 - val_loss: 0.1402 - val_acc: 0.9668\n",
      "Epoch 4/50\n",
      "5000/5000 [==============================] - 1s 144us/step - loss: 0.1392 - acc: 0.9674 - val_loss: 0.1374 - val_acc: 0.9660\n",
      "Epoch 5/50\n",
      "5000/5000 [==============================] - 1s 150us/step - loss: 0.1335 - acc: 0.9674 - val_loss: 0.1344 - val_acc: 0.9664\n",
      "Epoch 6/50\n",
      "5000/5000 [==============================] - 1s 202us/step - loss: 0.1277 - acc: 0.9678 - val_loss: 0.1395 - val_acc: 0.9656\n",
      "Epoch 7/50\n",
      "5000/5000 [==============================] - 1s 151us/step - loss: 0.1213 - acc: 0.9694 - val_loss: 0.1374 - val_acc: 0.9648\n",
      "Epoch 8/50\n",
      "5000/5000 [==============================] - 1s 187us/step - loss: 0.1185 - acc: 0.9706 - val_loss: 0.1388 - val_acc: 0.9656\n",
      "Epoch 9/50\n",
      "5000/5000 [==============================] - 1s 150us/step - loss: 0.1188 - acc: 0.9698 - val_loss: 0.1419 - val_acc: 0.9664\n",
      "Epoch 10/50\n",
      "5000/5000 [==============================] - 1s 151us/step - loss: 0.1147 - acc: 0.9712 - val_loss: 0.1355 - val_acc: 0.9658\n",
      "Epoch 11/50\n",
      "5000/5000 [==============================] - 1s 147us/step - loss: 0.1124 - acc: 0.9712 - val_loss: 0.1351 - val_acc: 0.9666\n",
      "Epoch 12/50\n",
      "5000/5000 [==============================] - 1s 230us/step - loss: 0.1107 - acc: 0.9720 - val_loss: 0.1366 - val_acc: 0.9662\n",
      "Epoch 13/50\n",
      "5000/5000 [==============================] - 1s 190us/step - loss: 0.1026 - acc: 0.9754 - val_loss: 0.1373 - val_acc: 0.9672\n",
      "Epoch 14/50\n",
      "5000/5000 [==============================] - 1s 143us/step - loss: 0.1092 - acc: 0.9732 - val_loss: 0.1399 - val_acc: 0.9670\n",
      "Epoch 15/50\n",
      "5000/5000 [==============================] - 1s 142us/step - loss: 0.1053 - acc: 0.9740 - val_loss: 0.1383 - val_acc: 0.9672\n",
      "Epoch 16/50\n",
      "5000/5000 [==============================] - 1s 140us/step - loss: 0.1032 - acc: 0.9752 - val_loss: 0.1396 - val_acc: 0.9666\n",
      "Epoch 17/50\n",
      "5000/5000 [==============================] - 1s 156us/step - loss: 0.1002 - acc: 0.9744 - val_loss: 0.1408 - val_acc: 0.9668\n",
      "Epoch 18/50\n",
      "5000/5000 [==============================] - 1s 144us/step - loss: 0.1039 - acc: 0.9734 - val_loss: 0.1373 - val_acc: 0.9660\n",
      "Epoch 19/50\n",
      "5000/5000 [==============================] - 1s 158us/step - loss: 0.0969 - acc: 0.9754 - val_loss: 0.1441 - val_acc: 0.9666\n",
      "Epoch 20/50\n",
      "5000/5000 [==============================] - 1s 153us/step - loss: 0.0942 - acc: 0.9754 - val_loss: 0.1502 - val_acc: 0.9662\n",
      "Epoch 21/50\n",
      "5000/5000 [==============================] - 1s 152us/step - loss: 0.1009 - acc: 0.9746 - val_loss: 0.1572 - val_acc: 0.9660\n",
      "Epoch 22/50\n",
      "5000/5000 [==============================] - 1s 215us/step - loss: 0.0979 - acc: 0.9764 - val_loss: 0.1503 - val_acc: 0.9666\n",
      "Epoch 23/50\n",
      "5000/5000 [==============================] - 1s 153us/step - loss: 0.0861 - acc: 0.9770 - val_loss: 0.1519 - val_acc: 0.9658\n",
      "Epoch 24/50\n",
      "5000/5000 [==============================] - 1s 150us/step - loss: 0.0909 - acc: 0.9764 - val_loss: 0.1572 - val_acc: 0.9672\n",
      "Epoch 25/50\n",
      "5000/5000 [==============================] - 1s 160us/step - loss: 0.0897 - acc: 0.9780 - val_loss: 0.1478 - val_acc: 0.9672\n",
      "Epoch 26/50\n",
      "5000/5000 [==============================] - 1s 150us/step - loss: 0.0946 - acc: 0.9756 - val_loss: 0.1527 - val_acc: 0.9678\n",
      "Epoch 27/50\n",
      "5000/5000 [==============================] - 1s 147us/step - loss: 0.0873 - acc: 0.9786 - val_loss: 0.1466 - val_acc: 0.9682\n",
      "Epoch 28/50\n",
      "5000/5000 [==============================] - 1s 156us/step - loss: 0.0786 - acc: 0.9782 - val_loss: 0.1523 - val_acc: 0.9686\n",
      "Epoch 29/50\n",
      "5000/5000 [==============================] - 1s 149us/step - loss: 0.0833 - acc: 0.9776 - val_loss: 0.1518 - val_acc: 0.9676\n",
      "Epoch 30/50\n",
      "5000/5000 [==============================] - 1s 156us/step - loss: 0.0879 - acc: 0.9774 - val_loss: 0.1508 - val_acc: 0.9672\n",
      "Epoch 31/50\n",
      "5000/5000 [==============================] - 1s 161us/step - loss: 0.0837 - acc: 0.9768 - val_loss: 0.1508 - val_acc: 0.9682\n",
      "Epoch 32/50\n",
      "5000/5000 [==============================] - 1s 157us/step - loss: 0.0802 - acc: 0.9802 - val_loss: 0.1474 - val_acc: 0.9682\n",
      "Epoch 33/50\n",
      "5000/5000 [==============================] - 1s 149us/step - loss: 0.0787 - acc: 0.9802 - val_loss: 0.1521 - val_acc: 0.9682\n",
      "Epoch 34/50\n",
      "5000/5000 [==============================] - 1s 152us/step - loss: 0.0780 - acc: 0.9790 - val_loss: 0.1610 - val_acc: 0.9670\n",
      "Epoch 35/50\n",
      "5000/5000 [==============================] - 1s 151us/step - loss: 0.0774 - acc: 0.9792 - val_loss: 0.1660 - val_acc: 0.9666\n",
      "Epoch 36/50\n",
      "5000/5000 [==============================] - 1s 147us/step - loss: 0.0787 - acc: 0.9796 - val_loss: 0.1608 - val_acc: 0.9656\n",
      "Epoch 37/50\n",
      "5000/5000 [==============================] - 1s 159us/step - loss: 0.0760 - acc: 0.9802 - val_loss: 0.1618 - val_acc: 0.9660\n",
      "Epoch 38/50\n",
      "5000/5000 [==============================] - 1s 140us/step - loss: 0.0824 - acc: 0.9792 - val_loss: 0.1489 - val_acc: 0.9684\n",
      "Epoch 39/50\n",
      "5000/5000 [==============================] - 1s 148us/step - loss: 0.0827 - acc: 0.9790 - val_loss: 0.1549 - val_acc: 0.9676\n",
      "Epoch 40/50\n",
      "5000/5000 [==============================] - 1s 145us/step - loss: 0.0749 - acc: 0.9792 - val_loss: 0.1589 - val_acc: 0.9668\n",
      "Epoch 41/50\n",
      "5000/5000 [==============================] - 1s 144us/step - loss: 0.0784 - acc: 0.9782 - val_loss: 0.1549 - val_acc: 0.9678\n",
      "Epoch 42/50\n",
      "5000/5000 [==============================] - 1s 183us/step - loss: 0.0753 - acc: 0.9810 - val_loss: 0.1528 - val_acc: 0.9690\n",
      "Epoch 43/50\n",
      "5000/5000 [==============================] - 1s 152us/step - loss: 0.0761 - acc: 0.9804 - val_loss: 0.1629 - val_acc: 0.9680\n",
      "Epoch 44/50\n",
      "5000/5000 [==============================] - 1s 226us/step - loss: 0.0719 - acc: 0.9816 - val_loss: 0.1639 - val_acc: 0.9682\n",
      "Epoch 45/50\n",
      "5000/5000 [==============================] - 1s 139us/step - loss: 0.0721 - acc: 0.9800 - val_loss: 0.1557 - val_acc: 0.9680\n",
      "Epoch 46/50\n",
      "5000/5000 [==============================] - 1s 138us/step - loss: 0.0690 - acc: 0.9822 - val_loss: 0.1604 - val_acc: 0.9696\n",
      "Epoch 47/50\n",
      "5000/5000 [==============================] - 1s 180us/step - loss: 0.0667 - acc: 0.9806 - val_loss: 0.1705 - val_acc: 0.9676\n",
      "Epoch 48/50\n",
      "5000/5000 [==============================] - 1s 199us/step - loss: 0.0730 - acc: 0.9790 - val_loss: 0.1701 - val_acc: 0.9674\n",
      "Epoch 49/50\n",
      "5000/5000 [==============================] - 1s 162us/step - loss: 0.0718 - acc: 0.9806 - val_loss: 0.1728 - val_acc: 0.9678\n",
      "Epoch 50/50\n",
      "5000/5000 [==============================] - 1s 167us/step - loss: 0.0718 - acc: 0.9800 - val_loss: 0.1596 - val_acc: 0.9686\n"
     ]
    }
   ],
   "source": [
    "with tf.device('/gpu:0'):\n",
    "    history = clf.fit(X_train_pca, y_train_enc, batch_size=32, epochs=50, validation_data=(X_test_pca,y_test_enc))"
   ]
  },
  {
   "cell_type": "code",
   "execution_count": 42,
   "metadata": {},
   "outputs": [],
   "source": [
    "model_json = clf.to_json()\n",
    "with open(\"model.json\", \"w\") as json_file:\n",
    "    json_file.write(model_json)\n",
    "# serialize weights to HDF5\n",
    "clf.save_weights(\"model.h5\")"
   ]
  },
  {
   "cell_type": "markdown",
   "metadata": {},
   "source": [
    "## Evaluation"
   ]
  },
  {
   "cell_type": "code",
   "execution_count": 43,
   "metadata": {},
   "outputs": [],
   "source": [
    "y_pred_test_label = clf.predict(X_test_pca)\n",
    "y_pred_train_label = clf.predict(X_train_pca)"
   ]
  },
  {
   "cell_type": "code",
   "execution_count": 44,
   "metadata": {},
   "outputs": [],
   "source": [
    "y_pred_test = np.argmax(y_pred_test_label, axis=1)\n",
    "y_pred_train = np.argmax(y_pred_train_label, axis=1)"
   ]
  },
  {
   "cell_type": "code",
   "execution_count": 45,
   "metadata": {},
   "outputs": [],
   "source": [
    "y_train_true = y_train_int.astype(np.int)\n",
    "y_test_true = y_test_int.astype(np.int)"
   ]
  },
  {
   "cell_type": "markdown",
   "metadata": {},
   "source": [
    "## Graph Plot"
   ]
  },
  {
   "cell_type": "markdown",
   "metadata": {},
   "source": [
    "### Model Accuracy Graph"
   ]
  },
  {
   "cell_type": "code",
   "execution_count": 46,
   "metadata": {},
   "outputs": [
    {
     "data": {
      "image/png": "[encoded data removed]",
      "text/plain": [
       "<Figure size 432x288 with 1 Axes>"
      ]
     },
     "metadata": {},
     "output_type": "display_data"
    }
   ],
   "source": [
    "plt.plot(history.history['acc'])\n",
    "plt.plot(history.history['val_acc'])\n",
    "plt.title('model accuracy')\n",
    "plt.ylabel('accuracy')\n",
    "plt.xlabel('epoch')\n",
    "plt.legend(['train', 'test'], loc='upper left')\n",
    "plt.show()"
   ]
  },
  {
   "cell_type": "markdown",
   "metadata": {},
   "source": [
    "### Model Loss Graph"
   ]
  },
  {
   "cell_type": "code",
   "execution_count": 47,
   "metadata": {},
   "outputs": [
    {
     "data": {
      "image/png": "[encoded data removed]",
      "text/plain": [
       "<Figure size 432x288 with 1 Axes>"
      ]
     },
     "metadata": {},
     "output_type": "display_data"
    }
   ],
   "source": [
    "# summarize history for loss\n",
    "plt.plot(history.history['loss'])\n",
    "plt.plot(history.history['val_loss'])\n",
    "plt.title('model loss')\n",
    "plt.ylabel('loss')\n",
    "plt.xlabel('epoch')\n",
    "plt.legend(['train', 'test'], loc='upper left')\n",
    "plt.show()"
   ]
  },
  {
   "cell_type": "markdown",
   "metadata": {},
   "source": [
    "## Classification Report"
   ]
  },
  {
   "cell_type": "code",
   "execution_count": 48,
   "metadata": {},
   "outputs": [],
   "source": [
    "from sklearn.metrics import classification_report"
   ]
  },
  {
   "cell_type": "markdown",
   "metadata": {},
   "source": [
    "#### Train Data report"
   ]
  },
  {
   "cell_type": "code",
   "execution_count": 49,
   "metadata": {},
   "outputs": [
    {
     "name": "stdout",
     "output_type": "stream",
     "text": [
      "             precision    recall  f1-score   support\n",
      "\n",
      "          0       0.91      1.00      0.95       500\n",
      "          1       0.97      0.99      0.98       500\n",
      "          2       1.00      0.99      0.99       500\n",
      "          3       1.00      0.97      0.98       500\n",
      "          4       1.00      1.00      1.00       500\n",
      "          5       1.00      1.00      1.00       500\n",
      "          6       1.00      0.96      0.98       500\n",
      "          7       1.00      1.00      1.00       500\n",
      "          8       1.00      0.99      0.99       500\n",
      "          9       1.00      0.97      0.98       500\n",
      "\n",
      "avg / total       0.99      0.99      0.99      5000\n",
      "\n"
     ]
    }
   ],
   "source": [
    "print(classification_report(y_train_true, y_pred_train))"
   ]
  },
  {
   "cell_type": "markdown",
   "metadata": {},
   "source": [
    "#### Test Data Report"
   ]
  },
  {
   "cell_type": "code",
   "execution_count": 50,
   "metadata": {},
   "outputs": [
    {
     "name": "stdout",
     "output_type": "stream",
     "text": [
      "             precision    recall  f1-score   support\n",
      "\n",
      "          0       0.84      0.97      0.90       500\n",
      "          1       0.96      0.96      0.96       500\n",
      "          2       0.98      0.96      0.97       500\n",
      "          3       0.99      0.97      0.98       500\n",
      "          4       0.99      0.99      0.99       500\n",
      "          5       1.00      1.00      1.00       500\n",
      "          6       1.00      0.94      0.97       500\n",
      "          7       1.00      0.98      0.99       500\n",
      "          8       0.99      0.96      0.98       500\n",
      "          9       0.97      0.94      0.96       500\n",
      "\n",
      "avg / total       0.97      0.97      0.97      5000\n",
      "\n"
     ]
    }
   ],
   "source": [
    "print(classification_report(y_test_true, y_pred_test))"
   ]
  },
  {
   "cell_type": "markdown",
   "metadata": {},
   "source": [
    "## Confusion Matrix"
   ]
  },
  {
   "cell_type": "code",
   "execution_count": 51,
   "metadata": {},
   "outputs": [],
   "source": [
    "from sklearn.metrics import confusion_matrix"
   ]
  },
  {
   "cell_type": "markdown",
   "metadata": {},
   "source": [
    "### Train data"
   ]
  },
  {
   "cell_type": "code",
   "execution_count": 52,
   "metadata": {},
   "outputs": [
    {
     "name": "stdout",
     "output_type": "stream",
     "text": [
      "[[499   4   5  15   2   0  18   1   2   3]\n",
      " [  1 496   0   0   0   0   1   0   1  12]\n",
      " [  0   0 495   0   0   0   0   0   0   0]\n",
      " [  0   0   0 485   0   0   0   0   0   0]\n",
      " [  0   0   0   0 498   0   0   0   0   0]\n",
      " [  0   0   0   0   0 500   0   0   1   0]\n",
      " [  0   0   0   0   0   0 481   0   0   0]\n",
      " [  0   0   0   0   0   0   0 498   0   0]\n",
      " [  0   0   0   0   0   0   0   1 496   0]\n",
      " [  0   0   0   0   0   0   0   0   0 485]]\n"
     ]
    }
   ],
   "source": [
    "print(confusion_matrix(y_pred_train, y_train_true))"
   ]
  },
  {
   "cell_type": "markdown",
   "metadata": {},
   "source": [
    "### Test data"
   ]
  },
  {
   "cell_type": "code",
   "execution_count": 53,
   "metadata": {},
   "outputs": [
    {
     "name": "stdout",
     "output_type": "stream",
     "text": [
      "[[487   6  13  13   4   0  26   8  14  11]\n",
      " [  2 478   2   0   0   0   0   0   3  14]\n",
      " [  3   2 482   0   0   0   0   0   0   3]\n",
      " [  4   0   0 485   1   0   0   0   2   0]\n",
      " [  0   1   0   0 494   0   2   0   0   0]\n",
      " [  2   0   0   0   0 500   0   0   0   0]\n",
      " [  0   0   0   1   0   0 472   0   0   0]\n",
      " [  0   0   0   0   0   0   0 492   0   0]\n",
      " [  2   1   0   1   1   0   0   0 481   0]\n",
      " [  0  12   3   0   0   0   0   0   0 472]]\n"
     ]
    }
   ],
   "source": [
    "print(confusion_matrix(y_pred_test, y_test_true))"
   ]
  },
  {
   "cell_type": "markdown",
   "metadata": {},
   "source": [
    "### Making Single Prediction"
   ]
  },
  {
   "cell_type": "code",
   "execution_count": 54,
   "metadata": {},
   "outputs": [],
   "source": [
    "json_file = open('model.json', 'r')\n",
    "loaded_model_json = json_file.read()\n",
    "json_file.close()\n",
    "model = model_from_json(loaded_model_json)\n",
    "# load weights into new model\n",
    "model.load_weights(\"model.h5\")\n",
    "model.compile(optimizer= 'adam', loss='categorical_crossentropy', metrics = ['accuracy'])"
   ]
  },
  {
   "cell_type": "code",
   "execution_count": 55,
   "metadata": {},
   "outputs": [],
   "source": [
    "vectorizer = pickle.load(open('vectorizer.pkl', 'rb'))\n",
    "scaler = pickle.load(open('scaler.pkl', 'rb'))\n",
    "pca = pickle.load(open('pca.pkl', 'rb'))\n",
    "label2int = pickle.load(open('label2int.pkl', 'rb'))\n",
    "int2label = pickle.load(open('int2label.pkl', 'rb'))"
   ]
  },
  {
   "cell_type": "code",
   "execution_count": 56,
   "metadata": {},
   "outputs": [
    {
     "data": {
      "text/plain": [
       "0    मेरा नाम जतिन है\n",
       "Name: 0, dtype: object"
      ]
     },
     "execution_count": 56,
     "metadata": {},
     "output_type": "execute_result"
    }
   ],
   "source": [
    "input_single = \"मेरा नाम जतिन है\"\n",
    "X_single = pd.DataFrame(data=[input_single], index=None)\n",
    "X_single.to_csv('input.csv', encoding='utf-8', sep='\\n', index=False,header=None)\n",
    "X_single = pd.read_fwf('input.csv', delimiter = '\\n', header = None, squeeze = True)\n",
    "X_single"
   ]
  },
  {
   "cell_type": "code",
   "execution_count": 57,
   "metadata": {},
   "outputs": [],
   "source": [
    "X_single = vectorizer.transform(X_single).toarray()\n",
    "X_single = pca.transform(X_single)\n",
    "y_pred_single = model.predict(X_single)"
   ]
  },
  {
   "cell_type": "code",
   "execution_count": 58,
   "metadata": {},
   "outputs": [
    {
     "data": {
      "text/plain": [
       "array([[0.05528809, 0.49289688, 0.06614693, 0.02590204, 0.00716054,\n",
       "        0.00172684, 0.05814506, 0.00587617, 0.03158203, 0.2552755 ]],\n",
       "      dtype=float32)"
      ]
     },
     "execution_count": 58,
     "metadata": {},
     "output_type": "execute_result"
    }
   ],
   "source": [
    "y_pred_single"
   ]
  },
  {
   "cell_type": "code",
   "execution_count": 59,
   "metadata": {},
   "outputs": [],
   "source": [
    "y_pred_single_val = np.argmax(y_pred_single, axis=1)"
   ]
  },
  {
   "cell_type": "code",
   "execution_count": 60,
   "metadata": {},
   "outputs": [
    {
     "data": {
      "text/plain": [
       "'hin'"
      ]
     },
     "execution_count": 60,
     "metadata": {},
     "output_type": "execute_result"
    }
   ],
   "source": [
    "int2label[y_pred_single_val[0]]"
   ]
  }
 ],
 "metadata": {
  "kernelspec": {
   "display_name": "Python 3",
   "language": "python",
   "name": "python3"
  },
  "language_info": {
   "codemirror_mode": {
    "name": "ipython",
    "version": 3
   },
   "file_extension": ".py",
   "mimetype": "text/x-python",
   "name": "python",
   "nbconvert_exporter": "python",
   "pygments_lexer": "ipython3",
   "version": "3.6.4"
  }
 },
 "nbformat": 4,
 "nbformat_minor": 2
}
