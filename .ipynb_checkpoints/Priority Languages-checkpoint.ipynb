{
 "cells": [
  {
   "cell_type": "code",
   "execution_count": 1,
   "metadata": {},
   "outputs": [],
   "source": [
    "import numpy as np\n",
    "import pandas as pd\n",
    "import pickle"
   ]
  },
  {
   "cell_type": "code",
   "execution_count": 2,
   "metadata": {},
   "outputs": [],
   "source": [
    "df = pd.read_fwf('./wili dataset/x_train.txt', header=None)\n",
    "X_train = df[[0]]\n",
    "df = pd.read_fwf('./wili dataset/x_test.txt', header=None)\n",
    "X_test = df[[0]] "
   ]
  },
  {
   "cell_type": "code",
   "execution_count": 3,
   "metadata": {},
   "outputs": [],
   "source": [
    "target = pd.read_fwf('./wili dataset/y_train.txt',header = None)\n",
    "y_train = target[[0]]\n",
    "target = pd.read_fwf('./wili dataset/y_test.txt',header = None)\n",
    "y_test = target[[0]]"
   ]
  },
  {
   "cell_type": "code",
   "execution_count": 4,
   "metadata": {},
   "outputs": [],
   "source": [
    "y_train[y_train == 'be-tara'] = 'be-tarask'\n",
    "y_train[y_train == 'roa-tar'] = 'roa-tara'"
   ]
  },
  {
   "cell_type": "code",
   "execution_count": 5,
   "metadata": {},
   "outputs": [],
   "source": [
    "languages = ['eng', 'hin', 'mar', 'guj', 'tam', 'tcy', 'tel', 'pan', 'ben', 'mai']"
   ]
  },
  {
   "cell_type": "code",
   "execution_count": 6,
   "metadata": {},
   "outputs": [],
   "source": [
    "train_index = y_train.index[y_train[0].isin(languages)].tolist()"
   ]
  },
  {
   "cell_type": "code",
   "execution_count": 7,
   "metadata": {},
   "outputs": [],
   "source": [
    "test_index = y_test.index[y_test[0].isin(languages)].tolist()"
   ]
  },
  {
   "cell_type": "code",
   "execution_count": 8,
   "metadata": {},
   "outputs": [],
   "source": [
    "X_train_p = X_train.iloc[train_index,:]\n",
    "X_test_p = X_test.iloc[test_index,:]"
   ]
  },
  {
   "cell_type": "code",
   "execution_count": 9,
   "metadata": {},
   "outputs": [],
   "source": [
    "y_train_p = y_train.iloc[train_index, :]\n",
    "y_test_p = y_test.iloc[test_index, :]"
   ]
  },
  {
   "cell_type": "markdown",
   "metadata": {},
   "source": [
    "### Tokenize Labels"
   ]
  },
  {
   "cell_type": "code",
   "execution_count": 10,
   "metadata": {},
   "outputs": [],
   "source": [
    "label2int = {}\n",
    "int2label = {}\n",
    "counter = 0\n",
    "for label in languages:\n",
    "    if label not in label2int:\n",
    "        label2int[label] = counter\n",
    "        int2label[counter] = label\n",
    "    counter += 1"
   ]
  },
  {
   "cell_type": "code",
   "execution_count": 11,
   "metadata": {},
   "outputs": [],
   "source": [
    "pickle.dump(label2int, open('label2int.pkl', 'wb'))\n",
    "pickle.dump(int2label, open('int2label.pkl', 'wb'))"
   ]
  },
  {
   "cell_type": "markdown",
   "metadata": {},
   "source": [
    "### Tokenize target Variables"
   ]
  },
  {
   "cell_type": "code",
   "execution_count": 12,
   "metadata": {},
   "outputs": [],
   "source": [
    "y_train_int = []\n",
    "for label in y_train_p[0]:\n",
    "    y_train_int.append(label2int[label])"
   ]
  },
  {
   "cell_type": "code",
   "execution_count": 13,
   "metadata": {},
   "outputs": [],
   "source": [
    "y_test_int = []\n",
    "for label in y_test_p[0]:\n",
    "    y_test_int.append(label2int[label])"
   ]
  },
  {
   "cell_type": "markdown",
   "metadata": {},
   "source": [
    "### Data Preprocessing"
   ]
  },
  {
   "cell_type": "code",
   "execution_count": 14,
   "metadata": {},
   "outputs": [],
   "source": [
    "from sklearn.feature_extraction.text import TfidfVectorizer"
   ]
  },
  {
   "cell_type": "code",
   "execution_count": 15,
   "metadata": {},
   "outputs": [],
   "source": [
    "vectorizer = TfidfVectorizer(analyzer='char',min_df=25,lowercase=True, norm='l2')"
   ]
  },
  {
   "cell_type": "code",
   "execution_count": 16,
   "metadata": {},
   "outputs": [
    {
     "data": {
      "text/plain": [
       "TfidfVectorizer(analyzer='char', binary=False, decode_error='strict',\n",
       "        dtype=<class 'numpy.int64'>, encoding='utf-8', input='content',\n",
       "        lowercase=True, max_df=1.0, max_features=None, min_df=25,\n",
       "        ngram_range=(1, 1), norm='l2', preprocessor=None, smooth_idf=True,\n",
       "        stop_words=None, strip_accents=None, sublinear_tf=False,\n",
       "        token_pattern='(?u)\\\\b\\\\w\\\\w+\\\\b', tokenizer=None, use_idf=True,\n",
       "        vocabulary=None)"
      ]
     },
     "execution_count": 16,
     "metadata": {},
     "output_type": "execute_result"
    }
   ],
   "source": [
    "vectorizer.fit(X_train_p[0])"
   ]
  },
  {
   "cell_type": "code",
   "execution_count": 17,
   "metadata": {},
   "outputs": [],
   "source": [
    "X_train2int = vectorizer.transform(X_train_p[0]).toarray()"
   ]
  },
  {
   "cell_type": "code",
   "execution_count": 18,
   "metadata": {},
   "outputs": [],
   "source": [
    "X_test2int = vectorizer.transform(X_test_p[0]).toarray()"
   ]
  },
  {
   "cell_type": "code",
   "execution_count": 19,
   "metadata": {},
   "outputs": [],
   "source": [
    "pickle.dump(vectorizer, open('vectorizer.pkl', 'wb'))"
   ]
  },
  {
   "cell_type": "markdown",
   "metadata": {},
   "source": [
    "### Scaler"
   ]
  },
  {
   "cell_type": "code",
   "execution_count": 22,
   "metadata": {},
   "outputs": [],
   "source": [
    "from sklearn.preprocessing import StandardScaler"
   ]
  },
  {
   "cell_type": "code",
   "execution_count": 23,
   "metadata": {},
   "outputs": [],
   "source": [
    "sc = StandardScaler()"
   ]
  },
  {
   "cell_type": "code",
   "execution_count": 24,
   "metadata": {},
   "outputs": [
    {
     "data": {
      "text/plain": [
       "StandardScaler(copy=True, with_mean=True, with_std=True)"
      ]
     },
     "execution_count": 24,
     "metadata": {},
     "output_type": "execute_result"
    }
   ],
   "source": [
    "sc.fit(X_train2int)"
   ]
  },
  {
   "cell_type": "code",
   "execution_count": 25,
   "metadata": {},
   "outputs": [],
   "source": [
    "X_train2int_sc = sc.transform(X_train2int)\n",
    "X_test2int_sc = sc.transform(X_test2int)"
   ]
  },
  {
   "cell_type": "code",
   "execution_count": 26,
   "metadata": {},
   "outputs": [],
   "source": [
    "pickle.dump(sc, open('scaler.pkl', 'wb'))"
   ]
  },
  {
   "cell_type": "markdown",
   "metadata": {},
   "source": [
    "### PCA"
   ]
  },
  {
   "cell_type": "code",
   "execution_count": 20,
   "metadata": {},
   "outputs": [],
   "source": [
    "from sklearn.decomposition import PCA"
   ]
  },
  {
   "cell_type": "code",
   "execution_count": 21,
   "metadata": {},
   "outputs": [],
   "source": [
    "pca = PCA(n_components=80)"
   ]
  },
  {
   "cell_type": "code",
   "execution_count": 23,
   "metadata": {},
   "outputs": [
    {
     "data": {
      "text/plain": [
       "PCA(copy=True, iterated_power='auto', n_components=80, random_state=None,\n",
       "  svd_solver='auto', tol=0.0, whiten=False)"
      ]
     },
     "execution_count": 23,
     "metadata": {},
     "output_type": "execute_result"
    }
   ],
   "source": [
    "pca.fit(X_train2int)"
   ]
  },
  {
   "cell_type": "code",
   "execution_count": 24,
   "metadata": {},
   "outputs": [],
   "source": [
    "X_train_pca = pca.transform(X_train2int)"
   ]
  },
  {
   "cell_type": "code",
   "execution_count": 25,
   "metadata": {},
   "outputs": [],
   "source": [
    "X_test_pca = pca.transform(X_test2int)"
   ]
  },
  {
   "cell_type": "code",
   "execution_count": 26,
   "metadata": {},
   "outputs": [],
   "source": [
    "import matplotlib.pyplot as plt"
   ]
  },
  {
   "cell_type": "code",
   "execution_count": 27,
   "metadata": {},
   "outputs": [
    {
     "data": {
      "image/png": "[encoded data removed]",
      "text/plain": [
       "<Figure size 432x288 with 1 Axes>"
      ]
     },
     "metadata": {},
     "output_type": "display_data"
    }
   ],
   "source": [
    "plt.plot(np.cumsum(pca.explained_variance_ratio_)*100)\n",
    "plt.xlabel(\"No. of components\")\n",
    "plt.ylabel(\"cummulative explained Variance\");"
   ]
  },
  {
   "cell_type": "code",
   "execution_count": 28,
   "metadata": {},
   "outputs": [],
   "source": [
    "pickle.dump(pca, open('pca.pkl', 'wb'))"
   ]
  },
  {
   "cell_type": "markdown",
   "metadata": {},
   "source": [
    "### One Hot Encoding"
   ]
  },
  {
   "cell_type": "code",
   "execution_count": 29,
   "metadata": {},
   "outputs": [],
   "source": [
    "from sklearn.preprocessing import OneHotEncoder"
   ]
  },
  {
   "cell_type": "code",
   "execution_count": 30,
   "metadata": {},
   "outputs": [],
   "source": [
    "y_train_int = np.array(y_train_int).reshape(-1, 1)\n",
    "y_test_int = np.array(y_test_int).reshape(-1, 1)"
   ]
  },
  {
   "cell_type": "code",
   "execution_count": 31,
   "metadata": {},
   "outputs": [],
   "source": [
    "enc = OneHotEncoder()"
   ]
  },
  {
   "cell_type": "code",
   "execution_count": 32,
   "metadata": {},
   "outputs": [
    {
     "data": {
      "text/plain": [
       "OneHotEncoder(categorical_features='all', dtype=<class 'numpy.float64'>,\n",
       "       handle_unknown='error', n_values='auto', sparse=True)"
      ]
     },
     "execution_count": 32,
     "metadata": {},
     "output_type": "execute_result"
    }
   ],
   "source": [
    "enc.fit(y_train_int)"
   ]
  },
  {
   "cell_type": "code",
   "execution_count": 33,
   "metadata": {},
   "outputs": [],
   "source": [
    "y_train_enc = enc.transform(y_train_int)\n",
    "y_test_enc = enc.transform(y_test_int)"
   ]
  },
  {
   "cell_type": "markdown",
   "metadata": {},
   "source": [
    "## Design ANN"
   ]
  },
  {
   "cell_type": "code",
   "execution_count": 68,
   "metadata": {},
   "outputs": [],
   "source": [
    "import tensorflow as tf\n",
    "from keras.models import Sequential\n",
    "from keras.layers import Dense\n",
    "from keras.layers import Dropout"
   ]
  },
  {
   "cell_type": "code",
   "execution_count": 69,
   "metadata": {},
   "outputs": [
    {
     "name": "stderr",
     "output_type": "stream",
     "text": [
      "C:\\Users\\Jatin\\Anaconda3\\lib\\site-packages\\ipykernel_launcher.py:2: UserWarning: Update your `Dense` call to the Keras 2 API: `Dense(kernel_initializer=\"uniform\", activation=\"relu\", input_dim=80, units=60)`\n",
      "  \n",
      "C:\\Users\\Jatin\\Anaconda3\\lib\\site-packages\\ipykernel_launcher.py:4: UserWarning: Update your `Dense` call to the Keras 2 API: `Dense(kernel_initializer=\"uniform\", activation=\"relu\", units=60)`\n",
      "  after removing the cwd from sys.path.\n",
      "C:\\Users\\Jatin\\Anaconda3\\lib\\site-packages\\ipykernel_launcher.py:6: UserWarning: Update your `Dense` call to the Keras 2 API: `Dense(kernel_initializer=\"uniform\", activation=\"relu\", units=60)`\n",
      "  \n",
      "C:\\Users\\Jatin\\Anaconda3\\lib\\site-packages\\ipykernel_launcher.py:8: UserWarning: Update your `Dense` call to the Keras 2 API: `Dense(kernel_initializer=\"uniform\", activation=\"softmax\", units=10)`\n",
      "  \n"
     ]
    }
   ],
   "source": [
    "clf = Sequential()\n",
    "clf.add(Dense(output_dim = 60, kernel_initializer = 'uniform', activation='relu', input_dim = 80))\n",
    "clf.add(Dropout(rate=0.2))\n",
    "clf.add(Dense(output_dim = 60, kernel_initializer = 'uniform', activation='relu'))\n",
    "clf.add(Dropout(rate=0.2))\n",
    "clf.add(Dense(output_dim = 60, kernel_initializer = 'uniform', activation='relu'))\n",
    "clf.add(Dropout(rate=0.2))\n",
    "clf.add(Dense(output_dim =10  , kernel_initializer = 'uniform', activation='softmax'))"
   ]
  },
  {
   "cell_type": "code",
   "execution_count": 70,
   "metadata": {},
   "outputs": [],
   "source": [
    "clf.compile(optimizer= 'adam', loss='categorical_crossentropy', metrics = ['accuracy'])"
   ]
  },
  {
   "cell_type": "code",
   "execution_count": 71,
   "metadata": {},
   "outputs": [
    {
     "name": "stdout",
     "output_type": "stream",
     "text": [
      "Train on 5000 samples, validate on 5000 samples\n",
      "Epoch 1/100\n",
      "5000/5000 [==============================] - 2s 409us/step - loss: 1.2677 - acc: 0.5280 - val_loss: 0.5459 - val_acc: 0.7772\n",
      "Epoch 2/100\n",
      "5000/5000 [==============================] - 2s 317us/step - loss: 0.5145 - acc: 0.7744 - val_loss: 0.4543 - val_acc: 0.7936\n",
      "Epoch 3/100\n",
      "5000/5000 [==============================] - 2s 321us/step - loss: 0.4598 - acc: 0.7850 - val_loss: 0.4339 - val_acc: 0.7792\n",
      "Epoch 4/100\n",
      "5000/5000 [==============================] - 2s 317us/step - loss: 0.4188 - acc: 0.8084 - val_loss: 0.3582 - val_acc: 0.8720\n",
      "Epoch 5/100\n",
      "5000/5000 [==============================] - 2s 318us/step - loss: 0.3309 - acc: 0.8732 - val_loss: 0.2666 - val_acc: 0.9224\n",
      "Epoch 6/100\n",
      "5000/5000 [==============================] - 2s 331us/step - loss: 0.2777 - acc: 0.8910 - val_loss: 0.2392 - val_acc: 0.9244\n",
      "Epoch 7/100\n",
      "5000/5000 [==============================] - 2s 327us/step - loss: 0.2363 - acc: 0.9142 - val_loss: 0.2089 - val_acc: 0.9470\n",
      "Epoch 8/100\n",
      "5000/5000 [==============================] - 2s 330us/step - loss: 0.2070 - acc: 0.9340 - val_loss: 0.1976 - val_acc: 0.9478\n",
      "Epoch 9/100\n",
      "5000/5000 [==============================] - 2s 334us/step - loss: 0.1753 - acc: 0.9480 - val_loss: 0.1680 - val_acc: 0.9592\n",
      "Epoch 10/100\n",
      "5000/5000 [==============================] - 2s 320us/step - loss: 0.1543 - acc: 0.9544 - val_loss: 0.1566 - val_acc: 0.9618\n",
      "Epoch 11/100\n",
      "5000/5000 [==============================] - 2s 320us/step - loss: 0.1377 - acc: 0.9638 - val_loss: 0.1503 - val_acc: 0.9636\n",
      "Epoch 12/100\n",
      "5000/5000 [==============================] - 2s 319us/step - loss: 0.1246 - acc: 0.9650 - val_loss: 0.1433 - val_acc: 0.9654\n",
      "Epoch 13/100\n",
      "5000/5000 [==============================] - 2s 319us/step - loss: 0.1213 - acc: 0.9674 - val_loss: 0.1510 - val_acc: 0.9616\n",
      "Epoch 14/100\n",
      "5000/5000 [==============================] - 2s 322us/step - loss: 0.1156 - acc: 0.9696 - val_loss: 0.1446 - val_acc: 0.9668\n",
      "Epoch 15/100\n",
      "5000/5000 [==============================] - 2s 323us/step - loss: 0.1045 - acc: 0.9730 - val_loss: 0.1452 - val_acc: 0.9662\n",
      "Epoch 16/100\n",
      "5000/5000 [==============================] - 2s 323us/step - loss: 0.1061 - acc: 0.9724 - val_loss: 0.1499 - val_acc: 0.9678\n",
      "Epoch 17/100\n",
      "5000/5000 [==============================] - 2s 318us/step - loss: 0.1036 - acc: 0.9712 - val_loss: 0.1503 - val_acc: 0.9678\n",
      "Epoch 18/100\n",
      "5000/5000 [==============================] - 2s 317us/step - loss: 0.0931 - acc: 0.9746 - val_loss: 0.1540 - val_acc: 0.9656\n",
      "Epoch 19/100\n",
      "5000/5000 [==============================] - 2s 315us/step - loss: 0.0890 - acc: 0.9770 - val_loss: 0.1517 - val_acc: 0.9672\n",
      "Epoch 20/100\n",
      "5000/5000 [==============================] - 2s 317us/step - loss: 0.0913 - acc: 0.9762 - val_loss: 0.1532 - val_acc: 0.9644\n",
      "Epoch 21/100\n",
      "5000/5000 [==============================] - 2s 318us/step - loss: 0.0892 - acc: 0.9768 - val_loss: 0.1493 - val_acc: 0.9682\n",
      "Epoch 22/100\n",
      "5000/5000 [==============================] - 2s 317us/step - loss: 0.0934 - acc: 0.9770 - val_loss: 0.1447 - val_acc: 0.9680\n",
      "Epoch 23/100\n",
      "5000/5000 [==============================] - 2s 318us/step - loss: 0.0850 - acc: 0.9772 - val_loss: 0.1469 - val_acc: 0.9684\n",
      "Epoch 24/100\n",
      "5000/5000 [==============================] - 2s 318us/step - loss: 0.0782 - acc: 0.9800 - val_loss: 0.1471 - val_acc: 0.9680\n",
      "Epoch 25/100\n",
      "5000/5000 [==============================] - 2s 319us/step - loss: 0.0822 - acc: 0.9780 - val_loss: 0.1551 - val_acc: 0.9668\n",
      "Epoch 26/100\n",
      "5000/5000 [==============================] - 2s 321us/step - loss: 0.0780 - acc: 0.9808 - val_loss: 0.1576 - val_acc: 0.9668\n",
      "Epoch 27/100\n",
      "5000/5000 [==============================] - 2s 326us/step - loss: 0.0749 - acc: 0.9804 - val_loss: 0.1602 - val_acc: 0.9674\n",
      "Epoch 28/100\n",
      "5000/5000 [==============================] - 2s 324us/step - loss: 0.0711 - acc: 0.9812 - val_loss: 0.1588 - val_acc: 0.9680\n",
      "Epoch 29/100\n",
      "5000/5000 [==============================] - 2s 320us/step - loss: 0.0647 - acc: 0.9836 - val_loss: 0.1542 - val_acc: 0.9672\n",
      "Epoch 30/100\n",
      "5000/5000 [==============================] - 2s 321us/step - loss: 0.0672 - acc: 0.9816 - val_loss: 0.1606 - val_acc: 0.9670\n",
      "Epoch 31/100\n",
      "5000/5000 [==============================] - 2s 346us/step - loss: 0.0704 - acc: 0.9822 - val_loss: 0.1634 - val_acc: 0.9642\n",
      "Epoch 32/100\n",
      "5000/5000 [==============================] - 2s 323us/step - loss: 0.0672 - acc: 0.9826 - val_loss: 0.1578 - val_acc: 0.9682\n",
      "Epoch 33/100\n",
      "5000/5000 [==============================] - 2s 324us/step - loss: 0.0679 - acc: 0.9826 - val_loss: 0.1581 - val_acc: 0.9692\n",
      "Epoch 34/100\n",
      "5000/5000 [==============================] - 2s 337us/step - loss: 0.0633 - acc: 0.9838 - val_loss: 0.1625 - val_acc: 0.9692\n",
      "Epoch 35/100\n",
      "5000/5000 [==============================] - 2s 342us/step - loss: 0.0643 - acc: 0.9814 - val_loss: 0.1619 - val_acc: 0.9694\n",
      "Epoch 36/100\n",
      "5000/5000 [==============================] - 2s 323us/step - loss: 0.0607 - acc: 0.9832 - val_loss: 0.1905 - val_acc: 0.9634\n",
      "Epoch 37/100\n",
      "5000/5000 [==============================] - 2s 319us/step - loss: 0.0622 - acc: 0.9848 - val_loss: 0.1662 - val_acc: 0.9678\n",
      "Epoch 38/100\n",
      "5000/5000 [==============================] - 2s 326us/step - loss: 0.0605 - acc: 0.9842 - val_loss: 0.1781 - val_acc: 0.9678\n",
      "Epoch 39/100\n",
      "5000/5000 [==============================] - 2s 323us/step - loss: 0.0568 - acc: 0.9852 - val_loss: 0.1698 - val_acc: 0.9688\n",
      "Epoch 40/100\n",
      "5000/5000 [==============================] - 2s 317us/step - loss: 0.0586 - acc: 0.9838 - val_loss: 0.1797 - val_acc: 0.9678\n",
      "Epoch 41/100\n",
      "5000/5000 [==============================] - 2s 321us/step - loss: 0.0535 - acc: 0.9860 - val_loss: 0.1703 - val_acc: 0.9690\n",
      "Epoch 42/100\n",
      "5000/5000 [==============================] - 2s 319us/step - loss: 0.0535 - acc: 0.9860 - val_loss: 0.1854 - val_acc: 0.9686\n",
      "Epoch 43/100\n",
      "5000/5000 [==============================] - 2s 318us/step - loss: 0.0620 - acc: 0.9848 - val_loss: 0.1774 - val_acc: 0.9682\n",
      "Epoch 44/100\n",
      "5000/5000 [==============================] - 2s 318us/step - loss: 0.0594 - acc: 0.9846 - val_loss: 0.1769 - val_acc: 0.9668\n",
      "Epoch 45/100\n",
      "5000/5000 [==============================] - 2s 319us/step - loss: 0.0524 - acc: 0.9870 - val_loss: 0.1788 - val_acc: 0.9692\n",
      "Epoch 46/100\n",
      "5000/5000 [==============================] - 2s 319us/step - loss: 0.0527 - acc: 0.9868 - val_loss: 0.1887 - val_acc: 0.9674\n",
      "Epoch 47/100\n",
      "5000/5000 [==============================] - 2s 318us/step - loss: 0.0500 - acc: 0.9858 - val_loss: 0.1769 - val_acc: 0.9670\n",
      "Epoch 48/100\n",
      "5000/5000 [==============================] - 2s 318us/step - loss: 0.0508 - acc: 0.9866 - val_loss: 0.1819 - val_acc: 0.9684\n",
      "Epoch 49/100\n",
      "5000/5000 [==============================] - 2s 318us/step - loss: 0.0492 - acc: 0.9864 - val_loss: 0.1806 - val_acc: 0.9678\n",
      "Epoch 50/100\n",
      "5000/5000 [==============================] - 2s 320us/step - loss: 0.0497 - acc: 0.9864 - val_loss: 0.1806 - val_acc: 0.9694\n",
      "Epoch 51/100\n",
      "5000/5000 [==============================] - 2s 317us/step - loss: 0.0508 - acc: 0.9868 - val_loss: 0.2050 - val_acc: 0.9654\n",
      "Epoch 52/100\n",
      "5000/5000 [==============================] - 2s 316us/step - loss: 0.0497 - acc: 0.9868 - val_loss: 0.1843 - val_acc: 0.9680\n",
      "Epoch 53/100\n",
      "5000/5000 [==============================] - 2s 317us/step - loss: 0.0512 - acc: 0.9862 - val_loss: 0.1786 - val_acc: 0.9672\n",
      "Epoch 54/100\n",
      "5000/5000 [==============================] - 2s 315us/step - loss: 0.0419 - acc: 0.9898 - val_loss: 0.1915 - val_acc: 0.9662\n",
      "Epoch 55/100\n",
      "5000/5000 [==============================] - 2s 316us/step - loss: 0.0388 - acc: 0.9892 - val_loss: 0.2058 - val_acc: 0.9650\n",
      "Epoch 56/100\n",
      "5000/5000 [==============================] - 2s 317us/step - loss: 0.0426 - acc: 0.9890 - val_loss: 0.1926 - val_acc: 0.9690\n",
      "Epoch 57/100\n",
      "5000/5000 [==============================] - 2s 318us/step - loss: 0.0460 - acc: 0.9864 - val_loss: 0.2097 - val_acc: 0.9656\n",
      "Epoch 58/100\n",
      "5000/5000 [==============================] - 2s 319us/step - loss: 0.0398 - acc: 0.9890 - val_loss: 0.2075 - val_acc: 0.9632\n",
      "Epoch 59/100\n",
      "5000/5000 [==============================] - 2s 318us/step - loss: 0.0477 - acc: 0.9872 - val_loss: 0.1900 - val_acc: 0.9694\n",
      "Epoch 60/100\n"
     ]
    },
    {
     "name": "stdout",
     "output_type": "stream",
     "text": [
      "5000/5000 [==============================] - 2s 317us/step - loss: 0.0491 - acc: 0.9872 - val_loss: 0.1946 - val_acc: 0.9684\n",
      "Epoch 61/100\n",
      "5000/5000 [==============================] - 2s 315us/step - loss: 0.0419 - acc: 0.9878 - val_loss: 0.1963 - val_acc: 0.9668\n",
      "Epoch 62/100\n",
      "5000/5000 [==============================] - 2s 316us/step - loss: 0.0407 - acc: 0.9898 - val_loss: 0.2087 - val_acc: 0.9670\n",
      "Epoch 63/100\n",
      "5000/5000 [==============================] - 2s 318us/step - loss: 0.0390 - acc: 0.9880 - val_loss: 0.2037 - val_acc: 0.9682\n",
      "Epoch 64/100\n",
      "5000/5000 [==============================] - 2s 314us/step - loss: 0.0390 - acc: 0.9886 - val_loss: 0.2051 - val_acc: 0.9686\n",
      "Epoch 65/100\n",
      "5000/5000 [==============================] - 2s 313us/step - loss: 0.0387 - acc: 0.9908 - val_loss: 0.2072 - val_acc: 0.9680\n",
      "Epoch 66/100\n",
      "5000/5000 [==============================] - 2s 316us/step - loss: 0.0366 - acc: 0.9894 - val_loss: 0.2008 - val_acc: 0.9692\n",
      "Epoch 67/100\n",
      "5000/5000 [==============================] - 2s 313us/step - loss: 0.0330 - acc: 0.9912 - val_loss: 0.2166 - val_acc: 0.9682\n",
      "Epoch 68/100\n",
      "5000/5000 [==============================] - 2s 313us/step - loss: 0.0448 - acc: 0.9868 - val_loss: 0.1989 - val_acc: 0.9686\n",
      "Epoch 69/100\n",
      "5000/5000 [==============================] - 2s 324us/step - loss: 0.0395 - acc: 0.9894 - val_loss: 0.2095 - val_acc: 0.9684\n",
      "Epoch 70/100\n",
      "5000/5000 [==============================] - 2s 336us/step - loss: 0.0348 - acc: 0.9904 - val_loss: 0.2145 - val_acc: 0.9702\n",
      "Epoch 71/100\n",
      "5000/5000 [==============================] - 2s 350us/step - loss: 0.0360 - acc: 0.9894 - val_loss: 0.2122 - val_acc: 0.9660\n",
      "Epoch 72/100\n",
      "5000/5000 [==============================] - 2s 334us/step - loss: 0.0366 - acc: 0.9902 - val_loss: 0.2103 - val_acc: 0.9672\n",
      "Epoch 73/100\n",
      "5000/5000 [==============================] - 2s 320us/step - loss: 0.0363 - acc: 0.9902 - val_loss: 0.2158 - val_acc: 0.9686\n",
      "Epoch 74/100\n",
      "5000/5000 [==============================] - 2s 323us/step - loss: 0.0333 - acc: 0.9898 - val_loss: 0.2290 - val_acc: 0.9668\n",
      "Epoch 75/100\n",
      "5000/5000 [==============================] - 2s 324us/step - loss: 0.0359 - acc: 0.9896 - val_loss: 0.2144 - val_acc: 0.9700\n",
      "Epoch 76/100\n",
      "5000/5000 [==============================] - 2s 323us/step - loss: 0.0365 - acc: 0.9902 - val_loss: 0.2180 - val_acc: 0.9696\n",
      "Epoch 77/100\n",
      "5000/5000 [==============================] - 2s 322us/step - loss: 0.0343 - acc: 0.9890 - val_loss: 0.2323 - val_acc: 0.9658\n",
      "Epoch 78/100\n",
      "5000/5000 [==============================] - 2s 321us/step - loss: 0.0373 - acc: 0.9898 - val_loss: 0.2239 - val_acc: 0.9694\n",
      "Epoch 79/100\n",
      "5000/5000 [==============================] - 2s 320us/step - loss: 0.0302 - acc: 0.9914 - val_loss: 0.2281 - val_acc: 0.9658\n",
      "Epoch 80/100\n",
      "5000/5000 [==============================] - 2s 327us/step - loss: 0.0349 - acc: 0.9886 - val_loss: 0.2247 - val_acc: 0.9684\n",
      "Epoch 81/100\n",
      "5000/5000 [==============================] - 2s 332us/step - loss: 0.0318 - acc: 0.9918 - val_loss: 0.2248 - val_acc: 0.9672\n",
      "Epoch 82/100\n",
      "5000/5000 [==============================] - 2s 330us/step - loss: 0.0390 - acc: 0.9910 - val_loss: 0.2301 - val_acc: 0.9688\n",
      "Epoch 83/100\n",
      "5000/5000 [==============================] - 2s 321us/step - loss: 0.0273 - acc: 0.9914 - val_loss: 0.2312 - val_acc: 0.9684\n",
      "Epoch 84/100\n",
      "5000/5000 [==============================] - 2s 322us/step - loss: 0.0354 - acc: 0.9902 - val_loss: 0.2307 - val_acc: 0.9660\n",
      "Epoch 85/100\n",
      "5000/5000 [==============================] - 2s 324us/step - loss: 0.0326 - acc: 0.9910 - val_loss: 0.2427 - val_acc: 0.9682\n",
      "Epoch 86/100\n",
      "5000/5000 [==============================] - 2s 333us/step - loss: 0.0334 - acc: 0.9896 - val_loss: 0.2243 - val_acc: 0.9692\n",
      "Epoch 87/100\n",
      "5000/5000 [==============================] - 2s 347us/step - loss: 0.0229 - acc: 0.9924 - val_loss: 0.2354 - val_acc: 0.9672\n",
      "Epoch 88/100\n",
      "5000/5000 [==============================] - 2s 338us/step - loss: 0.0268 - acc: 0.9916 - val_loss: 0.2490 - val_acc: 0.9654\n",
      "Epoch 89/100\n",
      "5000/5000 [==============================] - 2s 329us/step - loss: 0.0300 - acc: 0.9912 - val_loss: 0.2387 - val_acc: 0.9666\n",
      "Epoch 90/100\n",
      "5000/5000 [==============================] - 2s 333us/step - loss: 0.0341 - acc: 0.9904 - val_loss: 0.2317 - val_acc: 0.9692\n",
      "Epoch 91/100\n",
      "5000/5000 [==============================] - 2s 325us/step - loss: 0.0303 - acc: 0.9922 - val_loss: 0.2365 - val_acc: 0.9672\n",
      "Epoch 92/100\n",
      "5000/5000 [==============================] - 2s 321us/step - loss: 0.0320 - acc: 0.9898 - val_loss: 0.2344 - val_acc: 0.9682\n",
      "Epoch 93/100\n",
      "5000/5000 [==============================] - 2s 324us/step - loss: 0.0367 - acc: 0.9916 - val_loss: 0.2363 - val_acc: 0.9674\n",
      "Epoch 94/100\n",
      "5000/5000 [==============================] - 2s 323us/step - loss: 0.0238 - acc: 0.9936 - val_loss: 0.2384 - val_acc: 0.9678\n",
      "Epoch 95/100\n",
      "5000/5000 [==============================] - 2s 323us/step - loss: 0.0312 - acc: 0.9912 - val_loss: 0.2420 - val_acc: 0.9664\n",
      "Epoch 96/100\n",
      "5000/5000 [==============================] - 2s 323us/step - loss: 0.0307 - acc: 0.9906 - val_loss: 0.2310 - val_acc: 0.9688\n",
      "Epoch 97/100\n",
      "5000/5000 [==============================] - 2s 321us/step - loss: 0.0268 - acc: 0.9920 - val_loss: 0.2348 - val_acc: 0.9694\n",
      "Epoch 98/100\n",
      "5000/5000 [==============================] - 2s 324us/step - loss: 0.0257 - acc: 0.9924 - val_loss: 0.2464 - val_acc: 0.9682\n",
      "Epoch 99/100\n",
      "5000/5000 [==============================] - 2s 325us/step - loss: 0.0240 - acc: 0.9924 - val_loss: 0.2443 - val_acc: 0.9668\n",
      "Epoch 100/100\n",
      "5000/5000 [==============================] - 2s 323us/step - loss: 0.0295 - acc: 0.9910 - val_loss: 0.2533 - val_acc: 0.9652\n"
     ]
    }
   ],
   "source": [
    "with tf.device('/gpu:0'):\n",
    "    history = clf.fit(X_train_pca, y_train_enc, batch_size=16, epochs=100, validation_data=(X_test_pca,y_test_enc))"
   ]
  },
  {
   "cell_type": "code",
   "execution_count": 72,
   "metadata": {},
   "outputs": [],
   "source": [
    "from keras.models import model_from_json\n",
    "model_json = clf.to_json()\n",
    "with open(\"model.json\", \"w\") as json_file:\n",
    "    json_file.write(model_json)\n",
    "# serialize weights to HDF5\n",
    "clf.save_weights(\"model.h5\")"
   ]
  },
  {
   "cell_type": "markdown",
   "metadata": {},
   "source": [
    "## Evaluation"
   ]
  },
  {
   "cell_type": "code",
   "execution_count": 73,
   "metadata": {},
   "outputs": [],
   "source": [
    "y_pred_test_label = clf.predict(X_test_pca)\n",
    "y_pred_train_label = clf.predict(X_train_pca)"
   ]
  },
  {
   "cell_type": "code",
   "execution_count": 74,
   "metadata": {},
   "outputs": [],
   "source": [
    "y_pred_test = np.argmax(y_pred_test_label, axis=1)\n",
    "y_pred_train = np.argmax(y_pred_train_label, axis=1)"
   ]
  },
  {
   "cell_type": "code",
   "execution_count": 75,
   "metadata": {},
   "outputs": [],
   "source": [
    "y_train_true = y_train_int.astype(np.int)\n",
    "y_test_true = y_test_int.astype(np.int)"
   ]
  },
  {
   "cell_type": "markdown",
   "metadata": {},
   "source": [
    "## Graph Plot"
   ]
  },
  {
   "cell_type": "markdown",
   "metadata": {},
   "source": [
    "### Model Accuracy Graph"
   ]
  },
  {
   "cell_type": "code",
   "execution_count": 76,
   "metadata": {},
   "outputs": [
    {
     "data": {
      "image/png": "[encoded data removed]",
      "text/plain": [
       "<Figure size 432x288 with 1 Axes>"
      ]
     },
     "metadata": {},
     "output_type": "display_data"
    }
   ],
   "source": [
    "plt.plot(history.history['acc'])\n",
    "plt.plot(history.history['val_acc'])\n",
    "plt.title('model accuracy')\n",
    "plt.ylabel('accuracy')\n",
    "plt.xlabel('epoch')\n",
    "plt.legend(['train', 'test'], loc='upper left')\n",
    "plt.show()"
   ]
  },
  {
   "cell_type": "markdown",
   "metadata": {},
   "source": [
    "### Model Loss Graph"
   ]
  },
  {
   "cell_type": "code",
   "execution_count": 77,
   "metadata": {},
   "outputs": [
    {
     "data": {
      "image/png": "[encoded data removed]",
      "text/plain": [
       "<Figure size 432x288 with 1 Axes>"
      ]
     },
     "metadata": {},
     "output_type": "display_data"
    }
   ],
   "source": [
    "# summarize history for loss\n",
    "plt.plot(history.history['loss'])\n",
    "plt.plot(history.history['val_loss'])\n",
    "plt.title('model loss')\n",
    "plt.ylabel('loss')\n",
    "plt.xlabel('epoch')\n",
    "plt.legend(['train', 'test'], loc='upper left')\n",
    "plt.show()"
   ]
  },
  {
   "cell_type": "markdown",
   "metadata": {},
   "source": [
    "## Classification Report"
   ]
  },
  {
   "cell_type": "code",
   "execution_count": 78,
   "metadata": {},
   "outputs": [],
   "source": [
    "from sklearn.metrics import classification_report"
   ]
  },
  {
   "cell_type": "markdown",
   "metadata": {},
   "source": [
    "#### Train Data report"
   ]
  },
  {
   "cell_type": "code",
   "execution_count": 79,
   "metadata": {},
   "outputs": [
    {
     "name": "stdout",
     "output_type": "stream",
     "text": [
      "             precision    recall  f1-score   support\n",
      "\n",
      "          0       0.98      1.00      0.99       500\n",
      "          1       0.98      1.00      0.99       500\n",
      "          2       1.00      0.99      1.00       500\n",
      "          3       1.00      1.00      1.00       500\n",
      "          4       1.00      1.00      1.00       500\n",
      "          5       1.00      1.00      1.00       500\n",
      "          6       1.00      1.00      1.00       500\n",
      "          7       1.00      1.00      1.00       500\n",
      "          8       1.00      1.00      1.00       500\n",
      "          9       1.00      0.98      0.99       500\n",
      "\n",
      "avg / total       1.00      1.00      1.00      5000\n",
      "\n"
     ]
    }
   ],
   "source": [
    "print(classification_report(y_train_true, y_pred_train))"
   ]
  },
  {
   "cell_type": "markdown",
   "metadata": {},
   "source": [
    "#### Test Data Report"
   ]
  },
  {
   "cell_type": "code",
   "execution_count": 80,
   "metadata": {},
   "outputs": [
    {
     "name": "stdout",
     "output_type": "stream",
     "text": [
      "             precision    recall  f1-score   support\n",
      "\n",
      "          0       0.87      0.92      0.89       500\n",
      "          1       0.96      0.95      0.96       500\n",
      "          2       0.98      0.96      0.97       500\n",
      "          3       0.93      0.98      0.95       500\n",
      "          4       1.00      0.99      0.99       500\n",
      "          5       1.00      1.00      1.00       500\n",
      "          6       0.98      0.97      0.97       500\n",
      "          7       0.99      0.99      0.99       500\n",
      "          8       0.99      0.96      0.97       500\n",
      "          9       0.97      0.94      0.96       500\n",
      "\n",
      "avg / total       0.97      0.97      0.97      5000\n",
      "\n"
     ]
    }
   ],
   "source": [
    "print(classification_report(y_test_true, y_pred_test))"
   ]
  },
  {
   "cell_type": "markdown",
   "metadata": {},
   "source": [
    "## Confusion Matrix"
   ]
  },
  {
   "cell_type": "code",
   "execution_count": 81,
   "metadata": {},
   "outputs": [],
   "source": [
    "from sklearn.metrics import confusion_matrix"
   ]
  },
  {
   "cell_type": "markdown",
   "metadata": {},
   "source": [
    "### Train data"
   ]
  },
  {
   "cell_type": "code",
   "execution_count": 82,
   "metadata": {},
   "outputs": [
    {
     "name": "stdout",
     "output_type": "stream",
     "text": [
      "[[499   1   4   2   0   0   1   0   1   0]\n",
      " [  0 498   0   0   0   0   0   0   0   9]\n",
      " [  0   0 496   0   0   0   0   0   0   0]\n",
      " [  1   0   0 498   0   0   1   0   0   0]\n",
      " [  0   0   0   0 500   0   0   0   0   0]\n",
      " [  0   0   0   0   0 500   0   0   0   0]\n",
      " [  0   0   0   0   0   0 498   0   0   0]\n",
      " [  0   0   0   0   0   0   0 500   0   0]\n",
      " [  0   0   0   0   0   0   0   0 499   0]\n",
      " [  0   1   0   0   0   0   0   0   0 491]]\n"
     ]
    }
   ],
   "source": [
    "print(confusion_matrix(y_pred_train, y_train_true))"
   ]
  },
  {
   "cell_type": "markdown",
   "metadata": {},
   "source": [
    "### Test data"
   ]
  },
  {
   "cell_type": "code",
   "execution_count": 83,
   "metadata": {},
   "outputs": [
    {
     "name": "stdout",
     "output_type": "stream",
     "text": [
      "[[459   4   8  11   3   0  14   3  17  10]\n",
      " [  1 477   4   0   0   0   0   0   0  15]\n",
      " [  5   4 481   0   0   0   0   0   0   2]\n",
      " [ 22   3   3 488   1   0   2   4   1   1]\n",
      " [  0   1   0   0 494   0   0   0   1   0]\n",
      " [  0   0   0   0   0 500   0   0   0   0]\n",
      " [  6   2   0   0   0   0 484   0   0   1]\n",
      " [  2   0   0   1   1   0   0 493   2   0]\n",
      " [  4   0   1   0   1   0   0   0 479   0]\n",
      " [  1   9   3   0   0   0   0   0   0 471]]\n"
     ]
    }
   ],
   "source": [
    "print(confusion_matrix(y_pred_test, y_test_true))"
   ]
  },
  {
   "cell_type": "markdown",
   "metadata": {},
   "source": [
    "### Making RNN"
   ]
  },
  {
   "cell_type": "code",
   "execution_count": 63,
   "metadata": {},
   "outputs": [],
   "source": [
    "from keras.layers import Embedding\n",
    "from keras.layers import SpatialDropout1D\n",
    "from keras.layers import LSTM"
   ]
  },
  {
   "cell_type": "code",
   "execution_count": 65,
   "metadata": {},
   "outputs": [],
   "source": [
    "# Using RNN\n",
    "# Initialising classifier\n",
    "clf = Sequential()\n",
    "# Adding First Embedded Layer\n",
    "clf.add(Embedding(150, 128, input_length=X_train_pca.shape[1]))\n",
    "clf.add(SpatialDropout1D(0.2))\n",
    "\n",
    "# Adding Lstm Layer\n",
    "clf.add(LSTM(98, dropout=0.2, recurrent_dropout=0.2))\n",
    "\n",
    "# Adding fully connected layer\n",
    "clf.add(Dense(100, activation='relu'))\n",
    "\n",
    "# Adding output layer\n",
    "clf.add(Dense(10, activation='softmax'))\n",
    "\n",
    "# Compiling classifier\n",
    "clf.compile(optimizer='adam', loss='categorical_crossentropy', metrics=['accuracy'])"
   ]
  },
  {
   "cell_type": "markdown",
   "metadata": {},
   "source": [
    "### Making Single Prediction"
   ]
  },
  {
   "cell_type": "code",
   "execution_count": 121,
   "metadata": {},
   "outputs": [],
   "source": [
    "json_file = open('model.json', 'r')\n",
    "loaded_model_json = json_file.read()\n",
    "json_file.close()\n",
    "model = model_from_json(loaded_model_json)\n",
    "# load weights into new model\n",
    "model.load_weights(\"model.h5\")\n",
    "model.compile(optimizer= 'adam', loss='categorical_crossentropy', metrics = ['accuracy'])"
   ]
  },
  {
   "cell_type": "code",
   "execution_count": 122,
   "metadata": {},
   "outputs": [],
   "source": [
    "vectorizer = pickle.load(open('vectorizer.pkl', 'rb'))\n",
    "# scaler = pickle.load(open('scaler.pkl', 'rb'))\n",
    "pca = pickle.load(open('pca.pkl', 'rb'))\n",
    "label2int = pickle.load(open('label2int.pkl', 'rb'))\n",
    "int2label = pickle.load(open('int2label.pkl', 'rb'))"
   ]
  },
  {
   "cell_type": "code",
   "execution_count": 158,
   "metadata": {},
   "outputs": [],
   "source": [
    "X_single = np.array([[\"\"]])"
   ]
  },
  {
   "cell_type": "code",
   "execution_count": 159,
   "metadata": {},
   "outputs": [],
   "source": [
    "X_single = vectorizer.transform(X_single[0]).toarray()\n",
    "X_single = pca.transform(X_single)\n",
    "y_pred_single = model.predict(X_single)"
   ]
  },
  {
   "cell_type": "code",
   "execution_count": 160,
   "metadata": {},
   "outputs": [
    {
     "data": {
      "text/plain": [
       "array([[3.45120243e-05, 8.23345317e-07, 1.25284085e-08, 1.85421595e-37,\n",
       "        0.00000000e+00, 0.00000000e+00, 8.33697021e-01, 1.23440370e-01,\n",
       "        4.28272523e-02, 7.19673200e-33]], dtype=float32)"
      ]
     },
     "execution_count": 160,
     "metadata": {},
     "output_type": "execute_result"
    }
   ],
   "source": [
    "y_pred_single"
   ]
  },
  {
   "cell_type": "code",
   "execution_count": 161,
   "metadata": {},
   "outputs": [],
   "source": [
    "y_pred_single_val = np.argmax(y_pred_single, axis=1)"
   ]
  },
  {
   "cell_type": "code",
   "execution_count": 162,
   "metadata": {},
   "outputs": [
    {
     "data": {
      "text/plain": [
       "'tel'"
      ]
     },
     "execution_count": 162,
     "metadata": {},
     "output_type": "execute_result"
    }
   ],
   "source": [
    "int2label[y_pred_single_val[0]]"
   ]
  }
 ],
 "metadata": {
  "kernelspec": {
   "display_name": "Python 3",
   "language": "python",
   "name": "python3"
  },
  "language_info": {
   "codemirror_mode": {
    "name": "ipython",
    "version": 3
   },
   "file_extension": ".py",
   "mimetype": "text/x-python",
   "name": "python",
   "nbconvert_exporter": "python",
   "pygments_lexer": "ipython3",
   "version": "3.6.5"
  }
 },
 "nbformat": 4,
 "nbformat_minor": 2
}
