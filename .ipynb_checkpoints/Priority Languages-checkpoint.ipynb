{
 "cells": [
  {
   "cell_type": "code",
   "execution_count": 1,
   "metadata": {},
   "outputs": [],
   "source": [
    "import numpy as np\n",
    "import pandas as pd"
   ]
  },
  {
   "cell_type": "code",
   "execution_count": 2,
   "metadata": {},
   "outputs": [],
   "source": [
    "df = pd.read_fwf('./wili dataset/x_train.txt', header=None)\n",
    "X_train = df[[0]]\n",
    "df = pd.read_fwf('./wili dataset/x_test.txt', header=None)\n",
    "X_test = df[[0]] "
   ]
  },
  {
   "cell_type": "code",
   "execution_count": 3,
   "metadata": {},
   "outputs": [],
   "source": [
    "target = pd.read_fwf('./wili dataset/y_train.txt',header = None)\n",
    "y_train = target[[0]]\n",
    "target = pd.read_fwf('./wili dataset/y_test.txt',header = None)\n",
    "y_test = target[[0]]"
   ]
  },
  {
   "cell_type": "code",
   "execution_count": 4,
   "metadata": {},
   "outputs": [],
   "source": [
    "y_train[y_train == 'be-tara'] = 'be-tarask'\n",
    "y_train[y_train == 'roa-tar'] = 'roa-tara'"
   ]
  },
  {
   "cell_type": "code",
   "execution_count": 5,
   "metadata": {},
   "outputs": [],
   "source": [
    "languages = ['eng', 'hin', 'mar', 'guj', 'tam', 'tcy', 'tel', 'pan', 'ben', 'mai']"
   ]
  },
  {
   "cell_type": "code",
   "execution_count": 6,
   "metadata": {},
   "outputs": [],
   "source": [
    "train_index = y_train.index[y_train[0].isin(languages)].tolist()"
   ]
  },
  {
   "cell_type": "code",
   "execution_count": 7,
   "metadata": {},
   "outputs": [],
   "source": [
    "test_index = y_test.index[y_test[0].isin(languages)].tolist()"
   ]
  },
  {
   "cell_type": "code",
   "execution_count": 8,
   "metadata": {},
   "outputs": [],
   "source": [
    "X_train_p = X_train.iloc[train_index,:]\n",
    "X_test_p = X_test.iloc[test_index,:]"
   ]
  },
  {
   "cell_type": "code",
   "execution_count": 9,
   "metadata": {},
   "outputs": [],
   "source": [
    "y_train_p = y_train.iloc[train_index, :]\n",
    "y_test_p = y_test.iloc[test_index, :]"
   ]
  },
  {
   "cell_type": "markdown",
   "metadata": {},
   "source": [
    "### Tokenize Labels"
   ]
  },
  {
   "cell_type": "code",
   "execution_count": 10,
   "metadata": {},
   "outputs": [],
   "source": [
    "label2int = {}\n",
    "int2label = {}\n",
    "counter = 0\n",
    "for label in languages:\n",
    "    if label not in label2int:\n",
    "        label2int[label] = counter\n",
    "        int2label[counter] = label\n",
    "    counter += 1"
   ]
  },
  {
   "cell_type": "code",
   "execution_count": 59,
   "metadata": {},
   "outputs": [],
   "source": [
    "pickle.dump(label2int, open('label2int.pkl', 'wb'))\n",
    "pickle.dump(int2label, open('int2label.pkl', 'wb'))"
   ]
  },
  {
   "cell_type": "markdown",
   "metadata": {},
   "source": [
    "### Tokenize target Variables"
   ]
  },
  {
   "cell_type": "code",
   "execution_count": 11,
   "metadata": {},
   "outputs": [],
   "source": [
    "y_train_int = []\n",
    "for label in y_train_p[0]:\n",
    "    y_train_int.append(label2int[label])"
   ]
  },
  {
   "cell_type": "code",
   "execution_count": 12,
   "metadata": {},
   "outputs": [],
   "source": [
    "y_test_int = []\n",
    "for label in y_test_p[0]:\n",
    "    y_test_int.append(label2int[label])"
   ]
  },
  {
   "cell_type": "markdown",
   "metadata": {},
   "source": [
    "### Data Preprocessing"
   ]
  },
  {
   "cell_type": "code",
   "execution_count": 13,
   "metadata": {},
   "outputs": [],
   "source": [
    "from sklearn.feature_extraction.text import TfidfVectorizer"
   ]
  },
  {
   "cell_type": "code",
   "execution_count": 14,
   "metadata": {},
   "outputs": [],
   "source": [
    "vectorizer = TfidfVectorizer(analyzer='char',min_df=25,lowercase=True, norm='l2')"
   ]
  },
  {
   "cell_type": "code",
   "execution_count": 15,
   "metadata": {},
   "outputs": [
    {
     "data": {
      "text/plain": [
       "TfidfVectorizer(analyzer='char', binary=False, decode_error='strict',\n",
       "        dtype=<class 'numpy.int64'>, encoding='utf-8', input='content',\n",
       "        lowercase=True, max_df=1.0, max_features=None, min_df=25,\n",
       "        ngram_range=(1, 1), norm='l2', preprocessor=None, smooth_idf=True,\n",
       "        stop_words=None, strip_accents=None, sublinear_tf=False,\n",
       "        token_pattern='(?u)\\\\b\\\\w\\\\w+\\\\b', tokenizer=None, use_idf=True,\n",
       "        vocabulary=None)"
      ]
     },
     "execution_count": 15,
     "metadata": {},
     "output_type": "execute_result"
    }
   ],
   "source": [
    "vectorizer.fit(X_train_p[0])"
   ]
  },
  {
   "cell_type": "code",
   "execution_count": 16,
   "metadata": {},
   "outputs": [],
   "source": [
    "X_train2int = vectorizer.transform(X_train_p[0]).toarray()"
   ]
  },
  {
   "cell_type": "code",
   "execution_count": 17,
   "metadata": {},
   "outputs": [],
   "source": [
    "X_test2int = vectorizer.transform(X_test_p[0]).toarray()"
   ]
  },
  {
   "cell_type": "code",
   "execution_count": 20,
   "metadata": {},
   "outputs": [],
   "source": [
    "import pickle"
   ]
  },
  {
   "cell_type": "code",
   "execution_count": 21,
   "metadata": {},
   "outputs": [],
   "source": [
    "pickle.dump(vectorizer, open('vectorizer.pkl', 'wb'))"
   ]
  },
  {
   "cell_type": "markdown",
   "metadata": {},
   "source": [
    "### Scaler"
   ]
  },
  {
   "cell_type": "code",
   "execution_count": 22,
   "metadata": {},
   "outputs": [],
   "source": [
    "from sklearn.preprocessing import StandardScaler"
   ]
  },
  {
   "cell_type": "code",
   "execution_count": 23,
   "metadata": {},
   "outputs": [],
   "source": [
    "sc = StandardScaler()"
   ]
  },
  {
   "cell_type": "code",
   "execution_count": 24,
   "metadata": {},
   "outputs": [
    {
     "data": {
      "text/plain": [
       "StandardScaler(copy=True, with_mean=True, with_std=True)"
      ]
     },
     "execution_count": 24,
     "metadata": {},
     "output_type": "execute_result"
    }
   ],
   "source": [
    "sc.fit(X_train2int)"
   ]
  },
  {
   "cell_type": "code",
   "execution_count": 25,
   "metadata": {},
   "outputs": [],
   "source": [
    "X_train2int_sc = sc.transform(X_train2int)\n",
    "X_test2int_sc = sc.transform(X_test2int)"
   ]
  },
  {
   "cell_type": "code",
   "execution_count": 26,
   "metadata": {},
   "outputs": [],
   "source": [
    "pickle.dump(sc, open('scaler.pkl', 'wb'))"
   ]
  },
  {
   "cell_type": "markdown",
   "metadata": {},
   "source": [
    "### PCA"
   ]
  },
  {
   "cell_type": "code",
   "execution_count": 27,
   "metadata": {},
   "outputs": [],
   "source": [
    "from sklearn.decomposition import PCA"
   ]
  },
  {
   "cell_type": "code",
   "execution_count": 28,
   "metadata": {},
   "outputs": [],
   "source": [
    "pca = PCA(n_components=80)"
   ]
  },
  {
   "cell_type": "code",
   "execution_count": 29,
   "metadata": {},
   "outputs": [
    {
     "data": {
      "text/plain": [
       "PCA(copy=True, iterated_power='auto', n_components=80, random_state=None,\n",
       "  svd_solver='auto', tol=0.0, whiten=False)"
      ]
     },
     "execution_count": 29,
     "metadata": {},
     "output_type": "execute_result"
    }
   ],
   "source": [
    "pca.fit(X_train2int_sc)"
   ]
  },
  {
   "cell_type": "code",
   "execution_count": 30,
   "metadata": {},
   "outputs": [],
   "source": [
    "X_train_pca = pca.transform(X_train2int_sc)"
   ]
  },
  {
   "cell_type": "code",
   "execution_count": 31,
   "metadata": {},
   "outputs": [],
   "source": [
    "X_test_pca = pca.transform(X_test2int_sc)"
   ]
  },
  {
   "cell_type": "code",
   "execution_count": 32,
   "metadata": {},
   "outputs": [],
   "source": [
    "import matplotlib.pyplot as plt"
   ]
  },
  {
   "cell_type": "code",
   "execution_count": 33,
   "metadata": {},
   "outputs": [
    {
     "data": {
      "image/png": "[encoded data removed]",
      "text/plain": [
       "<Figure size 432x288 with 1 Axes>"
      ]
     },
     "metadata": {},
     "output_type": "display_data"
    }
   ],
   "source": [
    "plt.plot(np.cumsum(pca.explained_variance_ratio_)*100)\n",
    "plt.xlabel(\"No. of components\")\n",
    "plt.ylabel(\"cummulative explained Variance\");"
   ]
  },
  {
   "cell_type": "code",
   "execution_count": 34,
   "metadata": {},
   "outputs": [],
   "source": [
    "pickle.dump(pca, open('pca.pkl', 'wb'))"
   ]
  },
  {
   "cell_type": "markdown",
   "metadata": {},
   "source": [
    "### One Hot Encoding"
   ]
  },
  {
   "cell_type": "code",
   "execution_count": 35,
   "metadata": {},
   "outputs": [],
   "source": [
    "from sklearn.preprocessing import OneHotEncoder"
   ]
  },
  {
   "cell_type": "code",
   "execution_count": 36,
   "metadata": {},
   "outputs": [],
   "source": [
    "y_train_int = np.array(y_train_int).reshape(-1, 1)\n",
    "y_test_int = np.array(y_test_int).reshape(-1, 1)"
   ]
  },
  {
   "cell_type": "code",
   "execution_count": 37,
   "metadata": {},
   "outputs": [],
   "source": [
    "enc = OneHotEncoder()"
   ]
  },
  {
   "cell_type": "code",
   "execution_count": 38,
   "metadata": {},
   "outputs": [
    {
     "data": {
      "text/plain": [
       "OneHotEncoder(categorical_features='all', dtype=<class 'numpy.float64'>,\n",
       "       handle_unknown='error', n_values='auto', sparse=True)"
      ]
     },
     "execution_count": 38,
     "metadata": {},
     "output_type": "execute_result"
    }
   ],
   "source": [
    "enc.fit(y_train_int)"
   ]
  },
  {
   "cell_type": "code",
   "execution_count": 39,
   "metadata": {},
   "outputs": [],
   "source": [
    "y_train_enc = enc.transform(y_train_int)\n",
    "y_test_enc = enc.transform(y_test_int)"
   ]
  },
  {
   "cell_type": "markdown",
   "metadata": {},
   "source": [
    "## Design ANN"
   ]
  },
  {
   "cell_type": "code",
   "execution_count": 40,
   "metadata": {},
   "outputs": [
    {
     "name": "stderr",
     "output_type": "stream",
     "text": [
      "C:\\Users\\Jatin\\Anaconda3\\lib\\site-packages\\h5py\\__init__.py:36: FutureWarning: Conversion of the second argument of issubdtype from `float` to `np.floating` is deprecated. In future, it will be treated as `np.float64 == np.dtype(float).type`.\n",
      "  from ._conv import register_converters as _register_converters\n",
      "Using TensorFlow backend.\n"
     ]
    }
   ],
   "source": [
    "import tensorflow as tf\n",
    "from keras.models import Sequential\n",
    "from keras.layers import Dense\n",
    "from keras.layers import Dropout"
   ]
  },
  {
   "cell_type": "code",
   "execution_count": 41,
   "metadata": {},
   "outputs": [
    {
     "name": "stderr",
     "output_type": "stream",
     "text": [
      "C:\\Users\\Jatin\\Anaconda3\\lib\\site-packages\\ipykernel_launcher.py:2: UserWarning: Update your `Dense` call to the Keras 2 API: `Dense(kernel_initializer=\"uniform\", activation=\"relu\", input_dim=80, units=60)`\n",
      "  \n",
      "C:\\Users\\Jatin\\Anaconda3\\lib\\site-packages\\ipykernel_launcher.py:4: UserWarning: Update your `Dense` call to the Keras 2 API: `Dense(kernel_initializer=\"uniform\", activation=\"relu\", units=60)`\n",
      "  after removing the cwd from sys.path.\n",
      "C:\\Users\\Jatin\\Anaconda3\\lib\\site-packages\\ipykernel_launcher.py:6: UserWarning: Update your `Dense` call to the Keras 2 API: `Dense(kernel_initializer=\"uniform\", activation=\"relu\", units=130)`\n",
      "  \n",
      "C:\\Users\\Jatin\\Anaconda3\\lib\\site-packages\\ipykernel_launcher.py:8: UserWarning: Update your `Dense` call to the Keras 2 API: `Dense(kernel_initializer=\"uniform\", activation=\"softmax\", units=10)`\n",
      "  \n"
     ]
    }
   ],
   "source": [
    "clf = Sequential()\n",
    "clf.add(Dense(output_dim = 60, kernel_initializer = 'uniform', activation='relu', input_dim = 80))\n",
    "clf.add(Dropout(rate=0.2))\n",
    "clf.add(Dense(output_dim = 60, kernel_initializer = 'uniform', activation='relu'))\n",
    "clf.add(Dropout(rate=0.2))\n",
    "clf.add(Dense(output_dim = 130, kernel_initializer = 'uniform', activation='relu'))\n",
    "clf.add(Dropout(rate=0.2))\n",
    "clf.add(Dense(output_dim =10  , kernel_initializer = 'uniform', activation='softmax'))"
   ]
  },
  {
   "cell_type": "code",
   "execution_count": 42,
   "metadata": {},
   "outputs": [],
   "source": [
    "clf.compile(optimizer= 'adam', loss='categorical_crossentropy', metrics = ['accuracy'])"
   ]
  },
  {
   "cell_type": "code",
   "execution_count": 43,
   "metadata": {},
   "outputs": [
    {
     "name": "stdout",
     "output_type": "stream",
     "text": [
      "Train on 5000 samples, validate on 5000 samples\n",
      "Epoch 1/100\n",
      "5000/5000 [==============================] - 13s 3ms/step - loss: 0.7558 - acc: 0.7816 - val_loss: 0.1562 - val_acc: 0.9612\n",
      "Epoch 2/100\n",
      "5000/5000 [==============================] - 2s 310us/step - loss: 0.1555 - acc: 0.9596 - val_loss: 0.1577 - val_acc: 0.9614\n",
      "Epoch 3/100\n",
      "5000/5000 [==============================] - 2s 349us/step - loss: 0.1322 - acc: 0.9674 - val_loss: 0.1573 - val_acc: 0.9606\n",
      "Epoch 4/100\n",
      "5000/5000 [==============================] - 2s 350us/step - loss: 0.1165 - acc: 0.9706 - val_loss: 0.1433 - val_acc: 0.9658\n",
      "Epoch 5/100\n",
      "5000/5000 [==============================] - 2s 333us/step - loss: 0.1096 - acc: 0.9710 - val_loss: 0.1490 - val_acc: 0.9640\n",
      "Epoch 6/100\n",
      "5000/5000 [==============================] - 2s 305us/step - loss: 0.1105 - acc: 0.9732 - val_loss: 0.1494 - val_acc: 0.9640\n",
      "Epoch 7/100\n",
      "5000/5000 [==============================] - 2s 306us/step - loss: 0.1068 - acc: 0.9722 - val_loss: 0.1514 - val_acc: 0.9622\n",
      "Epoch 8/100\n",
      "5000/5000 [==============================] - 2s 306us/step - loss: 0.0948 - acc: 0.9764 - val_loss: 0.1675 - val_acc: 0.9626\n",
      "Epoch 9/100\n",
      "5000/5000 [==============================] - 2s 307us/step - loss: 0.0908 - acc: 0.9762 - val_loss: 0.1614 - val_acc: 0.9618\n",
      "Epoch 10/100\n",
      "5000/5000 [==============================] - 2s 309us/step - loss: 0.0991 - acc: 0.9736 - val_loss: 0.1728 - val_acc: 0.9606\n",
      "Epoch 11/100\n",
      "5000/5000 [==============================] - 2s 311us/step - loss: 0.0963 - acc: 0.9746 - val_loss: 0.1685 - val_acc: 0.9622\n",
      "Epoch 12/100\n",
      "5000/5000 [==============================] - 2s 311us/step - loss: 0.0874 - acc: 0.9760 - val_loss: 0.1839 - val_acc: 0.9630\n",
      "Epoch 13/100\n",
      "5000/5000 [==============================] - 2s 325us/step - loss: 0.0878 - acc: 0.9776 - val_loss: 0.1692 - val_acc: 0.9636\n",
      "Epoch 14/100\n",
      "5000/5000 [==============================] - 2s 309us/step - loss: 0.0852 - acc: 0.9778 - val_loss: 0.1744 - val_acc: 0.9644\n",
      "Epoch 15/100\n",
      "5000/5000 [==============================] - 2s 320us/step - loss: 0.0813 - acc: 0.9790 - val_loss: 0.1708 - val_acc: 0.9652\n",
      "Epoch 16/100\n",
      "5000/5000 [==============================] - 2s 319us/step - loss: 0.0729 - acc: 0.9806 - val_loss: 0.1737 - val_acc: 0.9650\n",
      "Epoch 17/100\n",
      "5000/5000 [==============================] - 2s 313us/step - loss: 0.0771 - acc: 0.9804 - val_loss: 0.1736 - val_acc: 0.9630\n",
      "Epoch 18/100\n",
      "5000/5000 [==============================] - 2s 310us/step - loss: 0.0802 - acc: 0.9786 - val_loss: 0.1870 - val_acc: 0.9634\n",
      "Epoch 19/100\n",
      "5000/5000 [==============================] - 2s 309us/step - loss: 0.0806 - acc: 0.9796 - val_loss: 0.1732 - val_acc: 0.9636\n",
      "Epoch 20/100\n",
      "5000/5000 [==============================] - 2s 308us/step - loss: 0.0717 - acc: 0.9818 - val_loss: 0.1951 - val_acc: 0.9624\n",
      "Epoch 21/100\n",
      "5000/5000 [==============================] - 2s 313us/step - loss: 0.0658 - acc: 0.9830 - val_loss: 0.1786 - val_acc: 0.9638\n",
      "Epoch 22/100\n",
      "5000/5000 [==============================] - 2s 340us/step - loss: 0.0709 - acc: 0.9814 - val_loss: 0.1838 - val_acc: 0.9646\n",
      "Epoch 23/100\n",
      "5000/5000 [==============================] - 1s 297us/step - loss: 0.0745 - acc: 0.9796 - val_loss: 0.2080 - val_acc: 0.9626\n",
      "Epoch 24/100\n",
      "5000/5000 [==============================] - 2s 312us/step - loss: 0.0710 - acc: 0.9826 - val_loss: 0.1832 - val_acc: 0.9628\n",
      "Epoch 25/100\n",
      "5000/5000 [==============================] - 2s 314us/step - loss: 0.0608 - acc: 0.9848 - val_loss: 0.2104 - val_acc: 0.9608\n",
      "Epoch 26/100\n",
      "5000/5000 [==============================] - 1s 300us/step - loss: 0.0674 - acc: 0.9826 - val_loss: 0.2078 - val_acc: 0.9630\n",
      "Epoch 27/100\n",
      "5000/5000 [==============================] - 2s 302us/step - loss: 0.0696 - acc: 0.9828 - val_loss: 0.1901 - val_acc: 0.9646\n",
      "Epoch 28/100\n",
      "5000/5000 [==============================] - 1s 294us/step - loss: 0.0683 - acc: 0.9810 - val_loss: 0.1949 - val_acc: 0.9648\n",
      "Epoch 29/100\n",
      "5000/5000 [==============================] - 1s 294us/step - loss: 0.0626 - acc: 0.9822 - val_loss: 0.1878 - val_acc: 0.9608\n",
      "Epoch 30/100\n",
      "5000/5000 [==============================] - 1s 294us/step - loss: 0.0641 - acc: 0.9844 - val_loss: 0.2055 - val_acc: 0.9598\n",
      "Epoch 31/100\n",
      "5000/5000 [==============================] - 1s 296us/step - loss: 0.0538 - acc: 0.9840 - val_loss: 0.1969 - val_acc: 0.9620\n",
      "Epoch 32/100\n",
      "5000/5000 [==============================] - 1s 296us/step - loss: 0.0674 - acc: 0.9816 - val_loss: 0.2003 - val_acc: 0.9622\n",
      "Epoch 33/100\n",
      "5000/5000 [==============================] - 1s 293us/step - loss: 0.0584 - acc: 0.9826 - val_loss: 0.2247 - val_acc: 0.9602\n",
      "Epoch 34/100\n",
      "5000/5000 [==============================] - 1s 294us/step - loss: 0.0637 - acc: 0.9826 - val_loss: 0.2022 - val_acc: 0.9626\n",
      "Epoch 35/100\n",
      "5000/5000 [==============================] - 1s 294us/step - loss: 0.0541 - acc: 0.9852 - val_loss: 0.1991 - val_acc: 0.9630\n",
      "Epoch 36/100\n",
      "5000/5000 [==============================] - 1s 293us/step - loss: 0.0617 - acc: 0.9830 - val_loss: 0.2047 - val_acc: 0.9652\n",
      "Epoch 37/100\n",
      "5000/5000 [==============================] - 1s 294us/step - loss: 0.0455 - acc: 0.9890 - val_loss: 0.2101 - val_acc: 0.9642\n",
      "Epoch 38/100\n",
      "5000/5000 [==============================] - 1s 294us/step - loss: 0.0572 - acc: 0.9840 - val_loss: 0.2188 - val_acc: 0.9644\n",
      "Epoch 39/100\n",
      "5000/5000 [==============================] - 2s 363us/step - loss: 0.0550 - acc: 0.9838 - val_loss: 0.2096 - val_acc: 0.9626\n",
      "Epoch 40/100\n",
      "5000/5000 [==============================] - 2s 373us/step - loss: 0.0524 - acc: 0.9848 - val_loss: 0.1996 - val_acc: 0.9644\n",
      "Epoch 41/100\n",
      "5000/5000 [==============================] - 2s 366us/step - loss: 0.0557 - acc: 0.9830 - val_loss: 0.2032 - val_acc: 0.9642\n",
      "Epoch 42/100\n",
      "5000/5000 [==============================] - 2s 351us/step - loss: 0.0526 - acc: 0.9850 - val_loss: 0.2348 - val_acc: 0.9646\n",
      "Epoch 43/100\n",
      "5000/5000 [==============================] - 2s 336us/step - loss: 0.0483 - acc: 0.9858 - val_loss: 0.2154 - val_acc: 0.9642\n",
      "Epoch 44/100\n",
      "5000/5000 [==============================] - 2s 315us/step - loss: 0.0554 - acc: 0.9848 - val_loss: 0.2132 - val_acc: 0.9634\n",
      "Epoch 45/100\n",
      "5000/5000 [==============================] - 2s 309us/step - loss: 0.0560 - acc: 0.9830 - val_loss: 0.2269 - val_acc: 0.9628\n",
      "Epoch 46/100\n",
      "5000/5000 [==============================] - 2s 309us/step - loss: 0.0515 - acc: 0.9850 - val_loss: 0.2116 - val_acc: 0.9636\n",
      "Epoch 47/100\n",
      "5000/5000 [==============================] - 2s 329us/step - loss: 0.0472 - acc: 0.9856 - val_loss: 0.2014 - val_acc: 0.9636\n",
      "Epoch 48/100\n",
      "5000/5000 [==============================] - 2s 334us/step - loss: 0.0471 - acc: 0.9846 - val_loss: 0.2114 - val_acc: 0.9594\n",
      "Epoch 49/100\n",
      "5000/5000 [==============================] - 2s 323us/step - loss: 0.0480 - acc: 0.9862 - val_loss: 0.2026 - val_acc: 0.9648\n",
      "Epoch 50/100\n",
      "5000/5000 [==============================] - 2s 307us/step - loss: 0.0389 - acc: 0.9870 - val_loss: 0.2201 - val_acc: 0.9630\n",
      "Epoch 51/100\n",
      "5000/5000 [==============================] - 2s 308us/step - loss: 0.0477 - acc: 0.9864 - val_loss: 0.2188 - val_acc: 0.9614\n",
      "Epoch 52/100\n",
      "5000/5000 [==============================] - 2s 312us/step - loss: 0.0496 - acc: 0.9862 - val_loss: 0.2062 - val_acc: 0.9650\n",
      "Epoch 53/100\n",
      "5000/5000 [==============================] - 2s 309us/step - loss: 0.0469 - acc: 0.9866 - val_loss: 0.2189 - val_acc: 0.9626\n",
      "Epoch 54/100\n",
      "5000/5000 [==============================] - 2s 306us/step - loss: 0.0573 - acc: 0.9844 - val_loss: 0.2206 - val_acc: 0.9602\n",
      "Epoch 55/100\n",
      "5000/5000 [==============================] - 2s 316us/step - loss: 0.0420 - acc: 0.9882 - val_loss: 0.2257 - val_acc: 0.9658\n",
      "Epoch 56/100\n",
      "5000/5000 [==============================] - 2s 307us/step - loss: 0.0429 - acc: 0.9862 - val_loss: 0.2322 - val_acc: 0.9632\n",
      "Epoch 57/100\n",
      "5000/5000 [==============================] - 2s 314us/step - loss: 0.0418 - acc: 0.9860 - val_loss: 0.2261 - val_acc: 0.9626\n",
      "Epoch 58/100\n",
      "5000/5000 [==============================] - 2s 310us/step - loss: 0.0429 - acc: 0.9874 - val_loss: 0.2387 - val_acc: 0.9628\n",
      "Epoch 59/100\n",
      "5000/5000 [==============================] - 2s 307us/step - loss: 0.0395 - acc: 0.9890 - val_loss: 0.2444 - val_acc: 0.9614\n",
      "Epoch 60/100\n"
     ]
    },
    {
     "name": "stdout",
     "output_type": "stream",
     "text": [
      "5000/5000 [==============================] - 2s 308us/step - loss: 0.0418 - acc: 0.9876 - val_loss: 0.2665 - val_acc: 0.9614\n",
      "Epoch 61/100\n",
      "5000/5000 [==============================] - 2s 307us/step - loss: 0.0458 - acc: 0.9876 - val_loss: 0.2409 - val_acc: 0.9634\n",
      "Epoch 62/100\n",
      "5000/5000 [==============================] - 2s 315us/step - loss: 0.0419 - acc: 0.9874 - val_loss: 0.2407 - val_acc: 0.9632\n",
      "Epoch 63/100\n",
      "5000/5000 [==============================] - 2s 306us/step - loss: 0.0432 - acc: 0.9896 - val_loss: 0.2548 - val_acc: 0.9622\n",
      "Epoch 64/100\n",
      "5000/5000 [==============================] - 2s 306us/step - loss: 0.0387 - acc: 0.9878 - val_loss: 0.2640 - val_acc: 0.9614\n",
      "Epoch 65/100\n",
      "5000/5000 [==============================] - 2s 307us/step - loss: 0.0420 - acc: 0.9874 - val_loss: 0.2494 - val_acc: 0.9638\n",
      "Epoch 66/100\n",
      "5000/5000 [==============================] - 2s 307us/step - loss: 0.0497 - acc: 0.9852 - val_loss: 0.2479 - val_acc: 0.9606\n",
      "Epoch 67/100\n",
      "5000/5000 [==============================] - 2s 313us/step - loss: 0.0431 - acc: 0.9890 - val_loss: 0.2543 - val_acc: 0.9606\n",
      "Epoch 68/100\n",
      "5000/5000 [==============================] - 2s 308us/step - loss: 0.0441 - acc: 0.9872 - val_loss: 0.2674 - val_acc: 0.9616\n",
      "Epoch 69/100\n",
      "5000/5000 [==============================] - 2s 317us/step - loss: 0.0423 - acc: 0.9882 - val_loss: 0.2584 - val_acc: 0.9636\n",
      "Epoch 70/100\n",
      "5000/5000 [==============================] - 2s 308us/step - loss: 0.0383 - acc: 0.9888 - val_loss: 0.2484 - val_acc: 0.9636\n",
      "Epoch 71/100\n",
      "5000/5000 [==============================] - 2s 310us/step - loss: 0.0373 - acc: 0.9892 - val_loss: 0.2491 - val_acc: 0.9634\n",
      "Epoch 72/100\n",
      "5000/5000 [==============================] - 2s 313us/step - loss: 0.0356 - acc: 0.9902 - val_loss: 0.2542 - val_acc: 0.9648\n",
      "Epoch 73/100\n",
      "5000/5000 [==============================] - 2s 308us/step - loss: 0.0390 - acc: 0.9884 - val_loss: 0.2586 - val_acc: 0.9630\n",
      "Epoch 74/100\n",
      "5000/5000 [==============================] - 2s 314us/step - loss: 0.0451 - acc: 0.9878 - val_loss: 0.2605 - val_acc: 0.9630\n",
      "Epoch 75/100\n",
      "5000/5000 [==============================] - 2s 321us/step - loss: 0.0404 - acc: 0.9866 - val_loss: 0.2453 - val_acc: 0.9630\n",
      "Epoch 76/100\n",
      "5000/5000 [==============================] - 2s 318us/step - loss: 0.0353 - acc: 0.9886 - val_loss: 0.2658 - val_acc: 0.9630\n",
      "Epoch 77/100\n",
      "5000/5000 [==============================] - 2s 315us/step - loss: 0.0412 - acc: 0.9876 - val_loss: 0.2717 - val_acc: 0.9620\n",
      "Epoch 78/100\n",
      "5000/5000 [==============================] - 2s 308us/step - loss: 0.0358 - acc: 0.9896 - val_loss: 0.2730 - val_acc: 0.9624\n",
      "Epoch 79/100\n",
      "5000/5000 [==============================] - 2s 309us/step - loss: 0.0383 - acc: 0.9874 - val_loss: 0.2521 - val_acc: 0.9582\n",
      "Epoch 80/100\n",
      "5000/5000 [==============================] - 2s 312us/step - loss: 0.0275 - acc: 0.9910 - val_loss: 0.2620 - val_acc: 0.9624\n",
      "Epoch 81/100\n",
      "5000/5000 [==============================] - 2s 308us/step - loss: 0.0352 - acc: 0.9900 - val_loss: 0.2649 - val_acc: 0.9616\n",
      "Epoch 82/100\n",
      "5000/5000 [==============================] - 2s 307us/step - loss: 0.0498 - acc: 0.9860 - val_loss: 0.2671 - val_acc: 0.9600\n",
      "Epoch 83/100\n",
      "5000/5000 [==============================] - 2s 307us/step - loss: 0.0318 - acc: 0.9882 - val_loss: 0.2682 - val_acc: 0.9618\n",
      "Epoch 84/100\n",
      "5000/5000 [==============================] - 2s 306us/step - loss: 0.0300 - acc: 0.9902 - val_loss: 0.2603 - val_acc: 0.9616\n",
      "Epoch 85/100\n",
      "5000/5000 [==============================] - 2s 307us/step - loss: 0.0277 - acc: 0.9906 - val_loss: 0.2698 - val_acc: 0.9612\n",
      "Epoch 86/100\n",
      "5000/5000 [==============================] - 2s 307us/step - loss: 0.0411 - acc: 0.9890 - val_loss: 0.2626 - val_acc: 0.9596\n",
      "Epoch 87/100\n",
      "5000/5000 [==============================] - 2s 307us/step - loss: 0.0454 - acc: 0.9868 - val_loss: 0.2546 - val_acc: 0.9608\n",
      "Epoch 88/100\n",
      "5000/5000 [==============================] - 2s 308us/step - loss: 0.0327 - acc: 0.9894 - val_loss: 0.2682 - val_acc: 0.9642\n",
      "Epoch 89/100\n",
      "5000/5000 [==============================] - 2s 307us/step - loss: 0.0413 - acc: 0.9898 - val_loss: 0.2587 - val_acc: 0.9632\n",
      "Epoch 90/100\n",
      "5000/5000 [==============================] - 2s 306us/step - loss: 0.0404 - acc: 0.9876 - val_loss: 0.2429 - val_acc: 0.9616\n",
      "Epoch 91/100\n",
      "5000/5000 [==============================] - 2s 306us/step - loss: 0.0376 - acc: 0.9888 - val_loss: 0.2359 - val_acc: 0.9632\n",
      "Epoch 92/100\n",
      "5000/5000 [==============================] - 2s 308us/step - loss: 0.0283 - acc: 0.9898 - val_loss: 0.2515 - val_acc: 0.9630\n",
      "Epoch 93/100\n",
      "5000/5000 [==============================] - 2s 306us/step - loss: 0.0317 - acc: 0.9904 - val_loss: 0.2485 - val_acc: 0.9642\n",
      "Epoch 94/100\n",
      "5000/5000 [==============================] - 2s 307us/step - loss: 0.0288 - acc: 0.9920 - val_loss: 0.2652 - val_acc: 0.9644\n",
      "Epoch 95/100\n",
      "5000/5000 [==============================] - 2s 307us/step - loss: 0.0271 - acc: 0.9930 - val_loss: 0.2835 - val_acc: 0.9604\n",
      "Epoch 96/100\n",
      "5000/5000 [==============================] - 2s 307us/step - loss: 0.0344 - acc: 0.9906 - val_loss: 0.2665 - val_acc: 0.9634\n",
      "Epoch 97/100\n",
      "5000/5000 [==============================] - 2s 306us/step - loss: 0.0356 - acc: 0.9884 - val_loss: 0.2598 - val_acc: 0.9602\n",
      "Epoch 98/100\n",
      "5000/5000 [==============================] - 2s 307us/step - loss: 0.0277 - acc: 0.9918 - val_loss: 0.2822 - val_acc: 0.9608\n",
      "Epoch 99/100\n",
      "5000/5000 [==============================] - 2s 306us/step - loss: 0.0425 - acc: 0.9894 - val_loss: 0.2771 - val_acc: 0.9626\n",
      "Epoch 100/100\n",
      "5000/5000 [==============================] - 2s 306us/step - loss: 0.0291 - acc: 0.9906 - val_loss: 0.2615 - val_acc: 0.9644\n"
     ]
    }
   ],
   "source": [
    "with tf.device('/gpu:0'):\n",
    "    history = clf.fit(X_train_pca, y_train_enc, batch_size=16, epochs=100, validation_data=(X_test_pca,y_test_enc))"
   ]
  },
  {
   "cell_type": "code",
   "execution_count": 55,
   "metadata": {},
   "outputs": [],
   "source": [
    "from keras.models import model_from_json\n",
    "model_json = clf.to_json()\n",
    "with open(\"model.json\", \"w\") as json_file:\n",
    "    json_file.write(model_json)\n",
    "# serialize weights to HDF5\n",
    "clf.save_weights(\"model.h5\")"
   ]
  },
  {
   "cell_type": "markdown",
   "metadata": {},
   "source": [
    "## Evaluation"
   ]
  },
  {
   "cell_type": "code",
   "execution_count": 44,
   "metadata": {},
   "outputs": [],
   "source": [
    "y_pred_test_label = clf.predict(X_test_pca)\n",
    "y_pred_train_label = clf.predict(X_train_pca)"
   ]
  },
  {
   "cell_type": "code",
   "execution_count": 45,
   "metadata": {},
   "outputs": [],
   "source": [
    "y_pred_test = np.argmax(y_pred_test_label, axis=1)\n",
    "y_pred_train = np.argmax(y_pred_train_label, axis=1)"
   ]
  },
  {
   "cell_type": "code",
   "execution_count": 46,
   "metadata": {},
   "outputs": [],
   "source": [
    "y_train_true = y_train_int.astype(np.int)\n",
    "y_test_true = y_test_int.astype(np.int)"
   ]
  },
  {
   "cell_type": "markdown",
   "metadata": {},
   "source": [
    "## Graph Plot"
   ]
  },
  {
   "cell_type": "markdown",
   "metadata": {},
   "source": [
    "### Model Accuracy Graph"
   ]
  },
  {
   "cell_type": "code",
   "execution_count": 47,
   "metadata": {},
   "outputs": [
    {
     "data": {
      "image/png": "[encoded data removed]",
      "text/plain": [
       "<Figure size 432x288 with 1 Axes>"
      ]
     },
     "metadata": {},
     "output_type": "display_data"
    }
   ],
   "source": [
    "plt.plot(history.history['acc'])\n",
    "plt.plot(history.history['val_acc'])\n",
    "plt.title('model accuracy')\n",
    "plt.ylabel('accuracy')\n",
    "plt.xlabel('epoch')\n",
    "plt.legend(['train', 'test'], loc='upper left')\n",
    "plt.show()"
   ]
  },
  {
   "cell_type": "markdown",
   "metadata": {},
   "source": [
    "### Model Loss Graph"
   ]
  },
  {
   "cell_type": "code",
   "execution_count": 48,
   "metadata": {},
   "outputs": [
    {
     "data": {
      "image/png": "[encoded data removed]",
      "text/plain": [
       "<Figure size 432x288 with 1 Axes>"
      ]
     },
     "metadata": {},
     "output_type": "display_data"
    }
   ],
   "source": [
    "# summarize history for loss\n",
    "plt.plot(history.history['loss'])\n",
    "plt.plot(history.history['val_loss'])\n",
    "plt.title('model loss')\n",
    "plt.ylabel('loss')\n",
    "plt.xlabel('epoch')\n",
    "plt.legend(['train', 'test'], loc='upper left')\n",
    "plt.show()"
   ]
  },
  {
   "cell_type": "markdown",
   "metadata": {},
   "source": [
    "## Classification Report"
   ]
  },
  {
   "cell_type": "code",
   "execution_count": 49,
   "metadata": {},
   "outputs": [],
   "source": [
    "from sklearn.metrics import classification_report"
   ]
  },
  {
   "cell_type": "markdown",
   "metadata": {},
   "source": [
    "#### Train Data report"
   ]
  },
  {
   "cell_type": "code",
   "execution_count": 50,
   "metadata": {},
   "outputs": [
    {
     "name": "stdout",
     "output_type": "stream",
     "text": [
      "             precision    recall  f1-score   support\n",
      "\n",
      "          0       0.98      1.00      0.99       500\n",
      "          1       1.00      1.00      1.00       500\n",
      "          2       1.00      1.00      1.00       500\n",
      "          3       1.00      0.99      1.00       500\n",
      "          4       1.00      1.00      1.00       500\n",
      "          5       1.00      1.00      1.00       500\n",
      "          6       1.00      0.99      1.00       500\n",
      "          7       1.00      1.00      1.00       500\n",
      "          8       1.00      1.00      1.00       500\n",
      "          9       1.00      1.00      1.00       500\n",
      "\n",
      "avg / total       1.00      1.00      1.00      5000\n",
      "\n"
     ]
    }
   ],
   "source": [
    "print(classification_report(y_train_true, y_pred_train))"
   ]
  },
  {
   "cell_type": "markdown",
   "metadata": {},
   "source": [
    "#### Test Data Report"
   ]
  },
  {
   "cell_type": "code",
   "execution_count": 51,
   "metadata": {},
   "outputs": [
    {
     "name": "stdout",
     "output_type": "stream",
     "text": [
      "             precision    recall  f1-score   support\n",
      "\n",
      "          0       0.85      0.95      0.89       500\n",
      "          1       0.95      0.95      0.95       500\n",
      "          2       0.98      0.97      0.97       500\n",
      "          3       0.99      0.97      0.98       500\n",
      "          4       1.00      0.99      0.99       500\n",
      "          5       1.00      1.00      1.00       500\n",
      "          6       0.99      0.94      0.96       500\n",
      "          7       0.99      0.98      0.99       500\n",
      "          8       0.96      0.96      0.96       500\n",
      "          9       0.97      0.94      0.95       500\n",
      "\n",
      "avg / total       0.97      0.96      0.96      5000\n",
      "\n"
     ]
    }
   ],
   "source": [
    "print(classification_report(y_test_true, y_pred_test))"
   ]
  },
  {
   "cell_type": "markdown",
   "metadata": {},
   "source": [
    "## Confusion Matrix"
   ]
  },
  {
   "cell_type": "code",
   "execution_count": 52,
   "metadata": {},
   "outputs": [],
   "source": [
    "from sklearn.metrics import confusion_matrix"
   ]
  },
  {
   "cell_type": "markdown",
   "metadata": {},
   "source": [
    "### Train data"
   ]
  },
  {
   "cell_type": "code",
   "execution_count": 53,
   "metadata": {},
   "outputs": [
    {
     "name": "stdout",
     "output_type": "stream",
     "text": [
      "[[500   1   1   3   1   0   2   1   1   0]\n",
      " [  0 499   0   0   0   0   0   0   0   2]\n",
      " [  0   0 499   0   0   0   0   0   0   0]\n",
      " [  0   0   0 497   0   0   0   0   0   0]\n",
      " [  0   0   0   0 499   0   0   0   0   0]\n",
      " [  0   0   0   0   0 500   0   0   0   0]\n",
      " [  0   0   0   0   0   0 497   0   0   0]\n",
      " [  0   0   0   0   0   0   0 499   0   0]\n",
      " [  0   0   0   0   0   0   1   0 499   0]\n",
      " [  0   0   0   0   0   0   0   0   0 498]]\n"
     ]
    }
   ],
   "source": [
    "print(confusion_matrix(y_pred_train, y_train_true))"
   ]
  },
  {
   "cell_type": "markdown",
   "metadata": {},
   "source": [
    "### Test data"
   ]
  },
  {
   "cell_type": "code",
   "execution_count": 54,
   "metadata": {},
   "outputs": [
    {
     "name": "stdout",
     "output_type": "stream",
     "text": [
      "[[474   9  11  14   1   0  22   6  15   8]\n",
      " [  2 474   2   0   1   0   2   0   0  16]\n",
      " [  1   8 483   0   0   0   0   0   0   3]\n",
      " [  5   0   0 484   0   0   0   0   1   0]\n",
      " [  1   0   0   0 494   0   0   0   1   0]\n",
      " [  0   0   0   0   0 500   1   0   0   0]\n",
      " [  5   0   1   0   0   0 472   0   1   0]\n",
      " [  1   0   0   0   0   0   0 492   2   0]\n",
      " [  9   1   1   2   4   0   2   1 478   2]\n",
      " [  2   8   2   0   0   0   1   1   2 471]]\n"
     ]
    }
   ],
   "source": [
    "print(confusion_matrix(y_pred_test, y_test_true))"
   ]
  },
  {
   "cell_type": "markdown",
   "metadata": {},
   "source": [
    "### Making Single Prediction"
   ]
  },
  {
   "cell_type": "code",
   "execution_count": 56,
   "metadata": {},
   "outputs": [],
   "source": [
    "json_file = open('model.json', 'r')\n",
    "loaded_model_json = json_file.read()\n",
    "json_file.close()\n",
    "model = model_from_json(loaded_model_json)\n",
    "# load weights into new model\n",
    "model.load_weights(\"model.h5\")\n",
    "model.compile(optimizer= 'adam', loss='categorical_crossentropy', metrics = ['accuracy'])"
   ]
  },
  {
   "cell_type": "code",
   "execution_count": 60,
   "metadata": {},
   "outputs": [],
   "source": [
    "vectorizer = pickle.load(open('vectorizer.pkl', 'rb'))\n",
    "scaler = pickle.load(open('scaler.pkl', 'rb'))\n",
    "pca = pickle.load(open('pca.pkl', 'rb'))\n",
    "label2int = pickle.load(open('label2int.pkl', 'rb'))\n",
    "int2label = pickle.load(open('int2label.pkl', 'rb'))"
   ]
  },
  {
   "cell_type": "code",
   "execution_count": 63,
   "metadata": {},
   "outputs": [],
   "source": [
    "X = pd.DataFrame(data=['but you\\'ll need to verify that none of your strings are decoded using the wrong codec; Latin-1 works for any input as it maps the byte values 0-255 to the first 256 Unicode codepoints directly.'])"
   ]
  },
  {
   "cell_type": "code",
   "execution_count": 66,
   "metadata": {},
   "outputs": [
    {
     "data": {
      "text/plain": [
       "array([[9.9383825e-01, 1.7145207e-12, 4.5606433e-13, 5.8924714e-14,\n",
       "        3.2238488e-04, 7.1340801e-14, 1.2357427e-16, 2.4675615e-03,\n",
       "        3.3717938e-03, 3.2058068e-11]], dtype=float32)"
      ]
     },
     "execution_count": 66,
     "metadata": {},
     "output_type": "execute_result"
    }
   ],
   "source": [
    "model.predict(pca.transform(scaler.transform(vectorizer.transform(X[0]).toarray())))"
   ]
  },
  {
   "cell_type": "code",
   "execution_count": null,
   "metadata": {},
   "outputs": [],
   "source": []
  }
 ],
 "metadata": {
  "kernelspec": {
   "display_name": "Python 3",
   "language": "python",
   "name": "python3"
  },
  "language_info": {
   "codemirror_mode": {
    "name": "ipython",
    "version": 3
   },
   "file_extension": ".py",
   "mimetype": "text/x-python",
   "name": "python",
   "nbconvert_exporter": "python",
   "pygments_lexer": "ipython3",
   "version": "3.6.5"
  }
 },
 "nbformat": 4,
 "nbformat_minor": 2
}
