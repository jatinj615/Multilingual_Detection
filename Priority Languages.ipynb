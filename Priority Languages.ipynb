{
 "cells": [
  {
   "cell_type": "code",
   "execution_count": 1,
   "metadata": {},
   "outputs": [],
   "source": [
    "import numpy as np\n",
    "import pandas as pd\n",
    "import pickle"
   ]
  },
  {
   "cell_type": "code",
   "execution_count": 2,
   "metadata": {},
   "outputs": [],
   "source": [
    "df = pd.read_fwf('./wili dataset/x_train.txt', header=None)\n",
    "X_train = df[[0]]\n",
    "df = pd.read_fwf('./wili dataset/x_test.txt', header=None)\n",
    "X_test = df[[0]] "
   ]
  },
  {
   "cell_type": "code",
   "execution_count": 3,
   "metadata": {},
   "outputs": [],
   "source": [
    "target = pd.read_fwf('./wili dataset/y_train.txt',header = None)\n",
    "y_train = target[[0]]\n",
    "target = pd.read_fwf('./wili dataset/y_test.txt',header = None)\n",
    "y_test = target[[0]]"
   ]
  },
  {
   "cell_type": "code",
   "execution_count": 4,
   "metadata": {},
   "outputs": [],
   "source": [
    "y_train[y_train == 'be-tara'] = 'be-tarask'\n",
    "y_train[y_train == 'roa-tar'] = 'roa-tara'"
   ]
  },
  {
   "cell_type": "code",
   "execution_count": 5,
   "metadata": {},
   "outputs": [],
   "source": [
    "languages = ['eng', 'hin', 'mar', 'guj', 'tam', 'tcy', 'tel', 'pan', 'ben', 'mai']"
   ]
  },
  {
   "cell_type": "code",
   "execution_count": 6,
   "metadata": {},
   "outputs": [],
   "source": [
    "train_index = y_train.index[y_train[0].isin(languages)].tolist()"
   ]
  },
  {
   "cell_type": "code",
   "execution_count": 7,
   "metadata": {},
   "outputs": [],
   "source": [
    "test_index = y_test.index[y_test[0].isin(languages)].tolist()"
   ]
  },
  {
   "cell_type": "code",
   "execution_count": 8,
   "metadata": {},
   "outputs": [],
   "source": [
    "X_train_p = X_train.iloc[train_index,:]\n",
    "X_test_p = X_test.iloc[test_index,:]"
   ]
  },
  {
   "cell_type": "code",
   "execution_count": 9,
   "metadata": {},
   "outputs": [],
   "source": [
    "y_train_p = y_train.iloc[train_index, :]\n",
    "y_test_p = y_test.iloc[test_index, :]"
   ]
  },
  {
   "cell_type": "markdown",
   "metadata": {},
   "source": [
    "### Tokenize Labels"
   ]
  },
  {
   "cell_type": "code",
   "execution_count": 10,
   "metadata": {},
   "outputs": [],
   "source": [
    "label2int = {}\n",
    "int2label = {}\n",
    "counter = 0\n",
    "for label in languages:\n",
    "    if label not in label2int:\n",
    "        label2int[label] = counter\n",
    "        int2label[counter] = label\n",
    "    counter += 1"
   ]
  },
  {
   "cell_type": "code",
   "execution_count": 11,
   "metadata": {},
   "outputs": [],
   "source": [
    "pickle.dump(label2int, open('label2int.pkl', 'wb'))\n",
    "pickle.dump(int2label, open('int2label.pkl', 'wb'))"
   ]
  },
  {
   "cell_type": "markdown",
   "metadata": {},
   "source": [
    "### Tokenize target Variables"
   ]
  },
  {
   "cell_type": "code",
   "execution_count": 12,
   "metadata": {},
   "outputs": [],
   "source": [
    "y_train_int = []\n",
    "for label in y_train_p[0]:\n",
    "    y_train_int.append(label2int[label])"
   ]
  },
  {
   "cell_type": "code",
   "execution_count": 13,
   "metadata": {},
   "outputs": [],
   "source": [
    "y_test_int = []\n",
    "for label in y_test_p[0]:\n",
    "    y_test_int.append(label2int[label])"
   ]
  },
  {
   "cell_type": "markdown",
   "metadata": {},
   "source": [
    "### Data Preprocessing"
   ]
  },
  {
   "cell_type": "code",
   "execution_count": 14,
   "metadata": {},
   "outputs": [],
   "source": [
    "from sklearn.feature_extraction.text import TfidfVectorizer"
   ]
  },
  {
   "cell_type": "code",
   "execution_count": 15,
   "metadata": {},
   "outputs": [],
   "source": [
    "vectorizer = TfidfVectorizer(analyzer='char',min_df=25,lowercase=True, norm='l2')"
   ]
  },
  {
   "cell_type": "code",
   "execution_count": 16,
   "metadata": {},
   "outputs": [
    {
     "data": {
      "text/plain": [
       "TfidfVectorizer(analyzer='char', binary=False, decode_error='strict',\n",
       "        dtype=<class 'numpy.int64'>, encoding='utf-8', input='content',\n",
       "        lowercase=True, max_df=1.0, max_features=None, min_df=25,\n",
       "        ngram_range=(1, 1), norm='l2', preprocessor=None, smooth_idf=True,\n",
       "        stop_words=None, strip_accents=None, sublinear_tf=False,\n",
       "        token_pattern='(?u)\\\\b\\\\w\\\\w+\\\\b', tokenizer=None, use_idf=True,\n",
       "        vocabulary=None)"
      ]
     },
     "execution_count": 16,
     "metadata": {},
     "output_type": "execute_result"
    }
   ],
   "source": [
    "vectorizer.fit(X_train_p[0])"
   ]
  },
  {
   "cell_type": "code",
   "execution_count": 17,
   "metadata": {},
   "outputs": [],
   "source": [
    "X_train2int = vectorizer.transform(X_train_p[0]).toarray()"
   ]
  },
  {
   "cell_type": "code",
   "execution_count": 18,
   "metadata": {},
   "outputs": [],
   "source": [
    "X_test2int = vectorizer.transform(X_test_p[0]).toarray()"
   ]
  },
  {
   "cell_type": "code",
   "execution_count": 19,
   "metadata": {},
   "outputs": [],
   "source": [
    "pickle.dump(vectorizer, open('vectorizer.pkl', 'wb'))"
   ]
  },
  {
   "cell_type": "markdown",
   "metadata": {},
   "source": [
    "### Scaler"
   ]
  },
  {
   "cell_type": "code",
   "execution_count": 22,
   "metadata": {},
   "outputs": [],
   "source": [
    "from sklearn.preprocessing import StandardScaler"
   ]
  },
  {
   "cell_type": "code",
   "execution_count": 23,
   "metadata": {},
   "outputs": [],
   "source": [
    "sc = StandardScaler()"
   ]
  },
  {
   "cell_type": "code",
   "execution_count": 24,
   "metadata": {},
   "outputs": [
    {
     "data": {
      "text/plain": [
       "StandardScaler(copy=True, with_mean=True, with_std=True)"
      ]
     },
     "execution_count": 24,
     "metadata": {},
     "output_type": "execute_result"
    }
   ],
   "source": [
    "sc.fit(X_train2int)"
   ]
  },
  {
   "cell_type": "code",
   "execution_count": 25,
   "metadata": {},
   "outputs": [],
   "source": [
    "X_train2int_sc = sc.transform(X_train2int)\n",
    "X_test2int_sc = sc.transform(X_test2int)"
   ]
  },
  {
   "cell_type": "code",
   "execution_count": 26,
   "metadata": {},
   "outputs": [],
   "source": [
    "pickle.dump(sc, open('scaler.pkl', 'wb'))"
   ]
  },
  {
   "cell_type": "markdown",
   "metadata": {},
   "source": [
    "### PCA"
   ]
  },
  {
   "cell_type": "code",
   "execution_count": 20,
   "metadata": {},
   "outputs": [],
   "source": [
    "from sklearn.decomposition import PCA"
   ]
  },
  {
   "cell_type": "code",
   "execution_count": 21,
   "metadata": {},
   "outputs": [],
   "source": [
    "pca = PCA(n_components=80)"
   ]
  },
  {
   "cell_type": "code",
   "execution_count": 23,
   "metadata": {},
   "outputs": [
    {
     "data": {
      "text/plain": [
       "PCA(copy=True, iterated_power='auto', n_components=80, random_state=None,\n",
       "  svd_solver='auto', tol=0.0, whiten=False)"
      ]
     },
     "execution_count": 23,
     "metadata": {},
     "output_type": "execute_result"
    }
   ],
   "source": [
    "pca.fit(X_train2int)"
   ]
  },
  {
   "cell_type": "code",
   "execution_count": 24,
   "metadata": {},
   "outputs": [],
   "source": [
    "X_train_pca = pca.transform(X_train2int)"
   ]
  },
  {
   "cell_type": "code",
   "execution_count": 25,
   "metadata": {},
   "outputs": [],
   "source": [
    "X_test_pca = pca.transform(X_test2int)"
   ]
  },
  {
   "cell_type": "code",
   "execution_count": 26,
   "metadata": {},
   "outputs": [],
   "source": [
    "import matplotlib.pyplot as plt"
   ]
  },
  {
   "cell_type": "code",
   "execution_count": 27,
   "metadata": {},
   "outputs": [
    {
     "data": {
      "image/png": "[encoded data removed]",
      "text/plain": [
       "<Figure size 432x288 with 1 Axes>"
      ]
     },
     "metadata": {},
     "output_type": "display_data"
    }
   ],
   "source": [
    "plt.plot(np.cumsum(pca.explained_variance_ratio_)*100)\n",
    "plt.xlabel(\"No. of components\")\n",
    "plt.ylabel(\"cummulative explained Variance\");"
   ]
  },
  {
   "cell_type": "code",
   "execution_count": 28,
   "metadata": {},
   "outputs": [],
   "source": [
    "pickle.dump(pca, open('pca.pkl', 'wb'))"
   ]
  },
  {
   "cell_type": "markdown",
   "metadata": {},
   "source": [
    "### One Hot Encoding"
   ]
  },
  {
   "cell_type": "code",
   "execution_count": 29,
   "metadata": {},
   "outputs": [],
   "source": [
    "from sklearn.preprocessing import OneHotEncoder"
   ]
  },
  {
   "cell_type": "code",
   "execution_count": 30,
   "metadata": {},
   "outputs": [],
   "source": [
    "y_train_int = np.array(y_train_int).reshape(-1, 1)\n",
    "y_test_int = np.array(y_test_int).reshape(-1, 1)"
   ]
  },
  {
   "cell_type": "code",
   "execution_count": 31,
   "metadata": {},
   "outputs": [],
   "source": [
    "enc = OneHotEncoder()"
   ]
  },
  {
   "cell_type": "code",
   "execution_count": 32,
   "metadata": {},
   "outputs": [
    {
     "data": {
      "text/plain": [
       "OneHotEncoder(categorical_features='all', dtype=<class 'numpy.float64'>,\n",
       "       handle_unknown='error', n_values='auto', sparse=True)"
      ]
     },
     "execution_count": 32,
     "metadata": {},
     "output_type": "execute_result"
    }
   ],
   "source": [
    "enc.fit(y_train_int)"
   ]
  },
  {
   "cell_type": "code",
   "execution_count": 33,
   "metadata": {},
   "outputs": [],
   "source": [
    "y_train_enc = enc.transform(y_train_int)\n",
    "y_test_enc = enc.transform(y_test_int)"
   ]
  },
  {
   "cell_type": "markdown",
   "metadata": {},
   "source": [
    "## Design ANN"
   ]
  },
  {
   "cell_type": "code",
   "execution_count": 34,
   "metadata": {},
   "outputs": [
    {
     "name": "stderr",
     "output_type": "stream",
     "text": [
      "C:\\Users\\Jatin\\Anaconda3\\lib\\site-packages\\h5py\\__init__.py:36: FutureWarning: Conversion of the second argument of issubdtype from `float` to `np.floating` is deprecated. In future, it will be treated as `np.float64 == np.dtype(float).type`.\n",
      "  from ._conv import register_converters as _register_converters\n",
      "Using TensorFlow backend.\n"
     ]
    }
   ],
   "source": [
    "import tensorflow as tf\n",
    "from keras.models import Sequential\n",
    "from keras.layers import Dense\n",
    "from keras.layers import Dropout"
   ]
  },
  {
   "cell_type": "code",
   "execution_count": 35,
   "metadata": {},
   "outputs": [
    {
     "name": "stderr",
     "output_type": "stream",
     "text": [
      "C:\\Users\\Jatin\\Anaconda3\\lib\\site-packages\\ipykernel_launcher.py:2: UserWarning: Update your `Dense` call to the Keras 2 API: `Dense(kernel_initializer=\"uniform\", activation=\"relu\", input_dim=80, units=60)`\n",
      "  \n",
      "C:\\Users\\Jatin\\Anaconda3\\lib\\site-packages\\ipykernel_launcher.py:4: UserWarning: Update your `Dense` call to the Keras 2 API: `Dense(kernel_initializer=\"uniform\", activation=\"relu\", units=60)`\n",
      "  after removing the cwd from sys.path.\n",
      "C:\\Users\\Jatin\\Anaconda3\\lib\\site-packages\\ipykernel_launcher.py:6: UserWarning: Update your `Dense` call to the Keras 2 API: `Dense(kernel_initializer=\"uniform\", activation=\"relu\", units=130)`\n",
      "  \n",
      "C:\\Users\\Jatin\\Anaconda3\\lib\\site-packages\\ipykernel_launcher.py:8: UserWarning: Update your `Dense` call to the Keras 2 API: `Dense(kernel_initializer=\"uniform\", activation=\"softmax\", units=10)`\n",
      "  \n"
     ]
    }
   ],
   "source": [
    "clf = Sequential()\n",
    "clf.add(Dense(output_dim = 60, kernel_initializer = 'uniform', activation='relu', input_dim = 80))\n",
    "clf.add(Dropout(rate=0.2))\n",
    "clf.add(Dense(output_dim = 60, kernel_initializer = 'uniform', activation='relu'))\n",
    "clf.add(Dropout(rate=0.2))\n",
    "clf.add(Dense(output_dim = 130, kernel_initializer = 'uniform', activation='relu'))\n",
    "clf.add(Dropout(rate=0.2))\n",
    "clf.add(Dense(output_dim =10  , kernel_initializer = 'uniform', activation='softmax'))"
   ]
  },
  {
   "cell_type": "code",
   "execution_count": 36,
   "metadata": {},
   "outputs": [],
   "source": [
    "clf.compile(optimizer= 'adam', loss='categorical_crossentropy', metrics = ['accuracy'])"
   ]
  },
  {
   "cell_type": "code",
   "execution_count": 37,
   "metadata": {},
   "outputs": [
    {
     "name": "stdout",
     "output_type": "stream",
     "text": [
      "Train on 5000 samples, validate on 5000 samples\n",
      "Epoch 1/100\n",
      "5000/5000 [==============================] - 3s 623us/step - loss: 1.1986 - acc: 0.5662 - val_loss: 0.5280 - val_acc: 0.7734\n",
      "Epoch 2/100\n",
      "5000/5000 [==============================] - 2s 314us/step - loss: 0.4875 - acc: 0.7844 - val_loss: 0.4191 - val_acc: 0.8506\n",
      "Epoch 3/100\n",
      "5000/5000 [==============================] - 2s 313us/step - loss: 0.3672 - acc: 0.8538 - val_loss: 0.2770 - val_acc: 0.9172\n",
      "Epoch 4/100\n",
      "5000/5000 [==============================] - 2s 311us/step - loss: 0.2697 - acc: 0.9068 - val_loss: 0.2112 - val_acc: 0.9430\n",
      "Epoch 5/100\n",
      "5000/5000 [==============================] - 2s 312us/step - loss: 0.2190 - acc: 0.9280 - val_loss: 0.1912 - val_acc: 0.9494\n",
      "Epoch 6/100\n",
      "5000/5000 [==============================] - 2s 313us/step - loss: 0.1927 - acc: 0.9390 - val_loss: 0.1740 - val_acc: 0.9544\n",
      "Epoch 7/100\n",
      "5000/5000 [==============================] - 2s 310us/step - loss: 0.1643 - acc: 0.9550 - val_loss: 0.1600 - val_acc: 0.9590\n",
      "Epoch 8/100\n",
      "5000/5000 [==============================] - 2s 311us/step - loss: 0.1519 - acc: 0.9564 - val_loss: 0.1530 - val_acc: 0.9614\n",
      "Epoch 9/100\n",
      "5000/5000 [==============================] - 2s 315us/step - loss: 0.1358 - acc: 0.9652 - val_loss: 0.1417 - val_acc: 0.9634\n",
      "Epoch 10/100\n",
      "5000/5000 [==============================] - 2s 315us/step - loss: 0.1180 - acc: 0.9686 - val_loss: 0.1436 - val_acc: 0.9634\n",
      "Epoch 11/100\n",
      "5000/5000 [==============================] - 2s 315us/step - loss: 0.1198 - acc: 0.9686 - val_loss: 0.1435 - val_acc: 0.9658\n",
      "Epoch 12/100\n",
      "5000/5000 [==============================] - 2s 310us/step - loss: 0.1094 - acc: 0.9700 - val_loss: 0.1427 - val_acc: 0.9668\n",
      "Epoch 13/100\n",
      "5000/5000 [==============================] - 2s 313us/step - loss: 0.0999 - acc: 0.9750 - val_loss: 0.1389 - val_acc: 0.9676\n",
      "Epoch 14/100\n",
      "5000/5000 [==============================] - 2s 310us/step - loss: 0.0954 - acc: 0.9756 - val_loss: 0.1408 - val_acc: 0.9678\n",
      "Epoch 15/100\n",
      "5000/5000 [==============================] - 2s 309us/step - loss: 0.0936 - acc: 0.9760 - val_loss: 0.1376 - val_acc: 0.9678\n",
      "Epoch 16/100\n",
      "5000/5000 [==============================] - 2s 310us/step - loss: 0.0854 - acc: 0.9780 - val_loss: 0.1412 - val_acc: 0.9676\n",
      "Epoch 17/100\n",
      "5000/5000 [==============================] - 2s 315us/step - loss: 0.0861 - acc: 0.9788 - val_loss: 0.1441 - val_acc: 0.9704\n",
      "Epoch 18/100\n",
      "5000/5000 [==============================] - 2s 319us/step - loss: 0.0778 - acc: 0.9790 - val_loss: 0.1447 - val_acc: 0.9680\n",
      "Epoch 19/100\n",
      "5000/5000 [==============================] - 2s 321us/step - loss: 0.0805 - acc: 0.9774 - val_loss: 0.1409 - val_acc: 0.9688\n",
      "Epoch 20/100\n",
      "5000/5000 [==============================] - 2s 318us/step - loss: 0.0774 - acc: 0.9794 - val_loss: 0.1441 - val_acc: 0.9698\n",
      "Epoch 21/100\n",
      "5000/5000 [==============================] - 2s 314us/step - loss: 0.0716 - acc: 0.9794 - val_loss: 0.1473 - val_acc: 0.9702\n",
      "Epoch 22/100\n",
      "5000/5000 [==============================] - 2s 309us/step - loss: 0.0764 - acc: 0.9782 - val_loss: 0.1446 - val_acc: 0.9706\n",
      "Epoch 23/100\n",
      "5000/5000 [==============================] - 2s 307us/step - loss: 0.0750 - acc: 0.9818 - val_loss: 0.1559 - val_acc: 0.9676\n",
      "Epoch 24/100\n",
      "5000/5000 [==============================] - 2s 308us/step - loss: 0.0686 - acc: 0.9820 - val_loss: 0.1529 - val_acc: 0.9690\n",
      "Epoch 25/100\n",
      "5000/5000 [==============================] - 2s 310us/step - loss: 0.0689 - acc: 0.9824 - val_loss: 0.1456 - val_acc: 0.9684\n",
      "Epoch 26/100\n",
      "5000/5000 [==============================] - 2s 328us/step - loss: 0.0620 - acc: 0.9836 - val_loss: 0.1507 - val_acc: 0.9692\n",
      "Epoch 27/100\n",
      "5000/5000 [==============================] - 2s 339us/step - loss: 0.0592 - acc: 0.9844 - val_loss: 0.1567 - val_acc: 0.9672\n",
      "Epoch 28/100\n",
      "5000/5000 [==============================] - 2s 319us/step - loss: 0.0636 - acc: 0.9832 - val_loss: 0.1519 - val_acc: 0.9688\n",
      "Epoch 29/100\n",
      "5000/5000 [==============================] - 2s 319us/step - loss: 0.0580 - acc: 0.9846 - val_loss: 0.1503 - val_acc: 0.9706\n",
      "Epoch 30/100\n",
      "5000/5000 [==============================] - 2s 314us/step - loss: 0.0589 - acc: 0.9836 - val_loss: 0.1579 - val_acc: 0.9688\n",
      "Epoch 31/100\n",
      "5000/5000 [==============================] - 2s 315us/step - loss: 0.0573 - acc: 0.9842 - val_loss: 0.1572 - val_acc: 0.9704\n",
      "Epoch 32/100\n",
      "5000/5000 [==============================] - 2s 314us/step - loss: 0.0615 - acc: 0.9832 - val_loss: 0.1620 - val_acc: 0.9710\n",
      "Epoch 33/100\n",
      "5000/5000 [==============================] - 2s 320us/step - loss: 0.0539 - acc: 0.9836 - val_loss: 0.1693 - val_acc: 0.9654\n",
      "Epoch 34/100\n",
      "5000/5000 [==============================] - 2s 319us/step - loss: 0.0561 - acc: 0.9848 - val_loss: 0.1531 - val_acc: 0.9714\n",
      "Epoch 35/100\n",
      "5000/5000 [==============================] - 2s 349us/step - loss: 0.0473 - acc: 0.9864 - val_loss: 0.1635 - val_acc: 0.9704\n",
      "Epoch 36/100\n",
      "5000/5000 [==============================] - 2s 310us/step - loss: 0.0486 - acc: 0.9866 - val_loss: 0.1621 - val_acc: 0.9676\n",
      "Epoch 37/100\n",
      "5000/5000 [==============================] - 1s 297us/step - loss: 0.0456 - acc: 0.9874 - val_loss: 0.1615 - val_acc: 0.9706\n",
      "Epoch 38/100\n",
      "5000/5000 [==============================] - 2s 307us/step - loss: 0.0463 - acc: 0.9858 - val_loss: 0.1787 - val_acc: 0.9698\n",
      "Epoch 39/100\n",
      "5000/5000 [==============================] - 2s 384us/step - loss: 0.0467 - acc: 0.9864 - val_loss: 0.1626 - val_acc: 0.9724\n",
      "Epoch 40/100\n",
      "5000/5000 [==============================] - 2s 371us/step - loss: 0.0528 - acc: 0.9854 - val_loss: 0.1637 - val_acc: 0.9708\n",
      "Epoch 41/100\n",
      "5000/5000 [==============================] - 2s 340us/step - loss: 0.0417 - acc: 0.9876 - val_loss: 0.1682 - val_acc: 0.9706\n",
      "Epoch 42/100\n",
      "5000/5000 [==============================] - 2s 318us/step - loss: 0.0446 - acc: 0.9868 - val_loss: 0.1710 - val_acc: 0.9690\n",
      "Epoch 43/100\n",
      "5000/5000 [==============================] - 2s 318us/step - loss: 0.0376 - acc: 0.9894 - val_loss: 0.1727 - val_acc: 0.9698\n",
      "Epoch 44/100\n",
      "5000/5000 [==============================] - 2s 310us/step - loss: 0.0440 - acc: 0.9882 - val_loss: 0.1691 - val_acc: 0.9696\n",
      "Epoch 45/100\n",
      "5000/5000 [==============================] - 2s 310us/step - loss: 0.0430 - acc: 0.9878 - val_loss: 0.1661 - val_acc: 0.9724\n",
      "Epoch 46/100\n",
      "5000/5000 [==============================] - 2s 324us/step - loss: 0.0455 - acc: 0.9880 - val_loss: 0.1810 - val_acc: 0.9688\n",
      "Epoch 47/100\n",
      "5000/5000 [==============================] - 2s 375us/step - loss: 0.0398 - acc: 0.9888 - val_loss: 0.1722 - val_acc: 0.9688\n",
      "Epoch 48/100\n",
      "5000/5000 [==============================] - 2s 372us/step - loss: 0.0383 - acc: 0.9890 - val_loss: 0.1850 - val_acc: 0.9682\n",
      "Epoch 49/100\n",
      "5000/5000 [==============================] - 2s 318us/step - loss: 0.0363 - acc: 0.9914 - val_loss: 0.1806 - val_acc: 0.9700\n",
      "Epoch 50/100\n",
      "5000/5000 [==============================] - 2s 332us/step - loss: 0.0391 - acc: 0.9894 - val_loss: 0.1727 - val_acc: 0.9700\n",
      "Epoch 51/100\n",
      "5000/5000 [==============================] - 2s 325us/step - loss: 0.0410 - acc: 0.9882 - val_loss: 0.1743 - val_acc: 0.9700\n",
      "Epoch 52/100\n",
      "5000/5000 [==============================] - 2s 311us/step - loss: 0.0378 - acc: 0.9900 - val_loss: 0.1745 - val_acc: 0.9716\n",
      "Epoch 53/100\n",
      "5000/5000 [==============================] - 2s 320us/step - loss: 0.0346 - acc: 0.9912 - val_loss: 0.1848 - val_acc: 0.9688\n",
      "Epoch 54/100\n",
      "5000/5000 [==============================] - 2s 322us/step - loss: 0.0400 - acc: 0.9878 - val_loss: 0.1858 - val_acc: 0.9688\n",
      "Epoch 55/100\n",
      "5000/5000 [==============================] - 2s 320us/step - loss: 0.0364 - acc: 0.9906 - val_loss: 0.1801 - val_acc: 0.9698\n",
      "Epoch 56/100\n",
      "5000/5000 [==============================] - 2s 324us/step - loss: 0.0296 - acc: 0.9924 - val_loss: 0.1808 - val_acc: 0.9712\n",
      "Epoch 57/100\n",
      "5000/5000 [==============================] - 2s 312us/step - loss: 0.0331 - acc: 0.9898 - val_loss: 0.2046 - val_acc: 0.9666\n",
      "Epoch 58/100\n",
      "5000/5000 [==============================] - 2s 319us/step - loss: 0.0378 - acc: 0.9886 - val_loss: 0.1863 - val_acc: 0.9708\n",
      "Epoch 59/100\n",
      "5000/5000 [==============================] - 2s 314us/step - loss: 0.0351 - acc: 0.9904 - val_loss: 0.2038 - val_acc: 0.9668\n",
      "Epoch 60/100\n"
     ]
    },
    {
     "name": "stdout",
     "output_type": "stream",
     "text": [
      "5000/5000 [==============================] - 2s 315us/step - loss: 0.0407 - acc: 0.9886 - val_loss: 0.1923 - val_acc: 0.9698\n",
      "Epoch 61/100\n",
      "5000/5000 [==============================] - 2s 325us/step - loss: 0.0293 - acc: 0.9924 - val_loss: 0.1977 - val_acc: 0.9688\n",
      "Epoch 62/100\n",
      "5000/5000 [==============================] - 2s 311us/step - loss: 0.0379 - acc: 0.9912 - val_loss: 0.1863 - val_acc: 0.9704\n",
      "Epoch 63/100\n",
      "5000/5000 [==============================] - 2s 318us/step - loss: 0.0316 - acc: 0.9912 - val_loss: 0.1876 - val_acc: 0.9688\n",
      "Epoch 64/100\n",
      "5000/5000 [==============================] - 2s 321us/step - loss: 0.0261 - acc: 0.9924 - val_loss: 0.1988 - val_acc: 0.9690\n",
      "Epoch 65/100\n",
      "5000/5000 [==============================] - 2s 318us/step - loss: 0.0321 - acc: 0.9922 - val_loss: 0.1906 - val_acc: 0.9690\n",
      "Epoch 66/100\n",
      "5000/5000 [==============================] - 2s 315us/step - loss: 0.0341 - acc: 0.9898 - val_loss: 0.1988 - val_acc: 0.9670\n",
      "Epoch 67/100\n",
      "5000/5000 [==============================] - 2s 316us/step - loss: 0.0306 - acc: 0.9922 - val_loss: 0.2087 - val_acc: 0.9696\n",
      "Epoch 68/100\n",
      "5000/5000 [==============================] - 2s 319us/step - loss: 0.0301 - acc: 0.9908 - val_loss: 0.2046 - val_acc: 0.9692\n",
      "Epoch 69/100\n",
      "5000/5000 [==============================] - 2s 316us/step - loss: 0.0274 - acc: 0.9924 - val_loss: 0.1986 - val_acc: 0.9720\n",
      "Epoch 70/100\n",
      "5000/5000 [==============================] - 2s 319us/step - loss: 0.0316 - acc: 0.9916 - val_loss: 0.2014 - val_acc: 0.9688\n",
      "Epoch 71/100\n",
      "5000/5000 [==============================] - 2s 313us/step - loss: 0.0360 - acc: 0.9888 - val_loss: 0.2048 - val_acc: 0.9700\n",
      "Epoch 72/100\n",
      "5000/5000 [==============================] - 2s 316us/step - loss: 0.0329 - acc: 0.9926 - val_loss: 0.2212 - val_acc: 0.9662\n",
      "Epoch 73/100\n",
      "5000/5000 [==============================] - 2s 319us/step - loss: 0.0310 - acc: 0.9924 - val_loss: 0.2181 - val_acc: 0.9678\n",
      "Epoch 74/100\n",
      "5000/5000 [==============================] - 2s 320us/step - loss: 0.0319 - acc: 0.9920 - val_loss: 0.2173 - val_acc: 0.9692\n",
      "Epoch 75/100\n",
      "5000/5000 [==============================] - 2s 315us/step - loss: 0.0345 - acc: 0.9912 - val_loss: 0.2125 - val_acc: 0.9696\n",
      "Epoch 76/100\n",
      "5000/5000 [==============================] - 2s 319us/step - loss: 0.0329 - acc: 0.9916 - val_loss: 0.2116 - val_acc: 0.9696\n",
      "Epoch 77/100\n",
      "5000/5000 [==============================] - 2s 318us/step - loss: 0.0247 - acc: 0.9928 - val_loss: 0.2152 - val_acc: 0.9678\n",
      "Epoch 78/100\n",
      "5000/5000 [==============================] - 2s 326us/step - loss: 0.0253 - acc: 0.9924 - val_loss: 0.2239 - val_acc: 0.9662\n",
      "Epoch 79/100\n",
      "5000/5000 [==============================] - 2s 335us/step - loss: 0.0257 - acc: 0.9932 - val_loss: 0.2260 - val_acc: 0.9680\n",
      "Epoch 80/100\n",
      "5000/5000 [==============================] - 2s 336us/step - loss: 0.0257 - acc: 0.9928 - val_loss: 0.2250 - val_acc: 0.9674\n",
      "Epoch 81/100\n",
      "5000/5000 [==============================] - 2s 336us/step - loss: 0.0373 - acc: 0.9906 - val_loss: 0.2081 - val_acc: 0.9694\n",
      "Epoch 82/100\n",
      "5000/5000 [==============================] - 2s 332us/step - loss: 0.0249 - acc: 0.9936 - val_loss: 0.2133 - val_acc: 0.9688\n",
      "Epoch 83/100\n",
      "5000/5000 [==============================] - 2s 319us/step - loss: 0.0275 - acc: 0.9938 - val_loss: 0.2135 - val_acc: 0.9694\n",
      "Epoch 84/100\n",
      "5000/5000 [==============================] - 1s 299us/step - loss: 0.0249 - acc: 0.9944 - val_loss: 0.2176 - val_acc: 0.9672\n",
      "Epoch 85/100\n",
      "5000/5000 [==============================] - 2s 322us/step - loss: 0.0299 - acc: 0.9904 - val_loss: 0.2150 - val_acc: 0.9712\n",
      "Epoch 86/100\n",
      "5000/5000 [==============================] - 2s 337us/step - loss: 0.0271 - acc: 0.9920 - val_loss: 0.2104 - val_acc: 0.9698\n",
      "Epoch 87/100\n",
      "5000/5000 [==============================] - 2s 332us/step - loss: 0.0264 - acc: 0.9924 - val_loss: 0.2098 - val_acc: 0.9704\n",
      "Epoch 88/100\n",
      "5000/5000 [==============================] - 2s 319us/step - loss: 0.0259 - acc: 0.9942 - val_loss: 0.2041 - val_acc: 0.9702\n",
      "Epoch 89/100\n",
      "5000/5000 [==============================] - 2s 312us/step - loss: 0.0242 - acc: 0.9944 - val_loss: 0.2125 - val_acc: 0.9704\n",
      "Epoch 90/100\n",
      "5000/5000 [==============================] - 2s 310us/step - loss: 0.0238 - acc: 0.9940 - val_loss: 0.2175 - val_acc: 0.9682\n",
      "Epoch 91/100\n",
      "5000/5000 [==============================] - 2s 321us/step - loss: 0.0307 - acc: 0.9900 - val_loss: 0.2306 - val_acc: 0.9716\n",
      "Epoch 92/100\n",
      "5000/5000 [==============================] - 2s 339us/step - loss: 0.0249 - acc: 0.9928 - val_loss: 0.2145 - val_acc: 0.9704\n",
      "Epoch 93/100\n",
      "5000/5000 [==============================] - 2s 338us/step - loss: 0.0274 - acc: 0.9924 - val_loss: 0.2291 - val_acc: 0.9674\n",
      "Epoch 94/100\n",
      "5000/5000 [==============================] - 2s 322us/step - loss: 0.0298 - acc: 0.9922 - val_loss: 0.2019 - val_acc: 0.9702\n",
      "Epoch 95/100\n",
      "5000/5000 [==============================] - 2s 320us/step - loss: 0.0226 - acc: 0.9944 - val_loss: 0.2112 - val_acc: 0.9712\n",
      "Epoch 96/100\n",
      "5000/5000 [==============================] - 2s 318us/step - loss: 0.0333 - acc: 0.9904 - val_loss: 0.2310 - val_acc: 0.9698\n",
      "Epoch 97/100\n",
      "5000/5000 [==============================] - 2s 321us/step - loss: 0.0241 - acc: 0.9928 - val_loss: 0.2139 - val_acc: 0.9702\n",
      "Epoch 98/100\n",
      "5000/5000 [==============================] - 2s 323us/step - loss: 0.0208 - acc: 0.9944 - val_loss: 0.2306 - val_acc: 0.9694\n",
      "Epoch 99/100\n",
      "5000/5000 [==============================] - 2s 330us/step - loss: 0.0296 - acc: 0.9910 - val_loss: 0.2275 - val_acc: 0.9706\n",
      "Epoch 100/100\n",
      "5000/5000 [==============================] - 2s 321us/step - loss: 0.0213 - acc: 0.9932 - val_loss: 0.2247 - val_acc: 0.9690\n"
     ]
    }
   ],
   "source": [
    "with tf.device('/gpu:0'):\n",
    "    history = clf.fit(X_train_pca, y_train_enc, batch_size=16, epochs=100, validation_data=(X_test_pca,y_test_enc))"
   ]
  },
  {
   "cell_type": "code",
   "execution_count": 38,
   "metadata": {},
   "outputs": [],
   "source": [
    "from keras.models import model_from_json\n",
    "model_json = clf.to_json()\n",
    "with open(\"model.json\", \"w\") as json_file:\n",
    "    json_file.write(model_json)\n",
    "# serialize weights to HDF5\n",
    "clf.save_weights(\"model.h5\")"
   ]
  },
  {
   "cell_type": "markdown",
   "metadata": {},
   "source": [
    "## Evaluation"
   ]
  },
  {
   "cell_type": "code",
   "execution_count": 39,
   "metadata": {},
   "outputs": [],
   "source": [
    "y_pred_test_label = clf.predict(X_test_pca)\n",
    "y_pred_train_label = clf.predict(X_train_pca)"
   ]
  },
  {
   "cell_type": "code",
   "execution_count": 40,
   "metadata": {},
   "outputs": [],
   "source": [
    "y_pred_test = np.argmax(y_pred_test_label, axis=1)\n",
    "y_pred_train = np.argmax(y_pred_train_label, axis=1)"
   ]
  },
  {
   "cell_type": "code",
   "execution_count": 41,
   "metadata": {},
   "outputs": [],
   "source": [
    "y_train_true = y_train_int.astype(np.int)\n",
    "y_test_true = y_test_int.astype(np.int)"
   ]
  },
  {
   "cell_type": "markdown",
   "metadata": {},
   "source": [
    "## Graph Plot"
   ]
  },
  {
   "cell_type": "markdown",
   "metadata": {},
   "source": [
    "### Model Accuracy Graph"
   ]
  },
  {
   "cell_type": "code",
   "execution_count": 42,
   "metadata": {},
   "outputs": [
    {
     "data": {
      "image/png": "[encoded data removed]",
      "text/plain": [
       "<Figure size 432x288 with 1 Axes>"
      ]
     },
     "metadata": {},
     "output_type": "display_data"
    }
   ],
   "source": [
    "plt.plot(history.history['acc'])\n",
    "plt.plot(history.history['val_acc'])\n",
    "plt.title('model accuracy')\n",
    "plt.ylabel('accuracy')\n",
    "plt.xlabel('epoch')\n",
    "plt.legend(['train', 'test'], loc='upper left')\n",
    "plt.show()"
   ]
  },
  {
   "cell_type": "markdown",
   "metadata": {},
   "source": [
    "### Model Loss Graph"
   ]
  },
  {
   "cell_type": "code",
   "execution_count": 43,
   "metadata": {},
   "outputs": [
    {
     "data": {
      "image/png": "[encoded data removed]",
      "text/plain": [
       "<Figure size 432x288 with 1 Axes>"
      ]
     },
     "metadata": {},
     "output_type": "display_data"
    }
   ],
   "source": [
    "# summarize history for loss\n",
    "plt.plot(history.history['loss'])\n",
    "plt.plot(history.history['val_loss'])\n",
    "plt.title('model loss')\n",
    "plt.ylabel('loss')\n",
    "plt.xlabel('epoch')\n",
    "plt.legend(['train', 'test'], loc='upper left')\n",
    "plt.show()"
   ]
  },
  {
   "cell_type": "markdown",
   "metadata": {},
   "source": [
    "## Classification Report"
   ]
  },
  {
   "cell_type": "code",
   "execution_count": 44,
   "metadata": {},
   "outputs": [],
   "source": [
    "from sklearn.metrics import classification_report"
   ]
  },
  {
   "cell_type": "markdown",
   "metadata": {},
   "source": [
    "#### Train Data report"
   ]
  },
  {
   "cell_type": "code",
   "execution_count": 45,
   "metadata": {},
   "outputs": [
    {
     "name": "stdout",
     "output_type": "stream",
     "text": [
      "             precision    recall  f1-score   support\n",
      "\n",
      "          0       0.99      1.00      1.00       500\n",
      "          1       0.98      1.00      0.99       500\n",
      "          2       1.00      1.00      1.00       500\n",
      "          3       1.00      1.00      1.00       500\n",
      "          4       1.00      1.00      1.00       500\n",
      "          5       1.00      1.00      1.00       500\n",
      "          6       1.00      1.00      1.00       500\n",
      "          7       1.00      1.00      1.00       500\n",
      "          8       1.00      1.00      1.00       500\n",
      "          9       1.00      0.98      0.99       500\n",
      "\n",
      "avg / total       1.00      1.00      1.00      5000\n",
      "\n"
     ]
    }
   ],
   "source": [
    "print(classification_report(y_train_true, y_pred_train))"
   ]
  },
  {
   "cell_type": "markdown",
   "metadata": {},
   "source": [
    "#### Test Data Report"
   ]
  },
  {
   "cell_type": "code",
   "execution_count": 46,
   "metadata": {},
   "outputs": [
    {
     "name": "stdout",
     "output_type": "stream",
     "text": [
      "             precision    recall  f1-score   support\n",
      "\n",
      "          0       0.88      0.94      0.91       500\n",
      "          1       0.97      0.96      0.96       500\n",
      "          2       0.97      0.97      0.97       500\n",
      "          3       0.95      0.98      0.97       500\n",
      "          4       1.00      0.99      0.99       500\n",
      "          5       1.00      1.00      1.00       500\n",
      "          6       0.97      0.96      0.97       500\n",
      "          7       1.00      0.99      0.99       500\n",
      "          8       0.98      0.96      0.97       500\n",
      "          9       0.97      0.95      0.96       500\n",
      "\n",
      "avg / total       0.97      0.97      0.97      5000\n",
      "\n"
     ]
    }
   ],
   "source": [
    "print(classification_report(y_test_true, y_pred_test))"
   ]
  },
  {
   "cell_type": "markdown",
   "metadata": {},
   "source": [
    "## Confusion Matrix"
   ]
  },
  {
   "cell_type": "code",
   "execution_count": 47,
   "metadata": {},
   "outputs": [],
   "source": [
    "from sklearn.metrics import confusion_matrix"
   ]
  },
  {
   "cell_type": "markdown",
   "metadata": {},
   "source": [
    "### Train data"
   ]
  },
  {
   "cell_type": "code",
   "execution_count": 48,
   "metadata": {},
   "outputs": [
    {
     "name": "stdout",
     "output_type": "stream",
     "text": [
      "[[500   0   2   1   0   0   0   0   0   0]\n",
      " [  0 500   0   0   0   0   0   0   0   9]\n",
      " [  0   0 498   0   0   0   0   0   0   0]\n",
      " [  0   0   0 499   0   0   0   0   0   0]\n",
      " [  0   0   0   0 500   0   0   0   0   0]\n",
      " [  0   0   0   0   0 500   0   0   0   0]\n",
      " [  0   0   0   0   0   0 500   0   0   1]\n",
      " [  0   0   0   0   0   0   0 500   0   0]\n",
      " [  0   0   0   0   0   0   0   0 500   0]\n",
      " [  0   0   0   0   0   0   0   0   0 490]]\n"
     ]
    }
   ],
   "source": [
    "print(confusion_matrix(y_pred_train, y_train_true))"
   ]
  },
  {
   "cell_type": "markdown",
   "metadata": {},
   "source": [
    "### Test data"
   ]
  },
  {
   "cell_type": "code",
   "execution_count": 49,
   "metadata": {},
   "outputs": [
    {
     "name": "stdout",
     "output_type": "stream",
     "text": [
      "[[471   4   9  10   3   0  17   4  10   6]\n",
      " [  1 478   2   0   0   0   0   0   1  13]\n",
      " [  4   4 486   0   0   0   0   0   3   3]\n",
      " [ 13   1   2 489   2   0   2   3   1   0]\n",
      " [  1   0   0   0 494   0   0   0   0   0]\n",
      " [  0   0   0   0   0 500   0   0   0   0]\n",
      " [  6   2   0   0   0   0 480   0   3   2]\n",
      " [  0   0   0   0   0   0   0 493   0   0]\n",
      " [  3   0   0   1   1   0   1   0 480   2]\n",
      " [  1  11   1   0   0   0   0   0   2 474]]\n"
     ]
    }
   ],
   "source": [
    "print(confusion_matrix(y_pred_test, y_test_true))"
   ]
  },
  {
   "cell_type": "markdown",
   "metadata": {},
   "source": [
    "### Making RNN"
   ]
  },
  {
   "cell_type": "code",
   "execution_count": null,
   "metadata": {},
   "outputs": [],
   "source": []
  },
  {
   "cell_type": "markdown",
   "metadata": {},
   "source": [
    "### Making Single Prediction"
   ]
  },
  {
   "cell_type": "code",
   "execution_count": 50,
   "metadata": {},
   "outputs": [],
   "source": [
    "json_file = open('model.json', 'r')\n",
    "loaded_model_json = json_file.read()\n",
    "json_file.close()\n",
    "model = model_from_json(loaded_model_json)\n",
    "# load weights into new model\n",
    "model.load_weights(\"model.h5\")\n",
    "model.compile(optimizer= 'adam', loss='categorical_crossentropy', metrics = ['accuracy'])"
   ]
  },
  {
   "cell_type": "code",
   "execution_count": 52,
   "metadata": {},
   "outputs": [],
   "source": [
    "vectorizer = pickle.load(open('vectorizer.pkl', 'rb'))\n",
    "# scaler = pickle.load(open('scaler.pkl', 'rb'))\n",
    "pca = pickle.load(open('pca.pkl', 'rb'))\n",
    "label2int = pickle.load(open('label2int.pkl', 'rb'))\n",
    "int2label = pickle.load(open('int2label.pkl', 'rb'))"
   ]
  },
  {
   "cell_type": "code",
   "execution_count": 58,
   "metadata": {},
   "outputs": [],
   "source": [
    "X_single = pd.DataFrame(data=[\"महाराष्ट्र, १ मई १९६० को भारत का राज्य बनाया गया था। इस दिन को हम महाराष्ट्र दिन के भी नाम से जानते है। शुरू में महाराष्ट्र में २६ जिले थे। उसके बाद १० नये जिले बनाएँ गये है। वर्तमान के महाराष्ट्र में ३६ जिले है। इन जिलों को छह प्रशासनिक विभागों में विभाजित किया गया है।\"])"
   ]
  },
  {
   "cell_type": "code",
   "execution_count": 59,
   "metadata": {},
   "outputs": [],
   "source": [
    "y_pred_single = model.predict(pca.transform(vectorizer.transform(X_single[0]).toarray()))"
   ]
  },
  {
   "cell_type": "code",
   "execution_count": 60,
   "metadata": {},
   "outputs": [
    {
     "data": {
      "text/plain": [
       "array([[9.9551624e-01, 1.1487065e-13, 1.3794444e-17, 4.0093847e-03,\n",
       "        7.5074925e-11, 1.8549056e-19, 1.0883940e-04, 3.6551792e-04,\n",
       "        1.0833303e-11, 1.0147098e-11]], dtype=float32)"
      ]
     },
     "execution_count": 60,
     "metadata": {},
     "output_type": "execute_result"
    }
   ],
   "source": [
    "y_pred_single"
   ]
  },
  {
   "cell_type": "code",
   "execution_count": 61,
   "metadata": {},
   "outputs": [],
   "source": [
    "y_pred_single = np.argmax(y_pred_single, axis=1)"
   ]
  },
  {
   "cell_type": "code",
   "execution_count": 62,
   "metadata": {},
   "outputs": [
    {
     "data": {
      "text/plain": [
       "'eng'"
      ]
     },
     "execution_count": 62,
     "metadata": {},
     "output_type": "execute_result"
    }
   ],
   "source": [
    "int2label[y_pred_single[0]]"
   ]
  },
  {
   "cell_type": "code",
   "execution_count": null,
   "metadata": {},
   "outputs": [],
   "source": []
  }
 ],
 "metadata": {
  "kernelspec": {
   "display_name": "Python 3",
   "language": "python",
   "name": "python3"
  },
  "language_info": {
   "codemirror_mode": {
    "name": "ipython",
    "version": 3
   },
   "file_extension": ".py",
   "mimetype": "text/x-python",
   "name": "python",
   "nbconvert_exporter": "python",
   "pygments_lexer": "ipython3",
   "version": "3.6.5"
  }
 },
 "nbformat": 4,
 "nbformat_minor": 2
}
