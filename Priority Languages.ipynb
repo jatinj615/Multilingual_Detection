{
 "cells": [
  {
   "cell_type": "code",
   "execution_count": 1,
   "metadata": {},
   "outputs": [],
   "source": [
    "import numpy as np\n",
    "import pandas as pd\n",
    "import pickle"
   ]
  },
  {
   "cell_type": "code",
   "execution_count": 2,
   "metadata": {},
   "outputs": [],
   "source": [
    "df = pd.read_fwf('./wili dataset/x_train.txt', header=None)\n",
    "X_train = df[[0]]\n",
    "df = pd.read_fwf('./wili dataset/x_test.txt', header=None)\n",
    "X_test = df[[0]]"
   ]
  },
  {
   "cell_type": "code",
   "execution_count": 3,
   "metadata": {},
   "outputs": [],
   "source": [
    "target = pd.read_fwf('./wili dataset/y_train.txt',header = None)\n",
    "y_train = target[[0]]\n",
    "target = pd.read_fwf('./wili dataset/y_test.txt',header = None)\n",
    "y_test = target[[0]]"
   ]
  },
  {
   "cell_type": "code",
   "execution_count": 4,
   "metadata": {},
   "outputs": [],
   "source": [
    "y_train[y_train == 'be-tara'] = 'be-tarask'\n",
    "y_train[y_train == 'roa-tar'] = 'roa-tara'"
   ]
  },
  {
   "cell_type": "code",
   "execution_count": 5,
   "metadata": {},
   "outputs": [],
   "source": [
    "languages = ['eng', 'hin', 'mar', 'guj', 'tam', 'tcy', 'tel', 'pan', 'ben', 'mai']"
   ]
  },
  {
   "cell_type": "code",
   "execution_count": 6,
   "metadata": {},
   "outputs": [],
   "source": [
    "train_index = y_train.index[y_train[0].isin(languages)].tolist()"
   ]
  },
  {
   "cell_type": "code",
   "execution_count": 7,
   "metadata": {},
   "outputs": [],
   "source": [
    "test_index = y_test.index[y_test[0].isin(languages)].tolist()"
   ]
  },
  {
   "cell_type": "code",
   "execution_count": 8,
   "metadata": {},
   "outputs": [],
   "source": [
    "X_train_p = X_train.iloc[train_index,:]\n",
    "X_test_p = X_test.iloc[test_index,:]"
   ]
  },
  {
   "cell_type": "code",
   "execution_count": 9,
   "metadata": {},
   "outputs": [],
   "source": [
    "y_train_p = y_train.iloc[train_index, :]\n",
    "y_test_p = y_test.iloc[test_index, :]"
   ]
  },
  {
   "cell_type": "markdown",
   "metadata": {},
   "source": [
    "### Tokenize Labels"
   ]
  },
  {
   "cell_type": "code",
   "execution_count": 10,
   "metadata": {},
   "outputs": [],
   "source": [
    "label2int = {}\n",
    "int2label = {}\n",
    "counter = 0\n",
    "for label in languages:\n",
    "    if label not in label2int:\n",
    "        label2int[label] = counter\n",
    "        int2label[counter] = label\n",
    "    counter += 1"
   ]
  },
  {
   "cell_type": "code",
   "execution_count": 11,
   "metadata": {},
   "outputs": [],
   "source": [
    "pickle.dump(label2int, open('label2int.pkl', 'wb'))\n",
    "pickle.dump(int2label, open('int2label.pkl', 'wb'))"
   ]
  },
  {
   "cell_type": "markdown",
   "metadata": {},
   "source": [
    "### Tokenize target Variables"
   ]
  },
  {
   "cell_type": "code",
   "execution_count": 12,
   "metadata": {},
   "outputs": [],
   "source": [
    "y_train_int = []\n",
    "for label in y_train_p[0]:\n",
    "    y_train_int.append(label2int[label])"
   ]
  },
  {
   "cell_type": "code",
   "execution_count": 13,
   "metadata": {},
   "outputs": [],
   "source": [
    "y_test_int = []\n",
    "for label in y_test_p[0]:\n",
    "    y_test_int.append(label2int[label])"
   ]
  },
  {
   "cell_type": "markdown",
   "metadata": {},
   "source": [
    "### Data Preprocessing"
   ]
  },
  {
   "cell_type": "code",
   "execution_count": 14,
   "metadata": {},
   "outputs": [],
   "source": [
    "from sklearn.feature_extraction.text import TfidfVectorizer"
   ]
  },
  {
   "cell_type": "code",
   "execution_count": 15,
   "metadata": {},
   "outputs": [],
   "source": [
    "vectorizer = TfidfVectorizer(analyzer='char',min_df=25,lowercase=True, norm='l2')"
   ]
  },
  {
   "cell_type": "code",
   "execution_count": 16,
   "metadata": {},
   "outputs": [
    {
     "data": {
      "text/plain": [
       "TfidfVectorizer(analyzer='char', binary=False, decode_error='strict',\n",
       "        dtype=<class 'numpy.int64'>, encoding='utf-8', input='content',\n",
       "        lowercase=True, max_df=1.0, max_features=None, min_df=25,\n",
       "        ngram_range=(1, 1), norm='l2', preprocessor=None, smooth_idf=True,\n",
       "        stop_words=None, strip_accents=None, sublinear_tf=False,\n",
       "        token_pattern='(?u)\\\\b\\\\w\\\\w+\\\\b', tokenizer=None, use_idf=True,\n",
       "        vocabulary=None)"
      ]
     },
     "execution_count": 16,
     "metadata": {},
     "output_type": "execute_result"
    }
   ],
   "source": [
    "vectorizer.fit(X_train_p[0])"
   ]
  },
  {
   "cell_type": "code",
   "execution_count": 17,
   "metadata": {},
   "outputs": [],
   "source": [
    "X_train2int = vectorizer.transform(X_train_p[0]).toarray()"
   ]
  },
  {
   "cell_type": "code",
   "execution_count": 18,
   "metadata": {},
   "outputs": [],
   "source": [
    "X_test2int = vectorizer.transform(X_test_p[0]).toarray()"
   ]
  },
  {
   "cell_type": "code",
   "execution_count": 19,
   "metadata": {},
   "outputs": [],
   "source": [
    "pickle.dump(vectorizer, open('vectorizer.pkl', 'wb'))"
   ]
  },
  {
   "cell_type": "markdown",
   "metadata": {},
   "source": [
    "### Scaler"
   ]
  },
  {
   "cell_type": "code",
   "execution_count": 20,
   "metadata": {},
   "outputs": [],
   "source": [
    "from sklearn.preprocessing import StandardScaler"
   ]
  },
  {
   "cell_type": "code",
   "execution_count": 21,
   "metadata": {},
   "outputs": [],
   "source": [
    "sc = StandardScaler()"
   ]
  },
  {
   "cell_type": "code",
   "execution_count": 22,
   "metadata": {},
   "outputs": [
    {
     "data": {
      "text/plain": [
       "StandardScaler(copy=True, with_mean=True, with_std=True)"
      ]
     },
     "execution_count": 22,
     "metadata": {},
     "output_type": "execute_result"
    }
   ],
   "source": [
    "sc.fit(X_train2int)"
   ]
  },
  {
   "cell_type": "code",
   "execution_count": 23,
   "metadata": {},
   "outputs": [],
   "source": [
    "X_train2int_sc = sc.transform(X_train2int)\n",
    "X_test2int_sc = sc.transform(X_test2int)"
   ]
  },
  {
   "cell_type": "code",
   "execution_count": 24,
   "metadata": {},
   "outputs": [],
   "source": [
    "pickle.dump(sc, open('scaler.pkl', 'wb'))"
   ]
  },
  {
   "cell_type": "markdown",
   "metadata": {},
   "source": [
    "### PCA"
   ]
  },
  {
   "cell_type": "code",
   "execution_count": 25,
   "metadata": {},
   "outputs": [],
   "source": [
    "from sklearn.decomposition import PCA"
   ]
  },
  {
   "cell_type": "code",
   "execution_count": 26,
   "metadata": {},
   "outputs": [],
   "source": [
    "pca = PCA(n_components=80)"
   ]
  },
  {
   "cell_type": "code",
   "execution_count": 27,
   "metadata": {},
   "outputs": [
    {
     "data": {
      "text/plain": [
       "PCA(copy=True, iterated_power='auto', n_components=80, random_state=None,\n",
       "  svd_solver='auto', tol=0.0, whiten=False)"
      ]
     },
     "execution_count": 27,
     "metadata": {},
     "output_type": "execute_result"
    }
   ],
   "source": [
    "pca.fit(X_train2int_sc)"
   ]
  },
  {
   "cell_type": "code",
   "execution_count": 28,
   "metadata": {},
   "outputs": [],
   "source": [
    "X_train_pca = pca.transform(X_train2int_sc)"
   ]
  },
  {
   "cell_type": "code",
   "execution_count": 29,
   "metadata": {},
   "outputs": [],
   "source": [
    "X_test_pca = pca.transform(X_test2int_sc)"
   ]
  },
  {
   "cell_type": "code",
   "execution_count": 30,
   "metadata": {},
   "outputs": [],
   "source": [
    "import matplotlib.pyplot as plt"
   ]
  },
  {
   "cell_type": "code",
   "execution_count": 31,
   "metadata": {},
   "outputs": [
    {
     "data": {
      "image/png": "[encoded data removed]",
      "text/plain": [
       "<Figure size 432x288 with 1 Axes>"
      ]
     },
     "metadata": {},
     "output_type": "display_data"
    }
   ],
   "source": [
    "plt.plot(np.cumsum(pca.explained_variance_ratio_)*100)\n",
    "plt.xlabel(\"No. of components\")\n",
    "plt.ylabel(\"cummulative explained Variance\");"
   ]
  },
  {
   "cell_type": "code",
   "execution_count": 32,
   "metadata": {},
   "outputs": [],
   "source": [
    "pickle.dump(pca, open('pca.pkl', 'wb'))"
   ]
  },
  {
   "cell_type": "markdown",
   "metadata": {},
   "source": [
    "### One Hot Encoding"
   ]
  },
  {
   "cell_type": "code",
   "execution_count": 33,
   "metadata": {},
   "outputs": [],
   "source": [
    "from sklearn.preprocessing import OneHotEncoder"
   ]
  },
  {
   "cell_type": "code",
   "execution_count": 34,
   "metadata": {},
   "outputs": [],
   "source": [
    "y_train_int = np.array(y_train_int).reshape(-1, 1)\n",
    "y_test_int = np.array(y_test_int).reshape(-1, 1)"
   ]
  },
  {
   "cell_type": "code",
   "execution_count": 35,
   "metadata": {},
   "outputs": [],
   "source": [
    "enc = OneHotEncoder()"
   ]
  },
  {
   "cell_type": "code",
   "execution_count": 36,
   "metadata": {},
   "outputs": [
    {
     "data": {
      "text/plain": [
       "OneHotEncoder(categorical_features='all', dtype=<class 'numpy.float64'>,\n",
       "       handle_unknown='error', n_values='auto', sparse=True)"
      ]
     },
     "execution_count": 36,
     "metadata": {},
     "output_type": "execute_result"
    }
   ],
   "source": [
    "enc.fit(y_train_int)"
   ]
  },
  {
   "cell_type": "code",
   "execution_count": 37,
   "metadata": {},
   "outputs": [],
   "source": [
    "y_train_enc = enc.transform(y_train_int)\n",
    "y_test_enc = enc.transform(y_test_int)"
   ]
  },
  {
   "cell_type": "markdown",
   "metadata": {},
   "source": [
    "## Design ANN"
   ]
  },
  {
   "cell_type": "code",
   "execution_count": 38,
   "metadata": {},
   "outputs": [
    {
     "name": "stderr",
     "output_type": "stream",
     "text": [
      "C:\\Users\\Jatin\\Anaconda3\\lib\\site-packages\\h5py\\__init__.py:36: FutureWarning: Conversion of the second argument of issubdtype from `float` to `np.floating` is deprecated. In future, it will be treated as `np.float64 == np.dtype(float).type`.\n",
      "  from ._conv import register_converters as _register_converters\n",
      "Using TensorFlow backend.\n"
     ]
    }
   ],
   "source": [
    "import tensorflow as tf\n",
    "from keras.models import Sequential\n",
    "from keras.layers import Dense\n",
    "from keras.layers import Dropout\n",
    "from keras.models import model_from_json"
   ]
  },
  {
   "cell_type": "code",
   "execution_count": 39,
   "metadata": {},
   "outputs": [
    {
     "name": "stderr",
     "output_type": "stream",
     "text": [
      "C:\\Users\\Jatin\\Anaconda3\\lib\\site-packages\\ipykernel_launcher.py:2: UserWarning: Update your `Dense` call to the Keras 2 API: `Dense(kernel_initializer=\"uniform\", activation=\"relu\", input_dim=80, units=60)`\n",
      "  \n",
      "C:\\Users\\Jatin\\Anaconda3\\lib\\site-packages\\ipykernel_launcher.py:4: UserWarning: Update your `Dense` call to the Keras 2 API: `Dense(kernel_initializer=\"uniform\", activation=\"relu\", units=60)`\n",
      "  after removing the cwd from sys.path.\n",
      "C:\\Users\\Jatin\\Anaconda3\\lib\\site-packages\\ipykernel_launcher.py:6: UserWarning: Update your `Dense` call to the Keras 2 API: `Dense(kernel_initializer=\"uniform\", activation=\"relu\", units=60)`\n",
      "  \n",
      "C:\\Users\\Jatin\\Anaconda3\\lib\\site-packages\\ipykernel_launcher.py:8: UserWarning: Update your `Dense` call to the Keras 2 API: `Dense(kernel_initializer=\"uniform\", activation=\"softmax\", units=10)`\n",
      "  \n"
     ]
    }
   ],
   "source": [
    "clf = Sequential()\n",
    "clf.add(Dense(output_dim = 60, kernel_initializer = 'uniform', activation='relu', input_dim = 80))\n",
    "clf.add(Dropout(rate=0.2))\n",
    "clf.add(Dense(output_dim = 60, kernel_initializer = 'uniform', activation='relu'))\n",
    "clf.add(Dropout(rate=0.2))\n",
    "clf.add(Dense(output_dim = 60, kernel_initializer = 'uniform', activation='relu'))\n",
    "clf.add(Dropout(rate=0.2))\n",
    "clf.add(Dense(output_dim =10  , kernel_initializer = 'uniform', activation='softmax'))"
   ]
  },
  {
   "cell_type": "code",
   "execution_count": 40,
   "metadata": {},
   "outputs": [],
   "source": [
    "clf.compile(optimizer= 'adam', loss='categorical_crossentropy', metrics = ['accuracy'])"
   ]
  },
  {
   "cell_type": "code",
   "execution_count": 41,
   "metadata": {},
   "outputs": [
    {
     "name": "stdout",
     "output_type": "stream",
     "text": [
      "Train on 5000 samples, validate on 5000 samples\n",
      "Epoch 1/50\n",
      "5000/5000 [==============================] - 13s 3ms/step - loss: 1.2850 - acc: 0.6396 - val_loss: 0.2891 - val_acc: 0.9408\n",
      "Epoch 2/50\n",
      "5000/5000 [==============================] - 1s 167us/step - loss: 0.2251 - acc: 0.9402 - val_loss: 0.1580 - val_acc: 0.9608\n",
      "Epoch 3/50\n",
      "5000/5000 [==============================] - 1s 159us/step - loss: 0.1552 - acc: 0.9598 - val_loss: 0.1518 - val_acc: 0.9610\n",
      "Epoch 4/50\n",
      "5000/5000 [==============================] - 1s 182us/step - loss: 0.1364 - acc: 0.9638 - val_loss: 0.1515 - val_acc: 0.9620\n",
      "Epoch 5/50\n",
      "5000/5000 [==============================] - 1s 157us/step - loss: 0.1321 - acc: 0.9650 - val_loss: 0.1579 - val_acc: 0.9614\n",
      "Epoch 6/50\n",
      "5000/5000 [==============================] - 1s 153us/step - loss: 0.1179 - acc: 0.9680 - val_loss: 0.1503 - val_acc: 0.9626\n",
      "Epoch 7/50\n",
      "5000/5000 [==============================] - 1s 154us/step - loss: 0.1100 - acc: 0.9732 - val_loss: 0.1623 - val_acc: 0.9630\n",
      "Epoch 8/50\n",
      "5000/5000 [==============================] - 1s 153us/step - loss: 0.1095 - acc: 0.9718 - val_loss: 0.1579 - val_acc: 0.9618\n",
      "Epoch 9/50\n",
      "5000/5000 [==============================] - 1s 157us/step - loss: 0.1004 - acc: 0.9726 - val_loss: 0.1605 - val_acc: 0.9628\n",
      "Epoch 10/50\n",
      "5000/5000 [==============================] - 1s 169us/step - loss: 0.1033 - acc: 0.9730 - val_loss: 0.1628 - val_acc: 0.9622\n",
      "Epoch 11/50\n",
      "5000/5000 [==============================] - 1s 174us/step - loss: 0.0942 - acc: 0.9752 - val_loss: 0.1623 - val_acc: 0.9632\n",
      "Epoch 12/50\n",
      "5000/5000 [==============================] - 1s 180us/step - loss: 0.0984 - acc: 0.9736 - val_loss: 0.1690 - val_acc: 0.9634\n",
      "Epoch 13/50\n",
      "5000/5000 [==============================] - 1s 175us/step - loss: 0.0898 - acc: 0.9756 - val_loss: 0.1661 - val_acc: 0.9628\n",
      "Epoch 14/50\n",
      "5000/5000 [==============================] - 1s 173us/step - loss: 0.0915 - acc: 0.9764 - val_loss: 0.1683 - val_acc: 0.9626\n",
      "Epoch 15/50\n",
      "5000/5000 [==============================] - 1s 171us/step - loss: 0.0850 - acc: 0.9780 - val_loss: 0.1689 - val_acc: 0.9632\n",
      "Epoch 16/50\n",
      "5000/5000 [==============================] - 1s 153us/step - loss: 0.0840 - acc: 0.9784 - val_loss: 0.1772 - val_acc: 0.9608\n",
      "Epoch 17/50\n",
      "5000/5000 [==============================] - 1s 153us/step - loss: 0.0827 - acc: 0.9790 - val_loss: 0.1821 - val_acc: 0.9610\n",
      "Epoch 18/50\n",
      "5000/5000 [==============================] - 1s 165us/step - loss: 0.0735 - acc: 0.9804 - val_loss: 0.1812 - val_acc: 0.9632\n",
      "Epoch 19/50\n",
      "5000/5000 [==============================] - 1s 157us/step - loss: 0.0787 - acc: 0.9820 - val_loss: 0.1729 - val_acc: 0.9636\n",
      "Epoch 20/50\n",
      "5000/5000 [==============================] - 1s 153us/step - loss: 0.0753 - acc: 0.9802 - val_loss: 0.1715 - val_acc: 0.9628\n",
      "Epoch 21/50\n",
      "5000/5000 [==============================] - 1s 151us/step - loss: 0.0778 - acc: 0.9794 - val_loss: 0.1736 - val_acc: 0.9630\n",
      "Epoch 22/50\n",
      "5000/5000 [==============================] - 1s 151us/step - loss: 0.0668 - acc: 0.9828 - val_loss: 0.1920 - val_acc: 0.9616\n",
      "Epoch 23/50\n",
      "5000/5000 [==============================] - 1s 151us/step - loss: 0.0656 - acc: 0.9832 - val_loss: 0.1826 - val_acc: 0.9636\n",
      "Epoch 24/50\n",
      "5000/5000 [==============================] - 1s 151us/step - loss: 0.0770 - acc: 0.9810 - val_loss: 0.1925 - val_acc: 0.9638\n",
      "Epoch 25/50\n",
      "5000/5000 [==============================] - 1s 150us/step - loss: 0.0712 - acc: 0.9796 - val_loss: 0.1886 - val_acc: 0.9646\n",
      "Epoch 26/50\n",
      "5000/5000 [==============================] - 1s 159us/step - loss: 0.0730 - acc: 0.9804 - val_loss: 0.1893 - val_acc: 0.9606\n",
      "Epoch 27/50\n",
      "5000/5000 [==============================] - 1s 151us/step - loss: 0.0722 - acc: 0.9810 - val_loss: 0.1846 - val_acc: 0.9638\n",
      "Epoch 28/50\n",
      "5000/5000 [==============================] - 1s 151us/step - loss: 0.0633 - acc: 0.9832 - val_loss: 0.2007 - val_acc: 0.9636\n",
      "Epoch 29/50\n",
      "5000/5000 [==============================] - 1s 155us/step - loss: 0.0666 - acc: 0.9820 - val_loss: 0.1899 - val_acc: 0.9644\n",
      "Epoch 30/50\n",
      "5000/5000 [==============================] - 1s 152us/step - loss: 0.0615 - acc: 0.9814 - val_loss: 0.1934 - val_acc: 0.9636\n",
      "Epoch 31/50\n",
      "5000/5000 [==============================] - 1s 152us/step - loss: 0.0664 - acc: 0.9838 - val_loss: 0.1897 - val_acc: 0.9638\n",
      "Epoch 32/50\n",
      "5000/5000 [==============================] - 1s 152us/step - loss: 0.0654 - acc: 0.9820 - val_loss: 0.1982 - val_acc: 0.9634\n",
      "Epoch 33/50\n",
      "5000/5000 [==============================] - 1s 162us/step - loss: 0.0601 - acc: 0.9836 - val_loss: 0.1925 - val_acc: 0.9648\n",
      "Epoch 34/50\n",
      "5000/5000 [==============================] - 1s 157us/step - loss: 0.0586 - acc: 0.9836 - val_loss: 0.1944 - val_acc: 0.9648\n",
      "Epoch 35/50\n",
      "5000/5000 [==============================] - 1s 153us/step - loss: 0.0539 - acc: 0.9856 - val_loss: 0.1986 - val_acc: 0.9642\n",
      "Epoch 36/50\n",
      "5000/5000 [==============================] - 1s 161us/step - loss: 0.0620 - acc: 0.9834 - val_loss: 0.2034 - val_acc: 0.9652\n",
      "Epoch 37/50\n",
      "5000/5000 [==============================] - 1s 150us/step - loss: 0.0703 - acc: 0.9820 - val_loss: 0.1893 - val_acc: 0.9648\n",
      "Epoch 38/50\n",
      "5000/5000 [==============================] - 1s 150us/step - loss: 0.0537 - acc: 0.9846 - val_loss: 0.1952 - val_acc: 0.9640\n",
      "Epoch 39/50\n",
      "5000/5000 [==============================] - 1s 152us/step - loss: 0.0609 - acc: 0.9834 - val_loss: 0.1957 - val_acc: 0.9654\n",
      "Epoch 40/50\n",
      "5000/5000 [==============================] - 1s 152us/step - loss: 0.0534 - acc: 0.9838 - val_loss: 0.1975 - val_acc: 0.9642\n",
      "Epoch 41/50\n",
      "5000/5000 [==============================] - 1s 151us/step - loss: 0.0538 - acc: 0.9858 - val_loss: 0.2034 - val_acc: 0.9654\n",
      "Epoch 42/50\n",
      "5000/5000 [==============================] - 1s 151us/step - loss: 0.0527 - acc: 0.9844 - val_loss: 0.2235 - val_acc: 0.9630\n",
      "Epoch 43/50\n",
      "5000/5000 [==============================] - 1s 151us/step - loss: 0.0553 - acc: 0.9840 - val_loss: 0.2139 - val_acc: 0.9646\n",
      "Epoch 44/50\n",
      "5000/5000 [==============================] - 1s 151us/step - loss: 0.0549 - acc: 0.9848 - val_loss: 0.2106 - val_acc: 0.9630\n",
      "Epoch 45/50\n",
      "5000/5000 [==============================] - 1s 155us/step - loss: 0.0578 - acc: 0.9844 - val_loss: 0.2025 - val_acc: 0.9646\n",
      "Epoch 46/50\n",
      "5000/5000 [==============================] - 1s 156us/step - loss: 0.0526 - acc: 0.9844 - val_loss: 0.2134 - val_acc: 0.9622\n",
      "Epoch 47/50\n",
      "5000/5000 [==============================] - 1s 158us/step - loss: 0.0491 - acc: 0.9856 - val_loss: 0.2177 - val_acc: 0.9626\n",
      "Epoch 48/50\n",
      "5000/5000 [==============================] - 1s 165us/step - loss: 0.0476 - acc: 0.9852 - val_loss: 0.2266 - val_acc: 0.9642\n",
      "Epoch 49/50\n",
      "5000/5000 [==============================] - 1s 160us/step - loss: 0.0544 - acc: 0.9838 - val_loss: 0.2141 - val_acc: 0.9630\n",
      "Epoch 50/50\n",
      "5000/5000 [==============================] - 1s 156us/step - loss: 0.0473 - acc: 0.9864 - val_loss: 0.2144 - val_acc: 0.9630\n"
     ]
    }
   ],
   "source": [
    "with tf.device('/gpu:0'):\n",
    "    history = clf.fit(X_train_pca, y_train_enc, batch_size=32, epochs=50, validation_data=(X_test_pca,y_test_enc))"
   ]
  },
  {
   "cell_type": "code",
   "execution_count": 42,
   "metadata": {},
   "outputs": [],
   "source": [
    "model_json = clf.to_json()\n",
    "with open(\"model.json\", \"w\") as json_file:\n",
    "    json_file.write(model_json)\n",
    "# serialize weights to HDF5\n",
    "clf.save_weights(\"model.h5\")"
   ]
  },
  {
   "cell_type": "markdown",
   "metadata": {},
   "source": [
    "## Evaluation"
   ]
  },
  {
   "cell_type": "code",
   "execution_count": 43,
   "metadata": {},
   "outputs": [],
   "source": [
    "y_pred_test_label = clf.predict(X_test_pca)\n",
    "y_pred_train_label = clf.predict(X_train_pca)"
   ]
  },
  {
   "cell_type": "code",
   "execution_count": 44,
   "metadata": {},
   "outputs": [],
   "source": [
    "y_pred_test = np.argmax(y_pred_test_label, axis=1)\n",
    "y_pred_train = np.argmax(y_pred_train_label, axis=1)"
   ]
  },
  {
   "cell_type": "code",
   "execution_count": 45,
   "metadata": {},
   "outputs": [],
   "source": [
    "y_train_true = y_train_int.astype(np.int)\n",
    "y_test_true = y_test_int.astype(np.int)"
   ]
  },
  {
   "cell_type": "markdown",
   "metadata": {},
   "source": [
    "## Graph Plot"
   ]
  },
  {
   "cell_type": "markdown",
   "metadata": {},
   "source": [
    "### Model Accuracy Graph"
   ]
  },
  {
   "cell_type": "code",
   "execution_count": 46,
   "metadata": {},
   "outputs": [
    {
     "data": {
      "image/png": "[encoded data removed]",
      "text/plain": [
       "<Figure size 432x288 with 1 Axes>"
      ]
     },
     "metadata": {},
     "output_type": "display_data"
    }
   ],
   "source": [
    "plt.plot(history.history['acc'])\n",
    "plt.plot(history.history['val_acc'])\n",
    "plt.title('model accuracy')\n",
    "plt.ylabel('accuracy')\n",
    "plt.xlabel('epoch')\n",
    "plt.legend(['train', 'test'], loc='upper left')\n",
    "plt.show()"
   ]
  },
  {
   "cell_type": "markdown",
   "metadata": {},
   "source": [
    "### Model Loss Graph"
   ]
  },
  {
   "cell_type": "code",
   "execution_count": 47,
   "metadata": {},
   "outputs": [
    {
     "data": {
      "image/png": "[encoded data removed]",
      "text/plain": [
       "<Figure size 432x288 with 1 Axes>"
      ]
     },
     "metadata": {},
     "output_type": "display_data"
    }
   ],
   "source": [
    "# summarize history for loss\n",
    "plt.plot(history.history['loss'])\n",
    "plt.plot(history.history['val_loss'])\n",
    "plt.title('model loss')\n",
    "plt.ylabel('loss')\n",
    "plt.xlabel('epoch')\n",
    "plt.legend(['train', 'test'], loc='upper left')\n",
    "plt.show()"
   ]
  },
  {
   "cell_type": "markdown",
   "metadata": {},
   "source": [
    "## Classification Report"
   ]
  },
  {
   "cell_type": "code",
   "execution_count": 48,
   "metadata": {},
   "outputs": [],
   "source": [
    "from sklearn.metrics import classification_report"
   ]
  },
  {
   "cell_type": "markdown",
   "metadata": {},
   "source": [
    "#### Train Data report"
   ]
  },
  {
   "cell_type": "code",
   "execution_count": 49,
   "metadata": {},
   "outputs": [
    {
     "name": "stdout",
     "output_type": "stream",
     "text": [
      "             precision    recall  f1-score   support\n",
      "\n",
      "          0       0.94      1.00      0.97       500\n",
      "          1       0.99      0.99      0.99       500\n",
      "          2       1.00      0.99      0.99       500\n",
      "          3       1.00      0.99      0.99       500\n",
      "          4       1.00      1.00      1.00       500\n",
      "          5       1.00      1.00      1.00       500\n",
      "          6       1.00      0.98      0.99       500\n",
      "          7       1.00      1.00      1.00       500\n",
      "          8       1.00      1.00      1.00       500\n",
      "          9       1.00      0.98      0.99       500\n",
      "\n",
      "avg / total       0.99      0.99      0.99      5000\n",
      "\n"
     ]
    }
   ],
   "source": [
    "print(classification_report(y_train_true, y_pred_train))"
   ]
  },
  {
   "cell_type": "markdown",
   "metadata": {},
   "source": [
    "#### Test Data Report"
   ]
  },
  {
   "cell_type": "code",
   "execution_count": 50,
   "metadata": {},
   "outputs": [
    {
     "name": "stdout",
     "output_type": "stream",
     "text": [
      "             precision    recall  f1-score   support\n",
      "\n",
      "          0       0.83      0.96      0.89       500\n",
      "          1       0.97      0.94      0.95       500\n",
      "          2       0.96      0.96      0.96       500\n",
      "          3       0.99      0.97      0.98       500\n",
      "          4       0.99      0.99      0.99       500\n",
      "          5       1.00      1.00      1.00       500\n",
      "          6       1.00      0.94      0.97       500\n",
      "          7       0.99      0.98      0.99       500\n",
      "          8       0.96      0.95      0.96       500\n",
      "          9       0.97      0.93      0.95       500\n",
      "\n",
      "avg / total       0.97      0.96      0.96      5000\n",
      "\n"
     ]
    }
   ],
   "source": [
    "print(classification_report(y_test_true, y_pred_test))"
   ]
  },
  {
   "cell_type": "markdown",
   "metadata": {},
   "source": [
    "## Confusion Matrix"
   ]
  },
  {
   "cell_type": "code",
   "execution_count": 51,
   "metadata": {},
   "outputs": [],
   "source": [
    "from sklearn.metrics import confusion_matrix"
   ]
  },
  {
   "cell_type": "markdown",
   "metadata": {},
   "source": [
    "### Train data"
   ]
  },
  {
   "cell_type": "code",
   "execution_count": 52,
   "metadata": {},
   "outputs": [
    {
     "name": "stdout",
     "output_type": "stream",
     "text": [
      "[[499   4   4   7   2   0  11   1   2   2]\n",
      " [  0 495   1   0   0   0   0   0   0   6]\n",
      " [  0   0 494   0   0   0   0   0   0   2]\n",
      " [  0   0   0 493   0   0   0   0   0   0]\n",
      " [  0   1   1   0 498   0   0   0   0   0]\n",
      " [  0   0   0   0   0 500   0   0   0   0]\n",
      " [  1   0   0   0   0   0 489   0   0   0]\n",
      " [  0   0   0   0   0   0   0 499   0   0]\n",
      " [  0   0   0   0   0   0   0   0 498   0]\n",
      " [  0   0   0   0   0   0   0   0   0 490]]\n"
     ]
    }
   ],
   "source": [
    "print(confusion_matrix(y_pred_train, y_train_true))"
   ]
  },
  {
   "cell_type": "markdown",
   "metadata": {},
   "source": [
    "### Test data"
   ]
  },
  {
   "cell_type": "code",
   "execution_count": 53,
   "metadata": {},
   "outputs": [
    {
     "name": "stdout",
     "output_type": "stream",
     "text": [
      "[[481   8  12  15   2   0  24   7  20  12]\n",
      " [  0 471   2   0   0   0   0   0   0  15]\n",
      " [  1  12 482   0   0   0   1   0   1   5]\n",
      " [  3   0   1 483   0   0   1   0   1   0]\n",
      " [  0   1   0   0 494   0   0   0   1   2]\n",
      " [  0   0   0   0   0 500   0   1   0   0]\n",
      " [  2   0   0   0   0   0 471   0   0   0]\n",
      " [  2   0   0   1   0   0   1 491   0   0]\n",
      " [ 11   0   0   1   4   0   2   0 477   1]\n",
      " [  0   8   3   0   0   0   0   1   0 465]]\n"
     ]
    }
   ],
   "source": [
    "print(confusion_matrix(y_pred_test, y_test_true))"
   ]
  },
  {
   "cell_type": "markdown",
   "metadata": {},
   "source": [
    "### Making Single Prediction"
   ]
  },
  {
   "cell_type": "code",
   "execution_count": 54,
   "metadata": {},
   "outputs": [],
   "source": [
    "json_file = open('model.json', 'r')\n",
    "loaded_model_json = json_file.read()\n",
    "json_file.close()\n",
    "model = model_from_json(loaded_model_json)\n",
    "# load weights into new model\n",
    "model.load_weights(\"model.h5\")\n",
    "model.compile(optimizer= 'adam', loss='categorical_crossentropy', metrics = ['accuracy'])"
   ]
  },
  {
   "cell_type": "code",
   "execution_count": 55,
   "metadata": {},
   "outputs": [],
   "source": [
    "vectorizer = pickle.load(open('vectorizer.pkl', 'rb'))\n",
    "scaler = pickle.load(open('scaler.pkl', 'rb'))\n",
    "pca = pickle.load(open('pca.pkl', 'rb'))\n",
    "label2int = pickle.load(open('label2int.pkl', 'rb'))\n",
    "int2label = pickle.load(open('int2label.pkl', 'rb'))"
   ]
  },
  {
   "cell_type": "code",
   "execution_count": 56,
   "metadata": {},
   "outputs": [
    {
     "data": {
      "text/plain": [
       "0    à¤®à¥‡à¤°à¤¾ à¤¨à¤¾à¤® à¤œà¤¤à¤¿à¤¨ à¤¹à¥ˆ\n",
       "Name: 0, dtype: object"
      ]
     },
     "execution_count": 56,
     "metadata": {},
     "output_type": "execute_result"
    }
   ],
   "source": [
    "input_single = \"मेरा नाम जतिन है\"\n",
    "X_single = pd.DataFrame(data=[input_single], index=None)\n",
    "X_single.to_csv('input.csv', encoding='utf-8', sep='\\n', index=False,header=None)\n",
    "X_single = pd.read_fwf('input.csv', delimiter = '\\n', header = None, squeeze = True)\n",
    "X_single"
   ]
  },
  {
   "cell_type": "code",
   "execution_count": 57,
   "metadata": {},
   "outputs": [],
   "source": [
    "X_single = vectorizer.transform(X_single).toarray()\n",
    "X_single = pca.transform(X_single)\n",
    "y_pred_single = model.predict(X_single)"
   ]
  },
  {
   "cell_type": "code",
   "execution_count": 58,
   "metadata": {},
   "outputs": [
    {
     "data": {
      "text/plain": [
       "array([[0.02470022, 0.34201685, 0.25560242, 0.00734947, 0.06024221,\n",
       "        0.00180809, 0.00245256, 0.0036095 , 0.00436452, 0.2978542 ]],\n",
       "      dtype=float32)"
      ]
     },
     "execution_count": 58,
     "metadata": {},
     "output_type": "execute_result"
    }
   ],
   "source": [
    "y_pred_single"
   ]
  },
  {
   "cell_type": "code",
   "execution_count": 59,
   "metadata": {},
   "outputs": [],
   "source": [
    "y_pred_single_val = np.argmax(y_pred_single, axis=1)"
   ]
  },
  {
   "cell_type": "code",
   "execution_count": 60,
   "metadata": {},
   "outputs": [
    {
     "data": {
      "text/plain": [
       "'hin'"
      ]
     },
     "execution_count": 60,
     "metadata": {},
     "output_type": "execute_result"
    }
   ],
   "source": [
    "int2label[y_pred_single_val[0]]"
   ]
  }
 ],
 "metadata": {
  "kernelspec": {
   "display_name": "Python 3",
   "language": "python",
   "name": "python3"
  },
  "language_info": {
   "codemirror_mode": {
    "name": "ipython",
    "version": 3
   },
   "file_extension": ".py",
   "mimetype": "text/x-python",
   "name": "python",
   "nbconvert_exporter": "python",
   "pygments_lexer": "ipython3",
   "version": "3.6.5"
  }
 },
 "nbformat": 4,
 "nbformat_minor": 2
}
