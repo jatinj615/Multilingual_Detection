{
 "cells": [
  {
   "cell_type": "code",
   "execution_count": 1,
   "metadata": {},
   "outputs": [],
   "source": [
    "import numpy as np\n",
    "import pandas as pd"
   ]
  },
  {
   "cell_type": "code",
   "execution_count": 2,
   "metadata": {},
   "outputs": [],
   "source": [
    "df = pd.read_fwf('./wili dataset/x_train.txt', header=None)\n",
    "X_train = df[[0]]\n",
    "df = pd.read_fwf('./wili dataset/x_test.txt', header=None)\n",
    "X_test = df[[0]] "
   ]
  },
  {
   "cell_type": "code",
   "execution_count": 3,
   "metadata": {},
   "outputs": [],
   "source": [
    "target = pd.read_fwf('./wili dataset/y_train.txt',header = None)\n",
    "y_train = target[[0]]\n",
    "target = pd.read_fwf('./wili dataset/y_test.txt',header = None)\n",
    "y_test = target[[0]]"
   ]
  },
  {
   "cell_type": "code",
   "execution_count": 4,
   "metadata": {},
   "outputs": [],
   "source": [
    "y_train[y_train == 'be-tara'] = 'be-tarask'\n",
    "y_train[y_train == 'roa-tar'] = 'roa-tara'"
   ]
  },
  {
   "cell_type": "code",
   "execution_count": 5,
   "metadata": {},
   "outputs": [],
   "source": [
    "languages = ['eng', 'hin', 'mar', 'guj', 'tam', 'tcy', 'tel', 'pan', 'ben', 'mai']"
   ]
  },
  {
   "cell_type": "code",
   "execution_count": 6,
   "metadata": {},
   "outputs": [],
   "source": [
    "train_index = y_train.index[y_train[0].isin(languages)].tolist()"
   ]
  },
  {
   "cell_type": "code",
   "execution_count": 7,
   "metadata": {},
   "outputs": [],
   "source": [
    "test_index = y_test.index[y_test[0].isin(languages)].tolist()"
   ]
  },
  {
   "cell_type": "code",
   "execution_count": 8,
   "metadata": {},
   "outputs": [],
   "source": [
    "X_train_p = X_train.iloc[train_index,:]\n",
    "X_test_p = X_test.iloc[test_index,:]"
   ]
  },
  {
   "cell_type": "code",
   "execution_count": 9,
   "metadata": {},
   "outputs": [],
   "source": [
    "y_train_p = y_train.iloc[train_index, :]\n",
    "y_test_p = y_test.iloc[test_index, :]"
   ]
  },
  {
   "cell_type": "markdown",
   "metadata": {},
   "source": [
    "### Tokenize Labels"
   ]
  },
  {
   "cell_type": "code",
   "execution_count": 10,
   "metadata": {},
   "outputs": [],
   "source": [
    "label2int = {}\n",
    "counter = 0\n",
    "for label in languages:\n",
    "    if label not in label2int:\n",
    "        label2int[label] = counter\n",
    "    counter += 1"
   ]
  },
  {
   "cell_type": "markdown",
   "metadata": {},
   "source": [
    "### Tokenize target Variables"
   ]
  },
  {
   "cell_type": "code",
   "execution_count": 11,
   "metadata": {},
   "outputs": [],
   "source": [
    "y_train_int = []\n",
    "for label in y_train_p[0]:\n",
    "    y_train_int.append(label2int[label])"
   ]
  },
  {
   "cell_type": "code",
   "execution_count": 12,
   "metadata": {},
   "outputs": [],
   "source": [
    "y_test_int = []\n",
    "for label in y_test_p[0]:\n",
    "    y_test_int.append(label2int[label])"
   ]
  },
  {
   "cell_type": "markdown",
   "metadata": {},
   "source": [
    "### Data Preprocessing"
   ]
  },
  {
   "cell_type": "code",
   "execution_count": 13,
   "metadata": {},
   "outputs": [],
   "source": [
    "from sklearn.feature_extraction.text import TfidfVectorizer"
   ]
  },
  {
   "cell_type": "code",
   "execution_count": 14,
   "metadata": {},
   "outputs": [],
   "source": [
    "vectorizer = TfidfVectorizer(analyzer='char',min_df=25,lowercase=True, norm='l2')"
   ]
  },
  {
   "cell_type": "code",
   "execution_count": 15,
   "metadata": {},
   "outputs": [
    {
     "data": {
      "text/plain": [
       "TfidfVectorizer(analyzer='char', binary=False, decode_error='strict',\n",
       "        dtype=<class 'numpy.int64'>, encoding='utf-8', input='content',\n",
       "        lowercase=True, max_df=1.0, max_features=None, min_df=25,\n",
       "        ngram_range=(1, 1), norm='l2', preprocessor=None, smooth_idf=True,\n",
       "        stop_words=None, strip_accents=None, sublinear_tf=False,\n",
       "        token_pattern='(?u)\\\\b\\\\w\\\\w+\\\\b', tokenizer=None, use_idf=True,\n",
       "        vocabulary=None)"
      ]
     },
     "execution_count": 15,
     "metadata": {},
     "output_type": "execute_result"
    }
   ],
   "source": [
    "vectorizer.fit(X_train_p[0])"
   ]
  },
  {
   "cell_type": "code",
   "execution_count": 16,
   "metadata": {},
   "outputs": [],
   "source": [
    "X_train2int = vectorizer.transform(X_train_p[0]).toarray()"
   ]
  },
  {
   "cell_type": "code",
   "execution_count": 17,
   "metadata": {},
   "outputs": [],
   "source": [
    "X_test2int = vectorizer.transform(X_test_p[0]).toarray()"
   ]
  },
  {
   "cell_type": "markdown",
   "metadata": {},
   "source": [
    "### Scaler"
   ]
  },
  {
   "cell_type": "code",
   "execution_count": 18,
   "metadata": {},
   "outputs": [],
   "source": [
    "from sklearn.preprocessing import StandardScaler"
   ]
  },
  {
   "cell_type": "code",
   "execution_count": 19,
   "metadata": {},
   "outputs": [],
   "source": [
    "sc = StandardScaler()"
   ]
  },
  {
   "cell_type": "code",
   "execution_count": 20,
   "metadata": {},
   "outputs": [
    {
     "data": {
      "text/plain": [
       "StandardScaler(copy=True, with_mean=True, with_std=True)"
      ]
     },
     "execution_count": 20,
     "metadata": {},
     "output_type": "execute_result"
    }
   ],
   "source": [
    "sc.fit(X_train2int)"
   ]
  },
  {
   "cell_type": "code",
   "execution_count": 21,
   "metadata": {},
   "outputs": [],
   "source": [
    "X_train2int_sc = sc.transform(X_train2int)\n",
    "X_test2int_sc = sc.transform(X_test2int)"
   ]
  },
  {
   "cell_type": "markdown",
   "metadata": {},
   "source": [
    "### PCA"
   ]
  },
  {
   "cell_type": "code",
   "execution_count": 22,
   "metadata": {},
   "outputs": [],
   "source": [
    "from sklearn.decomposition import PCA"
   ]
  },
  {
   "cell_type": "code",
   "execution_count": 23,
   "metadata": {},
   "outputs": [],
   "source": [
    "pca = PCA(n_components=80)"
   ]
  },
  {
   "cell_type": "code",
   "execution_count": 24,
   "metadata": {},
   "outputs": [
    {
     "data": {
      "text/plain": [
       "PCA(copy=True, iterated_power='auto', n_components=80, random_state=None,\n",
       "  svd_solver='auto', tol=0.0, whiten=False)"
      ]
     },
     "execution_count": 24,
     "metadata": {},
     "output_type": "execute_result"
    }
   ],
   "source": [
    "pca.fit(X_train2int_sc)"
   ]
  },
  {
   "cell_type": "code",
   "execution_count": 25,
   "metadata": {},
   "outputs": [],
   "source": [
    "X_train_pca = pca.transform(X_train2int_sc)"
   ]
  },
  {
   "cell_type": "code",
   "execution_count": 26,
   "metadata": {},
   "outputs": [],
   "source": [
    "X_test_pca = pca.transform(X_test2int_sc)"
   ]
  },
  {
   "cell_type": "code",
   "execution_count": 27,
   "metadata": {},
   "outputs": [],
   "source": [
    "import matplotlib.pyplot as plt"
   ]
  },
  {
   "cell_type": "code",
   "execution_count": 28,
   "metadata": {},
   "outputs": [
    {
     "data": {
      "image/png": "[encoded data removed]",
      "text/plain": [
       "<Figure size 432x288 with 1 Axes>"
      ]
     },
     "metadata": {},
     "output_type": "display_data"
    }
   ],
   "source": [
    "plt.plot(np.cumsum(pca.explained_variance_ratio_)*100)\n",
    "plt.xlabel(\"No. of components\")\n",
    "plt.ylabel(\"cummulative explained Variance\");"
   ]
  },
  {
   "cell_type": "markdown",
   "metadata": {},
   "source": [
    "### One Hot Encoding"
   ]
  },
  {
   "cell_type": "code",
   "execution_count": 30,
   "metadata": {},
   "outputs": [],
   "source": [
    "from sklearn.preprocessing import OneHotEncoder"
   ]
  },
  {
   "cell_type": "code",
   "execution_count": 31,
   "metadata": {},
   "outputs": [],
   "source": [
    "y_train_int = np.array(y_train_int).reshape(-1, 1)\n",
    "y_test_int = np.array(y_test_int).reshape(-1, 1)"
   ]
  },
  {
   "cell_type": "code",
   "execution_count": 32,
   "metadata": {},
   "outputs": [],
   "source": [
    "enc = OneHotEncoder()"
   ]
  },
  {
   "cell_type": "code",
   "execution_count": 34,
   "metadata": {},
   "outputs": [
    {
     "data": {
      "text/plain": [
       "OneHotEncoder(categorical_features='all', dtype=<class 'numpy.float64'>,\n",
       "       handle_unknown='error', n_values='auto', sparse=True)"
      ]
     },
     "execution_count": 34,
     "metadata": {},
     "output_type": "execute_result"
    }
   ],
   "source": [
    "enc.fit(y_train_int)"
   ]
  },
  {
   "cell_type": "code",
   "execution_count": 35,
   "metadata": {},
   "outputs": [],
   "source": [
    "y_train_enc = enc.transform(y_train_int)\n",
    "y_test_enc = enc.transform(y_test_int)"
   ]
  },
  {
   "cell_type": "markdown",
   "metadata": {},
   "source": [
    "## Design ANN"
   ]
  },
  {
   "cell_type": "code",
   "execution_count": 62,
   "metadata": {},
   "outputs": [],
   "source": [
    "import tensorflow as tf\n",
    "from keras.models import Sequential\n",
    "from keras.layers import Dense\n",
    "from keras.layers import Dropout"
   ]
  },
  {
   "cell_type": "code",
   "execution_count": 64,
   "metadata": {},
   "outputs": [
    {
     "name": "stderr",
     "output_type": "stream",
     "text": [
      "C:\\Users\\Jatin\\Anaconda3\\lib\\site-packages\\ipykernel_launcher.py:2: UserWarning: Update your `Dense` call to the Keras 2 API: `Dense(kernel_initializer=\"uniform\", activation=\"relu\", input_dim=80, units=60)`\n",
      "  \n",
      "C:\\Users\\Jatin\\Anaconda3\\lib\\site-packages\\ipykernel_launcher.py:4: UserWarning: Update your `Dense` call to the Keras 2 API: `Dense(kernel_initializer=\"uniform\", activation=\"relu\", units=60)`\n",
      "  after removing the cwd from sys.path.\n",
      "C:\\Users\\Jatin\\Anaconda3\\lib\\site-packages\\ipykernel_launcher.py:6: UserWarning: Update your `Dense` call to the Keras 2 API: `Dense(kernel_initializer=\"uniform\", activation=\"relu\", units=130)`\n",
      "  \n",
      "C:\\Users\\Jatin\\Anaconda3\\lib\\site-packages\\ipykernel_launcher.py:8: UserWarning: Update your `Dense` call to the Keras 2 API: `Dense(kernel_initializer=\"uniform\", activation=\"softmax\", units=10)`\n",
      "  \n"
     ]
    }
   ],
   "source": [
    "clf = Sequential()\n",
    "clf.add(Dense(output_dim = 60, kernel_initializer = 'uniform', activation='relu', input_dim = 80))\n",
    "clf.add(Dropout(rate=0.2))\n",
    "clf.add(Dense(output_dim = 60, kernel_initializer = 'uniform', activation='relu'))\n",
    "clf.add(Dropout(rate=0.2))\n",
    "clf.add(Dense(output_dim = 130, kernel_initializer = 'uniform', activation='relu'))\n",
    "clf.add(Dropout(rate=0.2))\n",
    "clf.add(Dense(output_dim =10  , kernel_initializer = 'uniform', activation='softmax'))"
   ]
  },
  {
   "cell_type": "code",
   "execution_count": 65,
   "metadata": {},
   "outputs": [],
   "source": [
    "clf.compile(optimizer= 'adam', loss='categorical_crossentropy', metrics = ['accuracy'])"
   ]
  },
  {
   "cell_type": "code",
   "execution_count": 66,
   "metadata": {},
   "outputs": [
    {
     "name": "stdout",
     "output_type": "stream",
     "text": [
      "Train on 5000 samples, validate on 5000 samples\n",
      "Epoch 1/100\n",
      "5000/5000 [==============================] - 2s 382us/step - loss: 0.7606 - acc: 0.7690 - val_loss: 0.1566 - val_acc: 0.9596\n",
      "Epoch 2/100\n",
      "5000/5000 [==============================] - 2s 316us/step - loss: 0.1597 - acc: 0.9604 - val_loss: 0.1524 - val_acc: 0.9622\n",
      "Epoch 3/100\n",
      "5000/5000 [==============================] - 2s 311us/step - loss: 0.1300 - acc: 0.9682 - val_loss: 0.1491 - val_acc: 0.9634\n",
      "Epoch 4/100\n",
      "5000/5000 [==============================] - 2s 312us/step - loss: 0.1230 - acc: 0.9684 - val_loss: 0.1428 - val_acc: 0.9630\n",
      "Epoch 5/100\n",
      "5000/5000 [==============================] - 2s 318us/step - loss: 0.1160 - acc: 0.9690 - val_loss: 0.1622 - val_acc: 0.9630\n",
      "Epoch 6/100\n",
      "5000/5000 [==============================] - 2s 317us/step - loss: 0.1067 - acc: 0.9734 - val_loss: 0.1574 - val_acc: 0.9644\n",
      "Epoch 7/100\n",
      "5000/5000 [==============================] - 2s 314us/step - loss: 0.1025 - acc: 0.9710 - val_loss: 0.1635 - val_acc: 0.9618\n",
      "Epoch 8/100\n",
      "5000/5000 [==============================] - 2s 320us/step - loss: 0.0952 - acc: 0.9746 - val_loss: 0.1717 - val_acc: 0.9626\n",
      "Epoch 9/100\n",
      "5000/5000 [==============================] - 2s 327us/step - loss: 0.1001 - acc: 0.9744 - val_loss: 0.1628 - val_acc: 0.9622\n",
      "Epoch 10/100\n",
      "5000/5000 [==============================] - 2s 326us/step - loss: 0.0939 - acc: 0.9752 - val_loss: 0.1607 - val_acc: 0.9642\n",
      "Epoch 11/100\n",
      "5000/5000 [==============================] - 2s 323us/step - loss: 0.0929 - acc: 0.9768 - val_loss: 0.1739 - val_acc: 0.9626\n",
      "Epoch 12/100\n",
      "5000/5000 [==============================] - 2s 316us/step - loss: 0.0862 - acc: 0.9776 - val_loss: 0.1866 - val_acc: 0.9602\n",
      "Epoch 13/100\n",
      "5000/5000 [==============================] - 2s 312us/step - loss: 0.0847 - acc: 0.9776 - val_loss: 0.1763 - val_acc: 0.9634\n",
      "Epoch 14/100\n",
      "5000/5000 [==============================] - 2s 314us/step - loss: 0.0798 - acc: 0.9782 - val_loss: 0.1589 - val_acc: 0.9646\n",
      "Epoch 15/100\n",
      "5000/5000 [==============================] - 2s 314us/step - loss: 0.0879 - acc: 0.9768 - val_loss: 0.1771 - val_acc: 0.9614\n",
      "Epoch 16/100\n",
      "5000/5000 [==============================] - 2s 314us/step - loss: 0.0825 - acc: 0.9788 - val_loss: 0.1808 - val_acc: 0.9616\n",
      "Epoch 17/100\n",
      "5000/5000 [==============================] - 2s 314us/step - loss: 0.0682 - acc: 0.9814 - val_loss: 0.1872 - val_acc: 0.9640\n",
      "Epoch 18/100\n",
      "5000/5000 [==============================] - 2s 314us/step - loss: 0.0711 - acc: 0.9800 - val_loss: 0.1802 - val_acc: 0.9636\n",
      "Epoch 19/100\n",
      "5000/5000 [==============================] - 2s 314us/step - loss: 0.0706 - acc: 0.9816 - val_loss: 0.1960 - val_acc: 0.9636\n",
      "Epoch 20/100\n",
      "5000/5000 [==============================] - 2s 314us/step - loss: 0.0709 - acc: 0.9786 - val_loss: 0.1835 - val_acc: 0.9658\n",
      "Epoch 21/100\n",
      "5000/5000 [==============================] - 2s 317us/step - loss: 0.0686 - acc: 0.9804 - val_loss: 0.1888 - val_acc: 0.9642\n",
      "Epoch 22/100\n",
      "5000/5000 [==============================] - 2s 314us/step - loss: 0.0720 - acc: 0.9796 - val_loss: 0.1849 - val_acc: 0.9636\n",
      "Epoch 23/100\n",
      "5000/5000 [==============================] - 2s 315us/step - loss: 0.0734 - acc: 0.9790 - val_loss: 0.1743 - val_acc: 0.9660\n",
      "Epoch 24/100\n",
      "5000/5000 [==============================] - 2s 315us/step - loss: 0.0652 - acc: 0.9820 - val_loss: 0.1781 - val_acc: 0.9640\n",
      "Epoch 25/100\n",
      "5000/5000 [==============================] - 2s 315us/step - loss: 0.0630 - acc: 0.9812 - val_loss: 0.1865 - val_acc: 0.9662\n",
      "Epoch 26/100\n",
      "5000/5000 [==============================] - 2s 315us/step - loss: 0.0676 - acc: 0.9824 - val_loss: 0.1863 - val_acc: 0.9638\n",
      "Epoch 27/100\n",
      "5000/5000 [==============================] - 2s 315us/step - loss: 0.0585 - acc: 0.9826 - val_loss: 0.1945 - val_acc: 0.9594\n",
      "Epoch 28/100\n",
      "5000/5000 [==============================] - 2s 315us/step - loss: 0.0588 - acc: 0.9828 - val_loss: 0.1928 - val_acc: 0.9630\n",
      "Epoch 29/100\n",
      "5000/5000 [==============================] - 2s 316us/step - loss: 0.0639 - acc: 0.9834 - val_loss: 0.1863 - val_acc: 0.9634\n",
      "Epoch 30/100\n",
      "5000/5000 [==============================] - 2s 315us/step - loss: 0.0597 - acc: 0.9832 - val_loss: 0.1911 - val_acc: 0.9648\n",
      "Epoch 31/100\n",
      "5000/5000 [==============================] - 2s 315us/step - loss: 0.0628 - acc: 0.9834 - val_loss: 0.2003 - val_acc: 0.9624\n",
      "Epoch 32/100\n",
      "5000/5000 [==============================] - 2s 314us/step - loss: 0.0623 - acc: 0.9826 - val_loss: 0.2000 - val_acc: 0.9618\n",
      "Epoch 33/100\n",
      "5000/5000 [==============================] - 2s 311us/step - loss: 0.0572 - acc: 0.9844 - val_loss: 0.2122 - val_acc: 0.9624\n",
      "Epoch 34/100\n",
      "5000/5000 [==============================] - 2s 314us/step - loss: 0.0539 - acc: 0.9860 - val_loss: 0.2299 - val_acc: 0.9606\n",
      "Epoch 35/100\n",
      "5000/5000 [==============================] - 2s 314us/step - loss: 0.0563 - acc: 0.9848 - val_loss: 0.2199 - val_acc: 0.9616\n",
      "Epoch 36/100\n",
      "5000/5000 [==============================] - 2s 314us/step - loss: 0.0595 - acc: 0.9840 - val_loss: 0.2207 - val_acc: 0.9618\n",
      "Epoch 37/100\n",
      "5000/5000 [==============================] - 2s 313us/step - loss: 0.0579 - acc: 0.9832 - val_loss: 0.2161 - val_acc: 0.9624\n",
      "Epoch 38/100\n",
      "5000/5000 [==============================] - 2s 311us/step - loss: 0.0528 - acc: 0.9846 - val_loss: 0.2288 - val_acc: 0.9624\n",
      "Epoch 39/100\n",
      "5000/5000 [==============================] - 2s 314us/step - loss: 0.0493 - acc: 0.9854 - val_loss: 0.2284 - val_acc: 0.9638\n",
      "Epoch 40/100\n",
      "5000/5000 [==============================] - 2s 314us/step - loss: 0.0582 - acc: 0.9838 - val_loss: 0.2210 - val_acc: 0.9628\n",
      "Epoch 41/100\n",
      "5000/5000 [==============================] - 2s 315us/step - loss: 0.0428 - acc: 0.9860 - val_loss: 0.2211 - val_acc: 0.9614\n",
      "Epoch 42/100\n",
      "5000/5000 [==============================] - 2s 314us/step - loss: 0.0454 - acc: 0.9864 - val_loss: 0.2197 - val_acc: 0.9636\n",
      "Epoch 43/100\n",
      "5000/5000 [==============================] - 2s 314us/step - loss: 0.0502 - acc: 0.9844 - val_loss: 0.2406 - val_acc: 0.9604\n",
      "Epoch 44/100\n",
      "5000/5000 [==============================] - 2s 314us/step - loss: 0.0474 - acc: 0.9866 - val_loss: 0.2236 - val_acc: 0.9602\n",
      "Epoch 45/100\n",
      "5000/5000 [==============================] - 2s 315us/step - loss: 0.0568 - acc: 0.9828 - val_loss: 0.2221 - val_acc: 0.9618\n",
      "Epoch 46/100\n",
      "5000/5000 [==============================] - 2s 316us/step - loss: 0.0493 - acc: 0.9846 - val_loss: 0.2306 - val_acc: 0.9608\n",
      "Epoch 47/100\n",
      "5000/5000 [==============================] - 2s 316us/step - loss: 0.0371 - acc: 0.9888 - val_loss: 0.2255 - val_acc: 0.9630\n",
      "Epoch 48/100\n",
      "5000/5000 [==============================] - 2s 314us/step - loss: 0.0469 - acc: 0.9864 - val_loss: 0.2351 - val_acc: 0.9624\n",
      "Epoch 49/100\n",
      "5000/5000 [==============================] - 2s 314us/step - loss: 0.0428 - acc: 0.9876 - val_loss: 0.2475 - val_acc: 0.9616\n",
      "Epoch 50/100\n",
      "5000/5000 [==============================] - 2s 318us/step - loss: 0.0476 - acc: 0.9854 - val_loss: 0.2451 - val_acc: 0.9626\n",
      "Epoch 51/100\n",
      "5000/5000 [==============================] - 2s 315us/step - loss: 0.0403 - acc: 0.9866 - val_loss: 0.2619 - val_acc: 0.9608\n",
      "Epoch 52/100\n",
      "5000/5000 [==============================] - 2s 315us/step - loss: 0.0433 - acc: 0.9858 - val_loss: 0.2572 - val_acc: 0.9630\n",
      "Epoch 53/100\n",
      "5000/5000 [==============================] - 2s 317us/step - loss: 0.0484 - acc: 0.9862 - val_loss: 0.2534 - val_acc: 0.9622\n",
      "Epoch 54/100\n",
      "5000/5000 [==============================] - 2s 316us/step - loss: 0.0480 - acc: 0.9842 - val_loss: 0.2538 - val_acc: 0.9630\n",
      "Epoch 55/100\n",
      "5000/5000 [==============================] - 2s 315us/step - loss: 0.0366 - acc: 0.9876 - val_loss: 0.2609 - val_acc: 0.9618\n",
      "Epoch 56/100\n",
      "5000/5000 [==============================] - 2s 315us/step - loss: 0.0492 - acc: 0.9856 - val_loss: 0.2431 - val_acc: 0.9614\n",
      "Epoch 57/100\n",
      "5000/5000 [==============================] - 2s 314us/step - loss: 0.0389 - acc: 0.9876 - val_loss: 0.2529 - val_acc: 0.9636\n",
      "Epoch 58/100\n",
      "5000/5000 [==============================] - 2s 316us/step - loss: 0.0388 - acc: 0.9870 - val_loss: 0.2499 - val_acc: 0.9638\n",
      "Epoch 59/100\n",
      "5000/5000 [==============================] - 2s 316us/step - loss: 0.0315 - acc: 0.9892 - val_loss: 0.2527 - val_acc: 0.9628\n",
      "Epoch 60/100\n"
     ]
    },
    {
     "name": "stdout",
     "output_type": "stream",
     "text": [
      "5000/5000 [==============================] - 2s 310us/step - loss: 0.0381 - acc: 0.9890 - val_loss: 0.2573 - val_acc: 0.9648\n",
      "Epoch 61/100\n",
      "5000/5000 [==============================] - 2s 310us/step - loss: 0.0392 - acc: 0.9870 - val_loss: 0.2716 - val_acc: 0.9640\n",
      "Epoch 62/100\n",
      "5000/5000 [==============================] - 2s 309us/step - loss: 0.0309 - acc: 0.9904 - val_loss: 0.2641 - val_acc: 0.9614\n",
      "Epoch 63/100\n",
      "5000/5000 [==============================] - 2s 310us/step - loss: 0.0392 - acc: 0.9880 - val_loss: 0.2725 - val_acc: 0.9606\n",
      "Epoch 64/100\n",
      "5000/5000 [==============================] - 2s 310us/step - loss: 0.0404 - acc: 0.9880 - val_loss: 0.2658 - val_acc: 0.9622\n",
      "Epoch 65/100\n",
      "5000/5000 [==============================] - 2s 310us/step - loss: 0.0413 - acc: 0.9884 - val_loss: 0.2435 - val_acc: 0.9638\n",
      "Epoch 66/100\n",
      "5000/5000 [==============================] - 2s 310us/step - loss: 0.0340 - acc: 0.9906 - val_loss: 0.2489 - val_acc: 0.9606\n",
      "Epoch 67/100\n",
      "5000/5000 [==============================] - 2s 310us/step - loss: 0.0323 - acc: 0.9904 - val_loss: 0.2594 - val_acc: 0.9616\n",
      "Epoch 68/100\n",
      "5000/5000 [==============================] - 2s 311us/step - loss: 0.0503 - acc: 0.9876 - val_loss: 0.2413 - val_acc: 0.9636\n",
      "Epoch 69/100\n",
      "5000/5000 [==============================] - 2s 311us/step - loss: 0.0268 - acc: 0.9892 - val_loss: 0.2533 - val_acc: 0.9622\n",
      "Epoch 70/100\n",
      "5000/5000 [==============================] - 2s 311us/step - loss: 0.0441 - acc: 0.9866 - val_loss: 0.2556 - val_acc: 0.9606\n",
      "Epoch 71/100\n",
      "5000/5000 [==============================] - 2s 311us/step - loss: 0.0414 - acc: 0.9878 - val_loss: 0.2407 - val_acc: 0.9652\n",
      "Epoch 72/100\n",
      "5000/5000 [==============================] - 2s 311us/step - loss: 0.0298 - acc: 0.9906 - val_loss: 0.2571 - val_acc: 0.9626\n",
      "Epoch 73/100\n",
      "5000/5000 [==============================] - 2s 319us/step - loss: 0.0365 - acc: 0.9892 - val_loss: 0.2457 - val_acc: 0.9644\n",
      "Epoch 74/100\n",
      "5000/5000 [==============================] - 2s 313us/step - loss: 0.0303 - acc: 0.9910 - val_loss: 0.2572 - val_acc: 0.9634\n",
      "Epoch 75/100\n",
      "5000/5000 [==============================] - 2s 312us/step - loss: 0.0343 - acc: 0.9896 - val_loss: 0.2570 - val_acc: 0.9646\n",
      "Epoch 76/100\n",
      "5000/5000 [==============================] - 2s 314us/step - loss: 0.0380 - acc: 0.9892 - val_loss: 0.2503 - val_acc: 0.9636\n",
      "Epoch 77/100\n",
      "5000/5000 [==============================] - 2s 315us/step - loss: 0.0347 - acc: 0.9914 - val_loss: 0.2560 - val_acc: 0.9626\n",
      "Epoch 78/100\n",
      "5000/5000 [==============================] - 2s 315us/step - loss: 0.0364 - acc: 0.9900 - val_loss: 0.2566 - val_acc: 0.9628\n",
      "Epoch 79/100\n",
      "5000/5000 [==============================] - 2s 312us/step - loss: 0.0320 - acc: 0.9896 - val_loss: 0.2833 - val_acc: 0.9614\n",
      "Epoch 80/100\n",
      "5000/5000 [==============================] - 2s 312us/step - loss: 0.0303 - acc: 0.9908 - val_loss: 0.2452 - val_acc: 0.9650\n",
      "Epoch 81/100\n",
      "5000/5000 [==============================] - 2s 314us/step - loss: 0.0346 - acc: 0.9888 - val_loss: 0.2637 - val_acc: 0.9642\n",
      "Epoch 82/100\n",
      "5000/5000 [==============================] - 2s 313us/step - loss: 0.0372 - acc: 0.9904 - val_loss: 0.2583 - val_acc: 0.9630\n",
      "Epoch 83/100\n",
      "5000/5000 [==============================] - 2s 313us/step - loss: 0.0328 - acc: 0.9902 - val_loss: 0.2594 - val_acc: 0.9618\n",
      "Epoch 84/100\n",
      "5000/5000 [==============================] - 2s 314us/step - loss: 0.0333 - acc: 0.9896 - val_loss: 0.2597 - val_acc: 0.9624\n",
      "Epoch 85/100\n",
      "5000/5000 [==============================] - 2s 315us/step - loss: 0.0355 - acc: 0.9892 - val_loss: 0.2512 - val_acc: 0.9642\n",
      "Epoch 86/100\n",
      "5000/5000 [==============================] - 2s 315us/step - loss: 0.0225 - acc: 0.9930 - val_loss: 0.2675 - val_acc: 0.9642\n",
      "Epoch 87/100\n",
      "5000/5000 [==============================] - 2s 314us/step - loss: 0.0284 - acc: 0.9898 - val_loss: 0.2709 - val_acc: 0.9644\n",
      "Epoch 88/100\n",
      "5000/5000 [==============================] - 2s 326us/step - loss: 0.0219 - acc: 0.9932 - val_loss: 0.2653 - val_acc: 0.9652\n",
      "Epoch 89/100\n",
      "5000/5000 [==============================] - 2s 337us/step - loss: 0.0282 - acc: 0.9906 - val_loss: 0.2680 - val_acc: 0.9634\n",
      "Epoch 90/100\n",
      "5000/5000 [==============================] - 2s 335us/step - loss: 0.0231 - acc: 0.9924 - val_loss: 0.2621 - val_acc: 0.9580\n",
      "Epoch 91/100\n",
      "5000/5000 [==============================] - 2s 324us/step - loss: 0.0252 - acc: 0.9914 - val_loss: 0.2640 - val_acc: 0.9626\n",
      "Epoch 92/100\n",
      "5000/5000 [==============================] - 2s 329us/step - loss: 0.0426 - acc: 0.9880 - val_loss: 0.2649 - val_acc: 0.9622\n",
      "Epoch 93/100\n",
      "5000/5000 [==============================] - 2s 330us/step - loss: 0.0391 - acc: 0.9868 - val_loss: 0.2625 - val_acc: 0.9608\n",
      "Epoch 94/100\n",
      "5000/5000 [==============================] - 2s 329us/step - loss: 0.0307 - acc: 0.9892 - val_loss: 0.2693 - val_acc: 0.9624\n",
      "Epoch 95/100\n",
      "5000/5000 [==============================] - 2s 324us/step - loss: 0.0286 - acc: 0.9912 - val_loss: 0.2657 - val_acc: 0.9630\n",
      "Epoch 96/100\n",
      "5000/5000 [==============================] - 2s 322us/step - loss: 0.0343 - acc: 0.9884 - val_loss: 0.2647 - val_acc: 0.9622\n",
      "Epoch 97/100\n",
      "5000/5000 [==============================] - 2s 327us/step - loss: 0.0331 - acc: 0.9914 - val_loss: 0.2795 - val_acc: 0.9624\n",
      "Epoch 98/100\n",
      "5000/5000 [==============================] - 2s 326us/step - loss: 0.0209 - acc: 0.9936 - val_loss: 0.2760 - val_acc: 0.9642\n",
      "Epoch 99/100\n",
      "5000/5000 [==============================] - 2s 324us/step - loss: 0.0261 - acc: 0.9924 - val_loss: 0.2828 - val_acc: 0.9652\n",
      "Epoch 100/100\n",
      "5000/5000 [==============================] - 2s 322us/step - loss: 0.0268 - acc: 0.9918 - val_loss: 0.2973 - val_acc: 0.9638\n"
     ]
    }
   ],
   "source": [
    "with tf.device('/gpu:0'):\n",
    "    history = clf.fit(X_train_pca, y_train_enc, batch_size=16, epochs=100, validation_data=(X_test_pca,y_test_enc))"
   ]
  },
  {
   "cell_type": "markdown",
   "metadata": {},
   "source": [
    "## Evaluation"
   ]
  },
  {
   "cell_type": "code",
   "execution_count": 67,
   "metadata": {},
   "outputs": [],
   "source": [
    "y_pred_test_label = clf.predict(X_test_pca)\n",
    "y_pred_train_label = clf.predict(X_train_pca)"
   ]
  },
  {
   "cell_type": "code",
   "execution_count": 68,
   "metadata": {},
   "outputs": [],
   "source": [
    "y_pred_test = np.argmax(y_pred_test_label, axis=1)\n",
    "y_pred_train = np.argmax(y_pred_train_label, axis=1)"
   ]
  },
  {
   "cell_type": "code",
   "execution_count": 69,
   "metadata": {},
   "outputs": [],
   "source": [
    "y_train_true = y_train_int.astype(np.int)\n",
    "y_test_true = y_test_int.astype(np.int)"
   ]
  },
  {
   "cell_type": "markdown",
   "metadata": {},
   "source": [
    "## Graph Plot"
   ]
  },
  {
   "cell_type": "markdown",
   "metadata": {},
   "source": [
    "### Model Accuracy Graph"
   ]
  },
  {
   "cell_type": "code",
   "execution_count": 70,
   "metadata": {},
   "outputs": [
    {
     "data": {
      "image/png": "[encoded data removed]",
      "text/plain": [
       "<Figure size 432x288 with 1 Axes>"
      ]
     },
     "metadata": {},
     "output_type": "display_data"
    }
   ],
   "source": [
    "plt.plot(history.history['acc'])\n",
    "plt.plot(history.history['val_acc'])\n",
    "plt.title('model accuracy')\n",
    "plt.ylabel('accuracy')\n",
    "plt.xlabel('epoch')\n",
    "plt.legend(['train', 'test'], loc='upper left')\n",
    "plt.show()"
   ]
  },
  {
   "cell_type": "markdown",
   "metadata": {},
   "source": [
    "### Model Loss Graph"
   ]
  },
  {
   "cell_type": "code",
   "execution_count": 71,
   "metadata": {},
   "outputs": [
    {
     "data": {
      "image/png": "[encoded data removed]",
      "text/plain": [
       "<Figure size 432x288 with 1 Axes>"
      ]
     },
     "metadata": {},
     "output_type": "display_data"
    }
   ],
   "source": [
    "# summarize history for loss\n",
    "plt.plot(history.history['loss'])\n",
    "plt.plot(history.history['val_loss'])\n",
    "plt.title('model loss')\n",
    "plt.ylabel('loss')\n",
    "plt.xlabel('epoch')\n",
    "plt.legend(['train', 'test'], loc='upper left')\n",
    "plt.show()"
   ]
  },
  {
   "cell_type": "markdown",
   "metadata": {},
   "source": [
    "## Classification Report"
   ]
  },
  {
   "cell_type": "code",
   "execution_count": 72,
   "metadata": {},
   "outputs": [],
   "source": [
    "from sklearn.metrics import classification_report"
   ]
  },
  {
   "cell_type": "markdown",
   "metadata": {},
   "source": [
    "#### Train Data report"
   ]
  },
  {
   "cell_type": "code",
   "execution_count": 73,
   "metadata": {},
   "outputs": [
    {
     "name": "stdout",
     "output_type": "stream",
     "text": [
      "             precision    recall  f1-score   support\n",
      "\n",
      "          0       0.98      1.00      0.99       500\n",
      "          1       1.00      1.00      1.00       500\n",
      "          2       1.00      1.00      1.00       500\n",
      "          3       1.00      0.99      0.99       500\n",
      "          4       1.00      1.00      1.00       500\n",
      "          5       1.00      1.00      1.00       500\n",
      "          6       1.00      1.00      1.00       500\n",
      "          7       1.00      1.00      1.00       500\n",
      "          8       1.00      1.00      1.00       500\n",
      "          9       1.00      1.00      1.00       500\n",
      "\n",
      "avg / total       1.00      1.00      1.00      5000\n",
      "\n"
     ]
    }
   ],
   "source": [
    "print(classification_report(y_train_true, y_pred_train))"
   ]
  },
  {
   "cell_type": "markdown",
   "metadata": {},
   "source": [
    "#### Test Data Report"
   ]
  },
  {
   "cell_type": "code",
   "execution_count": 74,
   "metadata": {},
   "outputs": [
    {
     "name": "stdout",
     "output_type": "stream",
     "text": [
      "             precision    recall  f1-score   support\n",
      "\n",
      "          0       0.83      0.97      0.89       500\n",
      "          1       0.97      0.93      0.95       500\n",
      "          2       0.95      0.96      0.96       500\n",
      "          3       0.99      0.97      0.98       500\n",
      "          4       1.00      0.98      0.99       500\n",
      "          5       0.99      1.00      0.99       500\n",
      "          6       0.98      0.95      0.96       500\n",
      "          7       1.00      0.98      0.99       500\n",
      "          8       0.98      0.95      0.97       500\n",
      "          9       0.97      0.94      0.96       500\n",
      "\n",
      "avg / total       0.97      0.96      0.96      5000\n",
      "\n"
     ]
    }
   ],
   "source": [
    "print(classification_report(y_test_true, y_pred_test))"
   ]
  },
  {
   "cell_type": "markdown",
   "metadata": {},
   "source": [
    "## Confusion Matrix"
   ]
  },
  {
   "cell_type": "code",
   "execution_count": 75,
   "metadata": {},
   "outputs": [],
   "source": [
    "from sklearn.metrics import confusion_matrix"
   ]
  },
  {
   "cell_type": "markdown",
   "metadata": {},
   "source": [
    "### Train data"
   ]
  },
  {
   "cell_type": "code",
   "execution_count": 76,
   "metadata": {},
   "outputs": [
    {
     "name": "stdout",
     "output_type": "stream",
     "text": [
      "[[500   0   2   5   0   0   1   1   2   1]\n",
      " [  0 500   0   0   0   0   0   0   0   1]\n",
      " [  0   0 498   0   0   0   0   0   0   0]\n",
      " [  0   0   0 495   0   0   0   0   0   0]\n",
      " [  0   0   0   0 500   0   0   0   0   0]\n",
      " [  0   0   0   0   0 500   0   0   0   0]\n",
      " [  0   0   0   0   0   0 499   0   0   0]\n",
      " [  0   0   0   0   0   0   0 499   0   0]\n",
      " [  0   0   0   0   0   0   0   0 498   0]\n",
      " [  0   0   0   0   0   0   0   0   0 498]]\n"
     ]
    }
   ],
   "source": [
    "print(confusion_matrix(y_pred_train, y_train_true))"
   ]
  },
  {
   "cell_type": "markdown",
   "metadata": {},
   "source": [
    "### Test data"
   ]
  },
  {
   "cell_type": "code",
   "execution_count": 77,
   "metadata": {},
   "outputs": [
    {
     "name": "stdout",
     "output_type": "stream",
     "text": [
      "[[483   8  14  16   4   0  24   6  16  12]\n",
      " [  0 467   1   0   0   0   0   0   1  11]\n",
      " [  2  15 479   0   1   0   0   0   1   4]\n",
      " [  2   0   0 484   0   0   0   0   1   0]\n",
      " [  1   0   0   0 492   0   0   1   0   0]\n",
      " [  0   0   0   0   1 500   2   0   2   1]\n",
      " [  8   1   0   0   0   0 473   0   0   0]\n",
      " [  0   0   0   0   0   0   1 492   0   0]\n",
      " [  4   1   1   0   2   0   0   0 477   0]\n",
      " [  0   8   5   0   0   0   0   1   2 472]]\n"
     ]
    }
   ],
   "source": [
    "print(confusion_matrix(y_pred_test, y_test_true))"
   ]
  }
 ],
 "metadata": {
  "kernelspec": {
   "display_name": "Python 3",
   "language": "python",
   "name": "python3"
  },
  "language_info": {
   "codemirror_mode": {
    "name": "ipython",
    "version": 3
   },
   "file_extension": ".py",
   "mimetype": "text/x-python",
   "name": "python",
   "nbconvert_exporter": "python",
   "pygments_lexer": "ipython3",
   "version": "3.6.5"
  }
 },
 "nbformat": 4,
 "nbformat_minor": 2
}
